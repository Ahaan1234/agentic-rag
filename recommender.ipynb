{
 "cells": [
  {
   "cell_type": "markdown",
   "id": "34ba543c",
   "metadata": {},
   "source": [
    "Building a recommendation system that scrapes online comic book aggregators and suggests other relevant titles. \n",
    "\n",
    "Plan:\n",
    "1. PlannerAgent: decomposes the user request (“recommend me titles similar to X”) into steps.\n",
    "2. CrawlerAgent: uses WebFetchTool + ParseTool (+ a SiteAdapter) to get raw lists (title, genres, rating, summary).\n",
    "3. ClassifierAgent: normalizes genres, cleans ratings, embeds descriptions\n",
    "4. RecommenderAgent: Given a title, find top-k similar titles"
   ]
  },
  {
   "cell_type": "code",
   "execution_count": null,
   "id": "8853e04e",
   "metadata": {
    "vscode": {
     "languageId": "plaintext"
    }
   },
   "outputs": [],
   "source": [
    "from pydantic install"
   ]
  }
 ],
 "metadata": {
  "language_info": {
   "name": "python"
  }
 },
 "nbformat": 4,
 "nbformat_minor": 5
}
