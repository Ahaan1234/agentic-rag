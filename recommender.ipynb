{
 "cells": [
  {
   "cell_type": "markdown",
   "id": "34ba543c",
   "metadata": {},
   "source": [
    "Building a recommendation system that scrapes online comic book aggregators and suggests other relevant titles. \n",
    "\n",
    "Plan:\n",
    "1. PlannerAgent: decomposes the user request (“recommend me titles similar to X”) into steps.\n",
    "2. CrawlerAgent: uses WebFetchTool + ParseTool (+ a SiteAdapter) to get raw lists (title, genres, rating, summary).\n",
    "3. ClassifierAgent: normalizes genres, cleans ratings, embeds descriptions\n",
    "4. RecommenderAgent: Given a title, find top-k similar titles"
   ]
  },
  {
   "cell_type": "code",
   "execution_count": 12,
   "id": "8853e04e",
   "metadata": {},
   "outputs": [],
   "source": [
    "from pydantic import BaseModel\n",
    "from typing import List, Optional\n",
    "\n",
    "ANILIST_API = \"https://graphql.anilist.co\"\n",
    "\n",
    "class Book(BaseModel):\n",
    "    id: int\n",
    "    title: str\n",
    "    url: str\n",
    "    genres: List[str]\n",
    "    avg_score: Optional[float] = None\n",
    "    popularity: Optional[int] = None\n",
    "    desc: Optional[str] = None"
   ]
  },
  {
   "cell_type": "code",
   "execution_count": 19,
   "id": "427e59d9",
   "metadata": {},
   "outputs": [],
   "source": [
    "from smolagents import tool\n",
    "import httpx\n",
    "\n",
    "ANILIST_QUERY = \"\"\"\n",
    "query ($page: Int = 1, $perPage: Int = 10, $search: String) {\n",
    "  Page(page: $page, perPage: $perPage) {\n",
    "    media(\n",
    "      type: MANGA\n",
    "      countryOfOrigin: KR\n",
    "      search: $search\n",
    "      sort: POPULARITY_DESC\n",
    "    ) {\n",
    "      id\n",
    "      title { romaji english native }\n",
    "      genres\n",
    "      averageScore\n",
    "      popularity\n",
    "      siteUrl\n",
    "      description(asHtml: false)\n",
    "      format\n",
    "    }\n",
    "  }\n",
    "}\n",
    "\"\"\"\n",
    "\n",
    "@tool\n",
    "def search_manhwa(search: str, page: int = 1, per_page: int = 20) -> list[dict]:\n",
    "    \"\"\"\n",
    "    Query AniList for Korean manhwa via GraphQL and return structured results.\n",
    "\n",
    "    Args:\n",
    "        search (str): Free-text title filter (can be empty for broad discovery).\n",
    "        page (int): Page number for pagination.\n",
    "        per_page (int): Number of results per page.\n",
    "\n",
    "    Returns:\n",
    "        list[dict]: Plain-dict representation of manhwa objects\n",
    "    \"\"\"\n",
    "\n",
    "    gql_vars = {\n",
    "        \"page\": page,\n",
    "        \"perPage\": per_page,\n",
    "        \"search\": None if not search.strip() else search\n",
    "    }\n",
    "\n",
    "    payload = {\"query\": ANILIST_QUERY, \"variables\": gql_vars}\n",
    "\n",
    "    with httpx.Client(timeout=20) as client:\n",
    "        r = client.post(ANILIST_API, json=payload)\n",
    "        r.raise_for_status()\n",
    "        media = r.json()[\"data\"][\"Page\"][\"media\"]\n",
    "\n",
    "    results = []\n",
    "    for m in media:\n",
    "        results.append(\n",
    "            dict(\n",
    "                id=m[\"id\"],\n",
    "                title=m[\"title\"][\"english\"] or m[\"title\"][\"romaji\"] or m[\"title\"][\"native\"],\n",
    "                url=m[\"siteUrl\"],\n",
    "                genres=m.get(\"genres\", []),\n",
    "                average_score=m.get(\"averageScore\"),\n",
    "                popularity=m.get(\"popularity\"),\n",
    "                description=m.get(\"description\"),\n",
    "            )\n",
    "        )\n",
    "    return results"
   ]
  },
  {
   "cell_type": "code",
   "execution_count": 20,
   "id": "abea2561",
   "metadata": {},
   "outputs": [],
   "source": [
    "BOOK_DB: list[Book] = []\n",
    "\n",
    "@tool\n",
    "def upsert_manhwa(items: list[dict]) -> int :\n",
    "    \"\"\"\n",
    "    Insert (naively) a list of Manhwa into memory.\n",
    "\n",
    "    Args:\n",
    "        items (list[Manhwa]): Parsed manhwa objects.\n",
    "\n",
    "    Returns:\n",
    "        int: Number of manhwas inserted.\n",
    "    \"\"\"\n",
    "    for rec in items:\n",
    "        BOOK_DB.append(\n",
    "            Book(**rec)  # convert back to Pydantic for internal use\n",
    "        )\n",
    "\n",
    "\n",
    "    return len(items)\n",
    "\n",
    "@tool\n",
    "def get_by_genre(genre: str, min_score: int = 70, top_k: int = 10, allow_no_score: bool = True) -> list[Book]:\n",
    "    \"\"\"\n",
    "    Returns up to top_k manhwa matching genre and above a minimum AniList score. \n",
    "\n",
    "    Args:\n",
    "        genre (str): Genre to match (case-insensitive substring).\n",
    "        min_score (int): Minimum averageScore on AniList (0-100).\n",
    "        top_k (int): Max number of results.\n",
    "        allow_no_score (bool): allow unscored manhwa in search.\n",
    "\n",
    "    Returns:\n",
    "        list[Manhwa]: Filtered, score-descending list.\n",
    "    \"\"\"\n",
    "    g = genre.lower()\n",
    "    matches = [m for m in BOOK_DB if any(g in gg.lower() for gg in m.genres) and (m.average_score or 0) >= min_score]\n",
    "\n",
    "    if allow_no_score:\n",
    "        no_score = [\n",
    "            m for m in BOOK_DB\n",
    "            if any(g in gg.lower() for gg in m.genres)\n",
    "            and m.average_score is None\n",
    "        ]\n",
    "        matches.extend(no_score)\n",
    "\n",
    "\n",
    "    matches.sort(key=lambda x: (x.avg_score or 0, x.popularity or 0), reverse=True)\n",
    "    return matches[:top_k]"
   ]
  },
  {
   "cell_type": "code",
   "execution_count": 21,
   "id": "895cb63c",
   "metadata": {},
   "outputs": [],
   "source": [
    "import os\n",
    "from smolagents import LiteLLMModel, ToolCallingAgent\n",
    "\n",
    "model = LiteLLMModel(model_id=\"gemini/gemini-2.0-flash-lite\", api_key=os.getenv(\"GEMINI_API_KEY\"))\n",
    "\n",
    "fetch_agent = ToolCallingAgent(\n",
    "    name=\"fetch_agent\",\n",
    "    description=\"pulls manhwa from AniList and stores them.\",\n",
    "    tools=[search_manhwa, upsert_manhwa],\n",
    "    model=model\n",
    ")\n",
    "\n",
    "reco_agent = ToolCallingAgent(\n",
    "    name=\"recommender_agent\",\n",
    "    description=\"given a genre (and optional min score), recommends top manhwa\",\n",
    "    tools=[get_by_genre],\n",
    "    model=model\n",
    ")"
   ]
  },
  {
   "cell_type": "code",
   "execution_count": 23,
   "id": "30b9ad66",
   "metadata": {},
   "outputs": [],
   "source": [
    "def planner(user_msg: str) -> str:\n",
    "    user_msg_low = user_msg.lower()\n",
    "    if \"crawl\" in user_msg_low or \"index\" in user_msg_low or \"search\" in user_msg_low:\n",
    "        return fetch_agent.run(\n",
    "            \"Use anilist_search_manhwa(search='null') for a broad discovery, page=1, per_page=50. \"\n",
    "            \"Then call upsert_manhwa with the results and return how many were inserted.\"\n",
    "        )\n",
    "\n",
    "    return reco_agent.run(\n",
    "        f\"Call get_by_genre with genre inferred from: '{user_msg}'. \"\n",
    "        \"If a minimum score is not specified, default to 75. Then present the top 5 cleanly.\"\n",
    "    )"
   ]
  },
  {
   "cell_type": "code",
   "execution_count": 24,
   "id": "067f267f",
   "metadata": {},
   "outputs": [
    {
     "data": {
      "text/html": [
       "<pre style=\"white-space:pre;overflow-x:auto;line-height:normal;font-family:Menlo,'DejaVu Sans Mono',consolas,'Courier New',monospace\"><span style=\"color: #d4b702; text-decoration-color: #d4b702\">╭───────────────────────────────────────────── </span><span style=\"color: #d4b702; text-decoration-color: #d4b702; font-weight: bold\">New run - fetch_agent</span><span style=\"color: #d4b702; text-decoration-color: #d4b702\"> ─────────────────────────────────────────────╮</span>\n",
       "<span style=\"color: #d4b702; text-decoration-color: #d4b702\">│</span>                                                                                                                 <span style=\"color: #d4b702; text-decoration-color: #d4b702\">│</span>\n",
       "<span style=\"color: #d4b702; text-decoration-color: #d4b702\">│</span> <span style=\"font-weight: bold\">Use anilist_search_manhwa(search='null') for a broad discovery, page=1, per_page=50. Then call upsert_manhwa </span>   <span style=\"color: #d4b702; text-decoration-color: #d4b702\">│</span>\n",
       "<span style=\"color: #d4b702; text-decoration-color: #d4b702\">│</span> <span style=\"font-weight: bold\">with the results and return how many were inserted.</span>                                                             <span style=\"color: #d4b702; text-decoration-color: #d4b702\">│</span>\n",
       "<span style=\"color: #d4b702; text-decoration-color: #d4b702\">│</span>                                                                                                                 <span style=\"color: #d4b702; text-decoration-color: #d4b702\">│</span>\n",
       "<span style=\"color: #d4b702; text-decoration-color: #d4b702\">╰─ LiteLLMModel - gemini/gemini-2.0-flash-lite ───────────────────────────────────────────────────────────────────╯</span>\n",
       "</pre>\n"
      ],
      "text/plain": [
       "\u001b[38;2;212;183;2m╭─\u001b[0m\u001b[38;2;212;183;2m────────────────────────────────────────────\u001b[0m\u001b[38;2;212;183;2m \u001b[0m\u001b[1;38;2;212;183;2mNew run - fetch_agent\u001b[0m\u001b[38;2;212;183;2m \u001b[0m\u001b[38;2;212;183;2m────────────────────────────────────────────\u001b[0m\u001b[38;2;212;183;2m─╮\u001b[0m\n",
       "\u001b[38;2;212;183;2m│\u001b[0m                                                                                                                 \u001b[38;2;212;183;2m│\u001b[0m\n",
       "\u001b[38;2;212;183;2m│\u001b[0m \u001b[1mUse anilist_search_manhwa(search='null') for a broad discovery, page=1, per_page=50. Then call upsert_manhwa \u001b[0m   \u001b[38;2;212;183;2m│\u001b[0m\n",
       "\u001b[38;2;212;183;2m│\u001b[0m \u001b[1mwith the results and return how many were inserted.\u001b[0m                                                             \u001b[38;2;212;183;2m│\u001b[0m\n",
       "\u001b[38;2;212;183;2m│\u001b[0m                                                                                                                 \u001b[38;2;212;183;2m│\u001b[0m\n",
       "\u001b[38;2;212;183;2m╰─\u001b[0m\u001b[38;2;212;183;2m LiteLLMModel - gemini/gemini-2.0-flash-lite \u001b[0m\u001b[38;2;212;183;2m──────────────────────────────────────────────────────────────────\u001b[0m\u001b[38;2;212;183;2m─╯\u001b[0m\n"
      ]
     },
     "metadata": {},
     "output_type": "display_data"
    },
    {
     "data": {
      "text/html": [
       "<pre style=\"white-space:pre;overflow-x:auto;line-height:normal;font-family:Menlo,'DejaVu Sans Mono',consolas,'Courier New',monospace\"><span style=\"color: #d4b702; text-decoration-color: #d4b702\">━━━━━━━━━━━━━━━━━━━━━━━━━━━━━━━━━━━━━━━━━━━━━━━━━━━━━ </span><span style=\"font-weight: bold\">Step </span><span style=\"color: #008080; text-decoration-color: #008080; font-weight: bold\">1</span><span style=\"color: #d4b702; text-decoration-color: #d4b702\"> ━━━━━━━━━━━━━━━━━━━━━━━━━━━━━━━━━━━━━━━━━━━━━━━━━━━━━━</span>\n",
       "</pre>\n"
      ],
      "text/plain": [
       "\u001b[38;2;212;183;2m━━━━━━━━━━━━━━━━━━━━━━━━━━━━━━━━━━━━━━━━━━━━━━━━━━━━━ \u001b[0m\u001b[1mStep \u001b[0m\u001b[1;36m1\u001b[0m\u001b[38;2;212;183;2m ━━━━━━━━━━━━━━━━━━━━━━━━━━━━━━━━━━━━━━━━━━━━━━━━━━━━━━\u001b[0m\n"
      ]
     },
     "metadata": {},
     "output_type": "display_data"
    },
    {
     "data": {
      "text/html": [
       "<pre style=\"white-space:pre;overflow-x:auto;line-height:normal;font-family:Menlo,'DejaVu Sans Mono',consolas,'Courier New',monospace\">╭─────────────────────────────────────────────────────────────────────────────────────────────────────────────────╮\n",
       "│ Calling tool: 'search_manhwa' with arguments: {'per_page': 50, 'page': 1, 'search': 'null'}                     │\n",
       "╰─────────────────────────────────────────────────────────────────────────────────────────────────────────────────╯\n",
       "</pre>\n"
      ],
      "text/plain": [
       "╭─────────────────────────────────────────────────────────────────────────────────────────────────────────────────╮\n",
       "│ Calling tool: 'search_manhwa' with arguments: {'per_page': 50, 'page': 1, 'search': 'null'}                     │\n",
       "╰─────────────────────────────────────────────────────────────────────────────────────────────────────────────────╯\n"
      ]
     },
     "metadata": {},
     "output_type": "display_data"
    },
    {
     "data": {
      "text/html": [
       "<pre style=\"white-space:pre;overflow-x:auto;line-height:normal;font-family:Menlo,'DejaVu Sans Mono',consolas,'Courier New',monospace\">Observations: |<span style=\"font-weight: bold\">{</span><span style=\"color: #008000; text-decoration-color: #008000\">'id'</span>: <span style=\"color: #008080; text-decoration-color: #008080; font-weight: bold\">132120</span>, <span style=\"color: #008000; text-decoration-color: #008000\">'title'</span>: <span style=\"color: #008000; text-decoration-color: #008000\">'Full Volume'</span>, <span style=\"color: #008000; text-decoration-color: #008000\">'url'</span>: <span style=\"color: #008000; text-decoration-color: #008000\">'https://anilist.co/manga/132120'</span>, <span style=\"color: #008000; text-decoration-color: #008000\">'genres'</span>: \n",
       "|<span style=\"color: #008000; text-decoration-color: #008000\">'Comedy'</span>, <span style=\"color: #008000; text-decoration-color: #008000\">'Romance'</span>, <span style=\"color: #008000; text-decoration-color: #008000\">'Slice of Life'</span><span style=\"font-weight: bold\">]</span>, <span style=\"color: #008000; text-decoration-color: #008000\">'average_score'</span>: <span style=\"color: #008080; text-decoration-color: #008080; font-weight: bold\">73</span>, <span style=\"color: #008000; text-decoration-color: #008000\">'popularity'</span>: <span style=\"color: #008080; text-decoration-color: #008080; font-weight: bold\">4287</span>, <span style=\"color: #008000; text-decoration-color: #008000\">'description'</span>: <span style=\"color: #008000; text-decoration-color: #008000\">'Do-Won has a </span>\n",
       "<span style=\"color: #008000; text-decoration-color: #008000\">problem. His neighbor, Beom, seems awfully rude, but he’s infuriatingly gorgeous. And the completely ridiculous </span>\n",
       "<span style=\"color: #008000; text-decoration-color: #008000\">cherry on top? Beom turns out to be Do-Won’s all-time favorite camboy, which only adds to the (sexual) frustration.</span>\n",
       "<span style=\"color: #008000; text-decoration-color: #008000\">Beom is a metaphorical pain in Do-Won’s ass, and Do-Won would like to return the favor physically, thank you very </span>\n",
       "<span style=\"color: #008000; text-decoration-color: #008000\">much. So, Do-Won has a problem—in his pants. The question is, how is he going to solve it? You’ll find out the </span>\n",
       "<span style=\"color: #008000; text-decoration-color: #008000\">answer if you crank the volume up, and watch very, very closely…\\n&lt;br&gt;&lt;br&gt;\\n(Source: Lezhin)'</span><span style=\"color: #000000; text-decoration-color: #000000; font-weight: bold\">}</span><span style=\"color: #000000; text-decoration-color: #000000\">, </span><span style=\"color: #000000; text-decoration-color: #000000; font-weight: bold\">{</span><span style=\"color: #008000; text-decoration-color: #008000\">'id'</span><span style=\"color: #000000; text-decoration-color: #000000\">: </span><span style=\"color: #008080; text-decoration-color: #008080; font-weight: bold\">34770</span><span style=\"color: #000000; text-decoration-color: #000000\">, </span>\n",
       "<span style=\"color: #008000; text-decoration-color: #008000\">'title'</span><span style=\"color: #000000; text-decoration-color: #000000\">: </span><span style=\"color: #008000; text-decoration-color: #008000\">'Full House'</span><span style=\"color: #000000; text-decoration-color: #000000\">, </span><span style=\"color: #008000; text-decoration-color: #008000\">'url'</span><span style=\"color: #000000; text-decoration-color: #000000\">: </span><span style=\"color: #008000; text-decoration-color: #008000\">'https://anilist.co/manga/34770'</span><span style=\"color: #000000; text-decoration-color: #000000\">, </span><span style=\"color: #008000; text-decoration-color: #008000\">'genres'</span><span style=\"color: #000000; text-decoration-color: #000000\">: |</span><span style=\"color: #008000; text-decoration-color: #008000\">'Comedy'</span><span style=\"color: #000000; text-decoration-color: #000000\">, </span><span style=\"color: #008000; text-decoration-color: #008000\">'Romance'</span><span style=\"color: #000000; text-decoration-color: #000000; font-weight: bold\">]</span><span style=\"color: #000000; text-decoration-color: #000000\">, </span><span style=\"color: #008000; text-decoration-color: #008000\">'average_score'</span><span style=\"color: #000000; text-decoration-color: #000000\">: </span>\n",
       "<span style=\"color: #008080; text-decoration-color: #008080; font-weight: bold\">54</span><span style=\"color: #000000; text-decoration-color: #000000\">, </span><span style=\"color: #008000; text-decoration-color: #008000\">'popularity'</span><span style=\"color: #000000; text-decoration-color: #000000\">: </span><span style=\"color: #008080; text-decoration-color: #008080; font-weight: bold\">458</span><span style=\"color: #000000; text-decoration-color: #000000\">, </span><span style=\"color: #008000; text-decoration-color: #008000\">'description'</span><span style=\"color: #000000; text-decoration-color: #000000\">: </span><span style=\"color: #008000; text-decoration-color: #008000\">'Ellie is an aspiring screenwriter in London, far from her home in Korea. </span>\n",
       "<span style=\"color: #008000; text-decoration-color: #008000\">While her life is a bit lonely, her one comfort is Full House--the estate left to her by her recently deceased </span>\n",
       "<span style=\"color: #008000; text-decoration-color: #008000\">father and the only tangible memory of him she has left. Meanwhile, world famous actor Ryder Baye is the obsession </span>\n",
       "<span style=\"color: #008000; text-decoration-color: #008000\">of many a stalker and tabloid reporter. Ellie barely remembers who he is, until the day she is unceremoniously </span>\n",
       "<span style=\"color: #008000; text-decoration-color: #008000\">evicted. Somehow, Ryder Baye manages to purchase Full House. Ellie will stop at nothing to reclaim her home. Ryder </span>\n",
       "<span style=\"color: #008000; text-decoration-color: #008000\">vows to stand his ground and hold onto his new purchase. The battle for Full House is fiery, with tempers ranging </span>\n",
       "<span style=\"color: #008000; text-decoration-color: #008000\">and sparks flying. What are two enemies to do when there is an intense attraction burning just below the surface? </span>\n",
       "<span style=\"color: #008000; text-decoration-color: #008000\">Ellie and Ryder may discover that their explosive chemistry under the same roof may turn them into a happy </span>\n",
       "<span style=\"color: #008000; text-decoration-color: #008000\">couple...as long as they can refrain from killing each other!&lt;br&gt;&lt;br&gt;\\n(Source: Netcomics)'</span><span style=\"color: #000000; text-decoration-color: #000000; font-weight: bold\">}</span><span style=\"color: #000000; text-decoration-color: #000000\">, </span><span style=\"color: #000000; text-decoration-color: #000000; font-weight: bold\">{</span><span style=\"color: #008000; text-decoration-color: #008000\">'id'</span><span style=\"color: #000000; text-decoration-color: #000000\">: </span><span style=\"color: #008080; text-decoration-color: #008080; font-weight: bold\">85508</span><span style=\"color: #000000; text-decoration-color: #000000\">, </span>\n",
       "<span style=\"color: #008000; text-decoration-color: #008000\">'title'</span><span style=\"color: #000000; text-decoration-color: #000000\">: </span><span style=\"color: #008000; text-decoration-color: #008000\">'In Full Bloom'</span><span style=\"color: #000000; text-decoration-color: #000000\">, </span><span style=\"color: #008000; text-decoration-color: #008000\">'url'</span><span style=\"color: #000000; text-decoration-color: #000000\">: </span><span style=\"color: #008000; text-decoration-color: #008000\">'https://anilist.co/manga/85508'</span><span style=\"color: #000000; text-decoration-color: #000000\">, </span><span style=\"color: #008000; text-decoration-color: #008000\">'genres'</span><span style=\"color: #000000; text-decoration-color: #000000\">: |</span><span style=\"color: #008000; text-decoration-color: #008000\">'Drama'</span><span style=\"color: #000000; text-decoration-color: #000000\">, </span><span style=\"color: #008000; text-decoration-color: #008000\">'Psychological'</span><span style=\"color: #000000; text-decoration-color: #000000; font-weight: bold\">]</span><span style=\"color: #000000; text-decoration-color: #000000\">, </span>\n",
       "<span style=\"color: #008000; text-decoration-color: #008000\">'average_score'</span><span style=\"color: #000000; text-decoration-color: #000000\">: </span><span style=\"color: #800080; text-decoration-color: #800080; font-style: italic\">None</span><span style=\"color: #000000; text-decoration-color: #000000\">, </span><span style=\"color: #008000; text-decoration-color: #008000\">'popularity'</span><span style=\"color: #000000; text-decoration-color: #000000\">: </span><span style=\"color: #008080; text-decoration-color: #008080; font-weight: bold\">142</span><span style=\"color: #000000; text-decoration-color: #000000\">, </span><span style=\"color: #008000; text-decoration-color: #008000\">'description'</span><span style=\"color: #000000; text-decoration-color: #000000\">: </span><span style=\"color: #008000; text-decoration-color: #008000\">\"One ruler...One schemer...and...One assassin\\r\\n\\r\\nThe </span>\n",
       "<span style=\"color: #008000; text-decoration-color: #008000\">kingdom of Juushin is suffering at the hands of a cruel emperor. In order to stop his father's rule of tyranny, the</span>\n",
       "<span style=\"color: #008000; text-decoration-color: #008000\">crown prince will enlist the aid of a legendary assassin with reasons of her own for wanting the emperor dead.\"</span><span style=\"color: #000000; text-decoration-color: #000000; font-weight: bold\">}</span><span style=\"color: #000000; text-decoration-color: #000000\">, </span>\n",
       "<span style=\"color: #000000; text-decoration-color: #000000; font-weight: bold\">{</span><span style=\"color: #008000; text-decoration-color: #008000\">'id'</span><span style=\"color: #000000; text-decoration-color: #000000\">: </span><span style=\"color: #008080; text-decoration-color: #008080; font-weight: bold\">144445</span><span style=\"color: #000000; text-decoration-color: #000000\">, </span><span style=\"color: #008000; text-decoration-color: #008000\">'title'</span><span style=\"color: #000000; text-decoration-color: #000000\">: </span><span style=\"color: #008000; text-decoration-color: #008000\">'Blazing Sun'</span><span style=\"color: #000000; text-decoration-color: #000000\">, </span><span style=\"color: #008000; text-decoration-color: #008000\">'url'</span><span style=\"color: #000000; text-decoration-color: #000000\">: </span><span style=\"color: #008000; text-decoration-color: #008000\">'https://anilist.co/manga/144445'</span><span style=\"color: #000000; text-decoration-color: #000000\">, </span><span style=\"color: #008000; text-decoration-color: #008000\">'genres'</span><span style=\"color: #000000; text-decoration-color: #000000\">: |</span><span style=\"color: #008000; text-decoration-color: #008000\">'Drama'</span><span style=\"color: #000000; text-decoration-color: #000000\">, </span><span style=\"color: #008000; text-decoration-color: #008000\">'Hentai'</span><span style=\"color: #000000; text-decoration-color: #000000; font-weight: bold\">]</span><span style=\"color: #000000; text-decoration-color: #000000\">, </span>\n",
       "<span style=\"color: #008000; text-decoration-color: #008000\">'average_score'</span><span style=\"color: #000000; text-decoration-color: #000000\">: </span><span style=\"color: #800080; text-decoration-color: #800080; font-style: italic\">None</span><span style=\"color: #000000; text-decoration-color: #000000\">, </span><span style=\"color: #008000; text-decoration-color: #008000\">'popularity'</span><span style=\"color: #000000; text-decoration-color: #000000\">: </span><span style=\"color: #008080; text-decoration-color: #008080; font-weight: bold\">96</span><span style=\"color: #000000; text-decoration-color: #000000\">, </span><span style=\"color: #008000; text-decoration-color: #008000\">'description'</span><span style=\"color: #000000; text-decoration-color: #000000\">: </span><span style=\"color: #008000; text-decoration-color: #008000\">'“You may be rich, but that doesn’t mean you can just do </span>\n",
       "<span style=\"color: #008000; text-decoration-color: #008000\">whatever you want with others!” A young man with nothing to lose will do anything to rise to the </span>\n",
       "<span style=\"color: #008000; text-decoration-color: #008000\">top.&lt;br&gt;\\n&lt;br&gt;\\n(Source: TOPTOON+)'</span><span style=\"color: #000000; text-decoration-color: #000000; font-weight: bold\">}</span><span style=\"color: #000000; text-decoration-color: #000000\">, </span><span style=\"color: #000000; text-decoration-color: #000000; font-weight: bold\">{</span><span style=\"color: #008000; text-decoration-color: #008000\">'id'</span><span style=\"color: #000000; text-decoration-color: #000000\">: </span><span style=\"color: #008080; text-decoration-color: #008080; font-weight: bold\">137968</span><span style=\"color: #000000; text-decoration-color: #000000\">, </span><span style=\"color: #008000; text-decoration-color: #008000\">'title'</span><span style=\"color: #000000; text-decoration-color: #000000\">: </span><span style=\"color: #008000; text-decoration-color: #008000\">'Milmyeon Danggigo Danggimyeon Mireora'</span><span style=\"color: #000000; text-decoration-color: #000000\">, </span><span style=\"color: #008000; text-decoration-color: #008000\">'url'</span><span style=\"color: #000000; text-decoration-color: #000000\">: </span>\n",
       "<span style=\"color: #008000; text-decoration-color: #008000\">'https://anilist.co/manga/137968'</span><span style=\"color: #000000; text-decoration-color: #000000\">, </span><span style=\"color: #008000; text-decoration-color: #008000\">'genres'</span><span style=\"color: #000000; text-decoration-color: #000000\">: |</span><span style=\"color: #008000; text-decoration-color: #008000\">'Romance'</span><span style=\"color: #000000; text-decoration-color: #000000; font-weight: bold\">]</span><span style=\"color: #000000; text-decoration-color: #000000\">, </span><span style=\"color: #008000; text-decoration-color: #008000\">'average_score'</span><span style=\"color: #000000; text-decoration-color: #000000\">: </span><span style=\"color: #800080; text-decoration-color: #800080; font-style: italic\">None</span><span style=\"color: #000000; text-decoration-color: #000000\">, </span><span style=\"color: #008000; text-decoration-color: #008000\">'popularity'</span><span style=\"color: #000000; text-decoration-color: #000000\">: </span><span style=\"color: #008080; text-decoration-color: #008080; font-weight: bold\">74</span><span style=\"color: #000000; text-decoration-color: #000000\">, </span><span style=\"color: #008000; text-decoration-color: #008000\">'description'</span><span style=\"color: #000000; text-decoration-color: #000000\">: </span>\n",
       "<span style=\"color: #008000; text-decoration-color: #008000\">'Rahyeon, a passive student who usually has bad luck, manages to attend a prestigious college. But was it karma? On</span>\n",
       "<span style=\"color: #008000; text-decoration-color: #008000\">the first day of admission he gets involved with a very beautiful but crazy person...&lt;br&gt;&lt;br&gt;(Source: Lezhin, </span>\n",
       "<span style=\"color: #008000; text-decoration-color: #008000\">translated)'</span><span style=\"color: #000000; text-decoration-color: #000000; font-weight: bold\">}</span><span style=\"color: #000000; text-decoration-color: #000000\">, </span><span style=\"color: #000000; text-decoration-color: #000000; font-weight: bold\">{</span><span style=\"color: #008000; text-decoration-color: #008000\">'id'</span><span style=\"color: #000000; text-decoration-color: #000000\">: </span><span style=\"color: #008080; text-decoration-color: #008080; font-weight: bold\">168340</span><span style=\"color: #000000; text-decoration-color: #000000\">, </span><span style=\"color: #008000; text-decoration-color: #008000\">'title'</span><span style=\"color: #000000; text-decoration-color: #000000\">: </span><span style=\"color: #008000; text-decoration-color: #008000\">'Magnetic Pull'</span><span style=\"color: #000000; text-decoration-color: #000000\">, </span><span style=\"color: #008000; text-decoration-color: #008000\">'url'</span><span style=\"color: #000000; text-decoration-color: #000000\">: </span><span style=\"color: #008000; text-decoration-color: #008000\">'https://anilist.co/manga/168340'</span><span style=\"color: #000000; text-decoration-color: #000000\">, </span><span style=\"color: #008000; text-decoration-color: #008000\">'genres'</span><span style=\"color: #000000; text-decoration-color: #000000\">: </span>\n",
       "<span style=\"color: #000000; text-decoration-color: #000000\">|</span><span style=\"color: #008000; text-decoration-color: #008000\">'Drama'</span><span style=\"color: #000000; text-decoration-color: #000000\">, </span><span style=\"color: #008000; text-decoration-color: #008000\">'Hentai'</span><span style=\"color: #000000; text-decoration-color: #000000; font-weight: bold\">]</span><span style=\"color: #000000; text-decoration-color: #000000\">, </span><span style=\"color: #008000; text-decoration-color: #008000\">'average_score'</span><span style=\"color: #000000; text-decoration-color: #000000\">: </span><span style=\"color: #800080; text-decoration-color: #800080; font-style: italic\">None</span><span style=\"color: #000000; text-decoration-color: #000000\">, </span><span style=\"color: #008000; text-decoration-color: #008000\">'popularity'</span><span style=\"color: #000000; text-decoration-color: #000000\">: </span><span style=\"color: #008080; text-decoration-color: #008080; font-weight: bold\">71</span><span style=\"color: #000000; text-decoration-color: #000000\">, </span><span style=\"color: #008000; text-decoration-color: #008000\">'description'</span><span style=\"color: #000000; text-decoration-color: #000000\">: </span><span style=\"color: #008000; text-decoration-color: #008000\">\"A flock of women is getting pulled </span>\n",
       "<span style=\"color: #008000; text-decoration-color: #008000\">into this new divorcé's life. Is there a magnetic pull that's at work? Or is Joey's ex-wife jinxing </span>\n",
       "<span style=\"color: #008000; text-decoration-color: #008000\">him?&lt;br&gt;&lt;br&gt;(Source: Toomics)\"</span><span style=\"color: #000000; text-decoration-color: #000000; font-weight: bold\">}</span><span style=\"color: #000000; text-decoration-color: #000000\">, </span><span style=\"color: #000000; text-decoration-color: #000000; font-weight: bold\">{</span><span style=\"color: #008000; text-decoration-color: #008000\">'id'</span><span style=\"color: #000000; text-decoration-color: #000000\">: </span><span style=\"color: #008080; text-decoration-color: #008080; font-weight: bold\">166963</span><span style=\"color: #000000; text-decoration-color: #000000\">, </span><span style=\"color: #008000; text-decoration-color: #008000\">'title'</span><span style=\"color: #000000; text-decoration-color: #000000\">: </span><span style=\"color: #008000; text-decoration-color: #008000\">'Full Circle'</span><span style=\"color: #000000; text-decoration-color: #000000\">, </span><span style=\"color: #008000; text-decoration-color: #008000\">'url'</span><span style=\"color: #000000; text-decoration-color: #000000\">: </span><span style=\"color: #008000; text-decoration-color: #008000\">'https://anilist.co/manga/166963'</span><span style=\"color: #000000; text-decoration-color: #000000\">, </span>\n",
       "<span style=\"color: #008000; text-decoration-color: #008000\">'genres'</span><span style=\"color: #000000; text-decoration-color: #000000\">: |</span><span style=\"color: #008000; text-decoration-color: #008000\">'Romance'</span><span style=\"color: #000000; text-decoration-color: #000000; font-weight: bold\">]</span><span style=\"color: #000000; text-decoration-color: #000000\">, </span><span style=\"color: #008000; text-decoration-color: #008000\">'average_score'</span><span style=\"color: #000000; text-decoration-color: #000000\">: </span><span style=\"color: #800080; text-decoration-color: #800080; font-style: italic\">None</span><span style=\"color: #000000; text-decoration-color: #000000\">, </span><span style=\"color: #008000; text-decoration-color: #008000\">'popularity'</span><span style=\"color: #000000; text-decoration-color: #000000\">: </span><span style=\"color: #008080; text-decoration-color: #008080; font-weight: bold\">32</span><span style=\"color: #000000; text-decoration-color: #000000\">, </span><span style=\"color: #008000; text-decoration-color: #008000\">'description'</span><span style=\"color: #000000; text-decoration-color: #000000\">: </span><span style=\"color: #008000; text-decoration-color: #008000\">'Yujin is a “normal” teenager who’s </span>\n",
       "<span style=\"color: #008000; text-decoration-color: #008000\">preparing to retake his college entrance exams. He is not into boys. Nope. At least that’s what he tells himself </span>\n",
       "<span style=\"color: #008000; text-decoration-color: #008000\">when his classmate, Jun-hyeok, starts hitting on him. But as time goes on, Yujin can’t deny his increasing </span>\n",
       "<span style=\"color: #008000; text-decoration-color: #008000\">attraction to Jun-hyeok and reluctantly admits that he’s probably as straight as a circle. But even if Yujin </span>\n",
       "<span style=\"color: #008000; text-decoration-color: #008000\">accepts his sexuality, will his and Jun-hyeok’s love prevail successful against all odds, or will it succumb to </span>\n",
       "<span style=\"color: #008000; text-decoration-color: #008000\">societal pressure?\\n&lt;BR&gt;BR&gt;\\n(Source: Lezhin US)'</span><span style=\"color: #000000; text-decoration-color: #000000; font-weight: bold\">}</span><span style=\"color: #000000; text-decoration-color: #000000\">, </span><span style=\"color: #000000; text-decoration-color: #000000; font-weight: bold\">{</span><span style=\"color: #008000; text-decoration-color: #008000\">'id'</span><span style=\"color: #000000; text-decoration-color: #000000\">: </span><span style=\"color: #008080; text-decoration-color: #008080; font-weight: bold\">157252</span><span style=\"color: #000000; text-decoration-color: #000000\">, </span><span style=\"color: #008000; text-decoration-color: #008000\">'title'</span><span style=\"color: #000000; text-decoration-color: #000000\">: </span><span style=\"color: #008000; text-decoration-color: #008000\">'Mokjureul Danggisio'</span><span style=\"color: #000000; text-decoration-color: #000000\">, </span><span style=\"color: #008000; text-decoration-color: #008000\">'url'</span><span style=\"color: #000000; text-decoration-color: #000000\">: </span>\n",
       "<span style=\"color: #008000; text-decoration-color: #008000\">'https://anilist.co/manga/157252'</span><span style=\"color: #000000; text-decoration-color: #000000\">, </span><span style=\"color: #008000; text-decoration-color: #008000\">'genres'</span><span style=\"color: #000000; text-decoration-color: #000000\">: |</span><span style=\"color: #008000; text-decoration-color: #008000\">'Drama'</span><span style=\"color: #000000; text-decoration-color: #000000\">, </span><span style=\"color: #008000; text-decoration-color: #008000\">'Romance'</span><span style=\"color: #000000; text-decoration-color: #000000; font-weight: bold\">]</span><span style=\"color: #000000; text-decoration-color: #000000\">, </span><span style=\"color: #008000; text-decoration-color: #008000\">'average_score'</span><span style=\"color: #000000; text-decoration-color: #000000\">: </span><span style=\"color: #800080; text-decoration-color: #800080; font-style: italic\">None</span><span style=\"color: #000000; text-decoration-color: #000000\">, </span><span style=\"color: #008000; text-decoration-color: #008000\">'popularity'</span><span style=\"color: #000000; text-decoration-color: #000000\">: </span><span style=\"color: #008080; text-decoration-color: #008080; font-weight: bold\">20</span><span style=\"color: #000000; text-decoration-color: #000000\">, </span>\n",
       "<span style=\"color: #008000; text-decoration-color: #008000\">'description'</span><span style=\"color: #000000; text-decoration-color: #000000\">: </span><span style=\"color: #008000; text-decoration-color: #008000\">''</span><span style=\"color: #000000; text-decoration-color: #000000; font-weight: bold\">}</span><span style=\"color: #000000; text-decoration-color: #000000\">, </span><span style=\"color: #000000; text-decoration-color: #000000; font-weight: bold\">{</span><span style=\"color: #008000; text-decoration-color: #008000\">'id'</span><span style=\"color: #000000; text-decoration-color: #000000\">: </span><span style=\"color: #008080; text-decoration-color: #008080; font-weight: bold\">193255</span><span style=\"color: #000000; text-decoration-color: #000000\">, </span><span style=\"color: #008000; text-decoration-color: #008000\">'title'</span><span style=\"color: #000000; text-decoration-color: #000000\">: </span><span style=\"color: #008000; text-decoration-color: #008000\">'Manworui Neukdae'</span><span style=\"color: #000000; text-decoration-color: #000000\">, </span><span style=\"color: #008000; text-decoration-color: #008000\">'url'</span><span style=\"color: #000000; text-decoration-color: #000000\">: </span><span style=\"color: #008000; text-decoration-color: #008000\">'https://anilist.co/manga/193255'</span><span style=\"color: #000000; text-decoration-color: #000000\">, </span><span style=\"color: #008000; text-decoration-color: #008000\">'genres'</span><span style=\"color: #000000; text-decoration-color: #000000\">:</span>\n",
       "<span style=\"color: #000000; text-decoration-color: #000000\">|</span><span style=\"color: #008000; text-decoration-color: #008000\">'Romance'</span><span style=\"color: #000000; text-decoration-color: #000000; font-weight: bold\">]</span><span style=\"color: #000000; text-decoration-color: #000000\">, </span><span style=\"color: #008000; text-decoration-color: #008000\">'average_score'</span><span style=\"color: #000000; text-decoration-color: #000000\">: </span><span style=\"color: #800080; text-decoration-color: #800080; font-style: italic\">None</span><span style=\"color: #000000; text-decoration-color: #000000\">, </span><span style=\"color: #008000; text-decoration-color: #008000\">'popularity'</span><span style=\"color: #000000; text-decoration-color: #000000\">: </span><span style=\"color: #008080; text-decoration-color: #008080; font-weight: bold\">10</span><span style=\"color: #000000; text-decoration-color: #000000\">, </span><span style=\"color: #008000; text-decoration-color: #008000\">'description'</span><span style=\"color: #000000; text-decoration-color: #000000\">: </span><span style=\"color: #008000; text-decoration-color: #008000\">\"&lt;i&gt;“If you keep struggling like that, I might</span>\n",
       "<span style=\"color: #008000; text-decoration-color: #008000\">rip the skirt and jacket you're wearing and rape you.” &lt;/i&gt;&lt;br&gt;&lt;br&gt;\\nThe king of beasts, the wolf god, disguises </span>\n",
       "<span style=\"color: #008000; text-decoration-color: #008000\">himself as a man and saves Wol-Young, who is on the brink of death. The man, whose mouth was torn and covered in </span>\n",
       "<span style=\"color: #008000; text-decoration-color: #008000\">dried blood, began to lick Wol-Young’s gagged lips and face. He licked the bright red blood that hadn’t hardened </span>\n",
       "<span style=\"color: #008000; text-decoration-color: #008000\">yet.&lt;br&gt;&lt;br&gt;&lt;i&gt;\\n“Hey, is that bastard some kind of vampire bat?”&lt;/i&gt;&lt;br&gt;&lt;br&gt;\\nWhether they were watching or not, </span>\n",
       "<span style=\"color: #008000; text-decoration-color: #008000\">the man licked Wol-Young’s trembling nose and eyelids, and then climbed up to her forehead. The group left the </span>\n",
       "<span style=\"color: #008000; text-decoration-color: #008000\">barn, saying they’d have a bowl of takju before they got together.&lt;br&gt;&lt;br&gt;&lt;i&gt; “Who are you?”&lt;br&gt; “Your majesty, you</span>\n",
       "<span style=\"color: #008000; text-decoration-color: #008000\">probably don’t know me, but you’re saying you’ve never looked at me before?”&lt;br&gt; “How could I know </span>\n",
       "<span style=\"color: #008000; text-decoration-color: #008000\">you?”&lt;/i&gt;&lt;br&gt;&lt;br&gt;(Source: Ridibooks, translated)&lt;br&gt;&lt;br&gt;\\n\\n&lt;i&gt;Note: Part of Ridi's Sunae(純愛) Danpyeonseon </span>\n",
       "<span style=\"color: #008000; text-decoration-color: #008000\">(순애(純愛) 단편선) Collection.&lt;/i&gt;\"</span><span style=\"font-weight: bold\">}]</span>\n",
       "</pre>\n"
      ],
      "text/plain": [
       "Observations: |\u001b[1m{\u001b[0m\u001b[32m'id'\u001b[0m: \u001b[1;36m132120\u001b[0m, \u001b[32m'title'\u001b[0m: \u001b[32m'Full Volume'\u001b[0m, \u001b[32m'url'\u001b[0m: \u001b[32m'https://anilist.co/manga/132120'\u001b[0m, \u001b[32m'genres'\u001b[0m: \n",
       "|\u001b[32m'Comedy'\u001b[0m, \u001b[32m'Romance'\u001b[0m, \u001b[32m'Slice of Life'\u001b[0m\u001b[1m]\u001b[0m, \u001b[32m'average_score'\u001b[0m: \u001b[1;36m73\u001b[0m, \u001b[32m'popularity'\u001b[0m: \u001b[1;36m4287\u001b[0m, \u001b[32m'description'\u001b[0m: \u001b[32m'Do-Won has a \u001b[0m\n",
       "\u001b[32mproblem. His neighbor, Beom, seems awfully rude, but he’s infuriatingly gorgeous. And the completely ridiculous \u001b[0m\n",
       "\u001b[32mcherry on top? Beom turns out to be Do-Won’s all-time favorite camboy, which only adds to the \u001b[0m\u001b[32m(\u001b[0m\u001b[32msexual\u001b[0m\u001b[32m)\u001b[0m\u001b[32m frustration.\u001b[0m\n",
       "\u001b[32mBeom is a metaphorical pain in Do-Won’s ass, and Do-Won would like to return the favor physically, thank you very \u001b[0m\n",
       "\u001b[32mmuch. So, Do-Won has a problem—in his pants. The question is, how is he going to solve it? You’ll find out the \u001b[0m\n",
       "\u001b[32manswer if you crank the volume up, and watch very, very closely…\\n\u001b[0m\u001b[32m<\u001b[0m\u001b[32mbr\u001b[0m\u001b[32m><br>\\n\u001b[0m\u001b[32m(\u001b[0m\u001b[32mSource: Lezhin\u001b[0m\u001b[32m)\u001b[0m\u001b[32m'\u001b[0m\u001b[1;39m}\u001b[0m\u001b[39m, \u001b[0m\u001b[1;39m{\u001b[0m\u001b[32m'id'\u001b[0m\u001b[39m: \u001b[0m\u001b[1;36m34770\u001b[0m\u001b[39m, \u001b[0m\n",
       "\u001b[32m'title'\u001b[0m\u001b[39m: \u001b[0m\u001b[32m'Full House'\u001b[0m\u001b[39m, \u001b[0m\u001b[32m'url'\u001b[0m\u001b[39m: \u001b[0m\u001b[32m'https://anilist.co/manga/34770'\u001b[0m\u001b[39m, \u001b[0m\u001b[32m'genres'\u001b[0m\u001b[39m: |\u001b[0m\u001b[32m'Comedy'\u001b[0m\u001b[39m, \u001b[0m\u001b[32m'Romance'\u001b[0m\u001b[1;39m]\u001b[0m\u001b[39m, \u001b[0m\u001b[32m'average_score'\u001b[0m\u001b[39m: \u001b[0m\n",
       "\u001b[1;36m54\u001b[0m\u001b[39m, \u001b[0m\u001b[32m'popularity'\u001b[0m\u001b[39m: \u001b[0m\u001b[1;36m458\u001b[0m\u001b[39m, \u001b[0m\u001b[32m'description'\u001b[0m\u001b[39m: \u001b[0m\u001b[32m'Ellie is an aspiring screenwriter in London, far from her home in Korea. \u001b[0m\n",
       "\u001b[32mWhile her life is a bit lonely, her one comfort is Full House--the estate left to her by her recently deceased \u001b[0m\n",
       "\u001b[32mfather and the only tangible memory of him she has left. Meanwhile, world famous actor Ryder Baye is the obsession \u001b[0m\n",
       "\u001b[32mof many a stalker and tabloid reporter. Ellie barely remembers who he is, until the day she is unceremoniously \u001b[0m\n",
       "\u001b[32mevicted. Somehow, Ryder Baye manages to purchase Full House. Ellie will stop at nothing to reclaim her home. Ryder \u001b[0m\n",
       "\u001b[32mvows to stand his ground and hold onto his new purchase. The battle for Full House is fiery, with tempers ranging \u001b[0m\n",
       "\u001b[32mand sparks flying. What are two enemies to do when there is an intense attraction burning just below the surface? \u001b[0m\n",
       "\u001b[32mEllie and Ryder may discover that their explosive chemistry under the same roof may turn them into a happy \u001b[0m\n",
       "\u001b[32mcouple...as long as they can refrain from killing each other!<br><br>\\n\u001b[0m\u001b[32m(\u001b[0m\u001b[32mSource: Netcomics\u001b[0m\u001b[32m)\u001b[0m\u001b[32m'\u001b[0m\u001b[1;39m}\u001b[0m\u001b[39m, \u001b[0m\u001b[1;39m{\u001b[0m\u001b[32m'id'\u001b[0m\u001b[39m: \u001b[0m\u001b[1;36m85508\u001b[0m\u001b[39m, \u001b[0m\n",
       "\u001b[32m'title'\u001b[0m\u001b[39m: \u001b[0m\u001b[32m'In Full Bloom'\u001b[0m\u001b[39m, \u001b[0m\u001b[32m'url'\u001b[0m\u001b[39m: \u001b[0m\u001b[32m'https://anilist.co/manga/85508'\u001b[0m\u001b[39m, \u001b[0m\u001b[32m'genres'\u001b[0m\u001b[39m: |\u001b[0m\u001b[32m'Drama'\u001b[0m\u001b[39m, \u001b[0m\u001b[32m'Psychological'\u001b[0m\u001b[1;39m]\u001b[0m\u001b[39m, \u001b[0m\n",
       "\u001b[32m'average_score'\u001b[0m\u001b[39m: \u001b[0m\u001b[3;35mNone\u001b[0m\u001b[39m, \u001b[0m\u001b[32m'popularity'\u001b[0m\u001b[39m: \u001b[0m\u001b[1;36m142\u001b[0m\u001b[39m, \u001b[0m\u001b[32m'description'\u001b[0m\u001b[39m: \u001b[0m\u001b[32m\"One ruler...One schemer...and...One assassin\\r\\n\\r\\nThe \u001b[0m\n",
       "\u001b[32mkingdom of Juushin is suffering at the hands of a cruel emperor. In order to stop his father's rule of tyranny, the\u001b[0m\n",
       "\u001b[32mcrown prince will enlist the aid of a legendary assassin with reasons of her own for wanting the emperor dead.\"\u001b[0m\u001b[1;39m}\u001b[0m\u001b[39m, \u001b[0m\n",
       "\u001b[1;39m{\u001b[0m\u001b[32m'id'\u001b[0m\u001b[39m: \u001b[0m\u001b[1;36m144445\u001b[0m\u001b[39m, \u001b[0m\u001b[32m'title'\u001b[0m\u001b[39m: \u001b[0m\u001b[32m'Blazing Sun'\u001b[0m\u001b[39m, \u001b[0m\u001b[32m'url'\u001b[0m\u001b[39m: \u001b[0m\u001b[32m'https://anilist.co/manga/144445'\u001b[0m\u001b[39m, \u001b[0m\u001b[32m'genres'\u001b[0m\u001b[39m: |\u001b[0m\u001b[32m'Drama'\u001b[0m\u001b[39m, \u001b[0m\u001b[32m'Hentai'\u001b[0m\u001b[1;39m]\u001b[0m\u001b[39m, \u001b[0m\n",
       "\u001b[32m'average_score'\u001b[0m\u001b[39m: \u001b[0m\u001b[3;35mNone\u001b[0m\u001b[39m, \u001b[0m\u001b[32m'popularity'\u001b[0m\u001b[39m: \u001b[0m\u001b[1;36m96\u001b[0m\u001b[39m, \u001b[0m\u001b[32m'description'\u001b[0m\u001b[39m: \u001b[0m\u001b[32m'“You may be rich, but that doesn’t mean you can just do \u001b[0m\n",
       "\u001b[32mwhatever you want with others!” A young man with nothing to lose will do anything to rise to the \u001b[0m\n",
       "\u001b[32mtop.<br>\\n<br>\\n\u001b[0m\u001b[32m(\u001b[0m\u001b[32mSource: TOPTOON+\u001b[0m\u001b[32m)\u001b[0m\u001b[32m'\u001b[0m\u001b[1;39m}\u001b[0m\u001b[39m, \u001b[0m\u001b[1;39m{\u001b[0m\u001b[32m'id'\u001b[0m\u001b[39m: \u001b[0m\u001b[1;36m137968\u001b[0m\u001b[39m, \u001b[0m\u001b[32m'title'\u001b[0m\u001b[39m: \u001b[0m\u001b[32m'Milmyeon Danggigo Danggimyeon Mireora'\u001b[0m\u001b[39m, \u001b[0m\u001b[32m'url'\u001b[0m\u001b[39m: \u001b[0m\n",
       "\u001b[32m'https://anilist.co/manga/137968'\u001b[0m\u001b[39m, \u001b[0m\u001b[32m'genres'\u001b[0m\u001b[39m: |\u001b[0m\u001b[32m'Romance'\u001b[0m\u001b[1;39m]\u001b[0m\u001b[39m, \u001b[0m\u001b[32m'average_score'\u001b[0m\u001b[39m: \u001b[0m\u001b[3;35mNone\u001b[0m\u001b[39m, \u001b[0m\u001b[32m'popularity'\u001b[0m\u001b[39m: \u001b[0m\u001b[1;36m74\u001b[0m\u001b[39m, \u001b[0m\u001b[32m'description'\u001b[0m\u001b[39m: \u001b[0m\n",
       "\u001b[32m'Rahyeon, a passive student who usually has bad luck, manages to attend a prestigious college. But was it karma? On\u001b[0m\n",
       "\u001b[32mthe first day of admission he gets involved with a very beautiful but crazy person...<br><br>\u001b[0m\u001b[32m(\u001b[0m\u001b[32mSource: Lezhin, \u001b[0m\n",
       "\u001b[32mtranslated\u001b[0m\u001b[32m)\u001b[0m\u001b[32m'\u001b[0m\u001b[1;39m}\u001b[0m\u001b[39m, \u001b[0m\u001b[1;39m{\u001b[0m\u001b[32m'id'\u001b[0m\u001b[39m: \u001b[0m\u001b[1;36m168340\u001b[0m\u001b[39m, \u001b[0m\u001b[32m'title'\u001b[0m\u001b[39m: \u001b[0m\u001b[32m'Magnetic Pull'\u001b[0m\u001b[39m, \u001b[0m\u001b[32m'url'\u001b[0m\u001b[39m: \u001b[0m\u001b[32m'https://anilist.co/manga/168340'\u001b[0m\u001b[39m, \u001b[0m\u001b[32m'genres'\u001b[0m\u001b[39m: \u001b[0m\n",
       "\u001b[39m|\u001b[0m\u001b[32m'Drama'\u001b[0m\u001b[39m, \u001b[0m\u001b[32m'Hentai'\u001b[0m\u001b[1;39m]\u001b[0m\u001b[39m, \u001b[0m\u001b[32m'average_score'\u001b[0m\u001b[39m: \u001b[0m\u001b[3;35mNone\u001b[0m\u001b[39m, \u001b[0m\u001b[32m'popularity'\u001b[0m\u001b[39m: \u001b[0m\u001b[1;36m71\u001b[0m\u001b[39m, \u001b[0m\u001b[32m'description'\u001b[0m\u001b[39m: \u001b[0m\u001b[32m\"A flock of women is getting pulled \u001b[0m\n",
       "\u001b[32minto this new divorcé's life. Is there a magnetic pull that's at work? Or is Joey's ex-wife jinxing \u001b[0m\n",
       "\u001b[32mhim?<br><br>\u001b[0m\u001b[32m(\u001b[0m\u001b[32mSource: Toomics\u001b[0m\u001b[32m)\u001b[0m\u001b[32m\"\u001b[0m\u001b[1;39m}\u001b[0m\u001b[39m, \u001b[0m\u001b[1;39m{\u001b[0m\u001b[32m'id'\u001b[0m\u001b[39m: \u001b[0m\u001b[1;36m166963\u001b[0m\u001b[39m, \u001b[0m\u001b[32m'title'\u001b[0m\u001b[39m: \u001b[0m\u001b[32m'Full Circle'\u001b[0m\u001b[39m, \u001b[0m\u001b[32m'url'\u001b[0m\u001b[39m: \u001b[0m\u001b[32m'https://anilist.co/manga/166963'\u001b[0m\u001b[39m, \u001b[0m\n",
       "\u001b[32m'genres'\u001b[0m\u001b[39m: |\u001b[0m\u001b[32m'Romance'\u001b[0m\u001b[1;39m]\u001b[0m\u001b[39m, \u001b[0m\u001b[32m'average_score'\u001b[0m\u001b[39m: \u001b[0m\u001b[3;35mNone\u001b[0m\u001b[39m, \u001b[0m\u001b[32m'popularity'\u001b[0m\u001b[39m: \u001b[0m\u001b[1;36m32\u001b[0m\u001b[39m, \u001b[0m\u001b[32m'description'\u001b[0m\u001b[39m: \u001b[0m\u001b[32m'Yujin is a “normal” teenager who’s \u001b[0m\n",
       "\u001b[32mpreparing to retake his college entrance exams. He is not into boys. Nope. At least that’s what he tells himself \u001b[0m\n",
       "\u001b[32mwhen his classmate, Jun-hyeok, starts hitting on him. But as time goes on, Yujin can’t deny his increasing \u001b[0m\n",
       "\u001b[32mattraction to Jun-hyeok and reluctantly admits that he’s probably as straight as a circle. But even if Yujin \u001b[0m\n",
       "\u001b[32maccepts his sexuality, will his and Jun-hyeok’s love prevail successful against all odds, or will it succumb to \u001b[0m\n",
       "\u001b[32msocietal pressure?\\n<BR>BR>\\n\u001b[0m\u001b[32m(\u001b[0m\u001b[32mSource: Lezhin US\u001b[0m\u001b[32m)\u001b[0m\u001b[32m'\u001b[0m\u001b[1;39m}\u001b[0m\u001b[39m, \u001b[0m\u001b[1;39m{\u001b[0m\u001b[32m'id'\u001b[0m\u001b[39m: \u001b[0m\u001b[1;36m157252\u001b[0m\u001b[39m, \u001b[0m\u001b[32m'title'\u001b[0m\u001b[39m: \u001b[0m\u001b[32m'Mokjureul Danggisio'\u001b[0m\u001b[39m, \u001b[0m\u001b[32m'url'\u001b[0m\u001b[39m: \u001b[0m\n",
       "\u001b[32m'https://anilist.co/manga/157252'\u001b[0m\u001b[39m, \u001b[0m\u001b[32m'genres'\u001b[0m\u001b[39m: |\u001b[0m\u001b[32m'Drama'\u001b[0m\u001b[39m, \u001b[0m\u001b[32m'Romance'\u001b[0m\u001b[1;39m]\u001b[0m\u001b[39m, \u001b[0m\u001b[32m'average_score'\u001b[0m\u001b[39m: \u001b[0m\u001b[3;35mNone\u001b[0m\u001b[39m, \u001b[0m\u001b[32m'popularity'\u001b[0m\u001b[39m: \u001b[0m\u001b[1;36m20\u001b[0m\u001b[39m, \u001b[0m\n",
       "\u001b[32m'description'\u001b[0m\u001b[39m: \u001b[0m\u001b[32m''\u001b[0m\u001b[1;39m}\u001b[0m\u001b[39m, \u001b[0m\u001b[1;39m{\u001b[0m\u001b[32m'id'\u001b[0m\u001b[39m: \u001b[0m\u001b[1;36m193255\u001b[0m\u001b[39m, \u001b[0m\u001b[32m'title'\u001b[0m\u001b[39m: \u001b[0m\u001b[32m'Manworui Neukdae'\u001b[0m\u001b[39m, \u001b[0m\u001b[32m'url'\u001b[0m\u001b[39m: \u001b[0m\u001b[32m'https://anilist.co/manga/193255'\u001b[0m\u001b[39m, \u001b[0m\u001b[32m'genres'\u001b[0m\u001b[39m:\u001b[0m\n",
       "\u001b[39m|\u001b[0m\u001b[32m'Romance'\u001b[0m\u001b[1;39m]\u001b[0m\u001b[39m, \u001b[0m\u001b[32m'average_score'\u001b[0m\u001b[39m: \u001b[0m\u001b[3;35mNone\u001b[0m\u001b[39m, \u001b[0m\u001b[32m'popularity'\u001b[0m\u001b[39m: \u001b[0m\u001b[1;36m10\u001b[0m\u001b[39m, \u001b[0m\u001b[32m'description'\u001b[0m\u001b[39m: \u001b[0m\u001b[32m\"<i>“If you keep struggling like that, I might\u001b[0m\n",
       "\u001b[32mrip the skirt and jacket you're wearing and rape you.” </i><br><br>\\nThe king of beasts, the wolf god, disguises \u001b[0m\n",
       "\u001b[32mhimself as a man and saves Wol-Young, who is on the brink of death. The man, whose mouth was torn and covered in \u001b[0m\n",
       "\u001b[32mdried blood, began to lick Wol-Young’s gagged lips and face. He licked the bright red blood that hadn’t hardened \u001b[0m\n",
       "\u001b[32myet.<br><br><i>\\n“Hey, is that bastard some kind of vampire bat?”</i><br><br>\\nWhether they were watching or not, \u001b[0m\n",
       "\u001b[32mthe man licked Wol-Young’s trembling nose and eyelids, and then climbed up to her forehead. The group left the \u001b[0m\n",
       "\u001b[32mbarn, saying they’d have a bowl of takju before they got together.<br><br><i> “Who are you?”<br> “Your majesty, you\u001b[0m\n",
       "\u001b[32mprobably don’t know me, but you’re saying you’ve never looked at me before?”<br> “How could I know \u001b[0m\n",
       "\u001b[32myou?”</i><br><br>\u001b[0m\u001b[32m(\u001b[0m\u001b[32mSource: Ridibooks, translated\u001b[0m\u001b[32m)\u001b[0m\u001b[32m<br><br>\\n\\n<i>Note: Part of Ridi's Sunae\u001b[0m\u001b[32m(\u001b[0m\u001b[32m純愛\u001b[0m\u001b[32m)\u001b[0m\u001b[32m Danpyeonseon \u001b[0m\n",
       "\u001b[32m(\u001b[0m\u001b[32m순애\u001b[0m\u001b[32m(\u001b[0m\u001b[32m純愛\u001b[0m\u001b[32m)\u001b[0m\u001b[32m 단편선\u001b[0m\u001b[32m)\u001b[0m\u001b[32m Collection.</i\u001b[0m\u001b[32m>\u001b[0m\u001b[32m\"\u001b[0m\u001b[1m}\u001b[0m\u001b[1m]\u001b[0m\n"
      ]
     },
     "metadata": {},
     "output_type": "display_data"
    },
    {
     "data": {
      "text/html": [
       "<pre style=\"white-space:pre;overflow-x:auto;line-height:normal;font-family:Menlo,'DejaVu Sans Mono',consolas,'Courier New',monospace\"><span style=\"color: #7f7f7f; text-decoration-color: #7f7f7f\">[Step 1: Duration 3.13 seconds| Input tokens: 1,229 | Output tokens: 12]</span>\n",
       "</pre>\n"
      ],
      "text/plain": [
       "\u001b[2m[Step 1: Duration 3.13 seconds| Input tokens: 1,229 | Output tokens: 12]\u001b[0m\n"
      ]
     },
     "metadata": {},
     "output_type": "display_data"
    },
    {
     "data": {
      "text/html": [
       "<pre style=\"white-space:pre;overflow-x:auto;line-height:normal;font-family:Menlo,'DejaVu Sans Mono',consolas,'Courier New',monospace\"><span style=\"color: #d4b702; text-decoration-color: #d4b702\">━━━━━━━━━━━━━━━━━━━━━━━━━━━━━━━━━━━━━━━━━━━━━━━━━━━━━ </span><span style=\"font-weight: bold\">Step </span><span style=\"color: #008080; text-decoration-color: #008080; font-weight: bold\">2</span><span style=\"color: #d4b702; text-decoration-color: #d4b702\"> ━━━━━━━━━━━━━━━━━━━━━━━━━━━━━━━━━━━━━━━━━━━━━━━━━━━━━━</span>\n",
       "</pre>\n"
      ],
      "text/plain": [
       "\u001b[38;2;212;183;2m━━━━━━━━━━━━━━━━━━━━━━━━━━━━━━━━━━━━━━━━━━━━━━━━━━━━━ \u001b[0m\u001b[1mStep \u001b[0m\u001b[1;36m2\u001b[0m\u001b[38;2;212;183;2m ━━━━━━━━━━━━━━━━━━━━━━━━━━━━━━━━━━━━━━━━━━━━━━━━━━━━━━\u001b[0m\n"
      ]
     },
     "metadata": {},
     "output_type": "display_data"
    },
    {
     "data": {
      "text/html": [
       "<pre style=\"white-space:pre;overflow-x:auto;line-height:normal;font-family:Menlo,'DejaVu Sans Mono',consolas,'Courier New',monospace\">╭─────────────────────────────────────────────────────────────────────────────────────────────────────────────────╮\n",
       "│ Calling tool: 'upsert_manhwa' with arguments: {'items': [{}]}                                                   │\n",
       "╰─────────────────────────────────────────────────────────────────────────────────────────────────────────────────╯\n",
       "</pre>\n"
      ],
      "text/plain": [
       "╭─────────────────────────────────────────────────────────────────────────────────────────────────────────────────╮\n",
       "│ Calling tool: 'upsert_manhwa' with arguments: {'items': [{}]}                                                   │\n",
       "╰─────────────────────────────────────────────────────────────────────────────────────────────────────────────────╯\n"
      ]
     },
     "metadata": {},
     "output_type": "display_data"
    },
    {
     "data": {
      "text/html": [
       "<pre style=\"white-space:pre;overflow-x:auto;line-height:normal;font-family:Menlo,'DejaVu Sans Mono',consolas,'Courier New',monospace\"><span style=\"color: #800000; text-decoration-color: #800000; font-weight: bold\">Error executing tool </span><span style=\"color: #008000; text-decoration-color: #008000\">'upsert_manhwa'</span><span style=\"color: #800000; text-decoration-color: #800000; font-weight: bold\"> with arguments {</span><span style=\"color: #008000; text-decoration-color: #008000\">'items'</span><span style=\"color: #800000; text-decoration-color: #800000; font-weight: bold\">: [{}\\]}: ValidationError: </span><span style=\"color: #008080; text-decoration-color: #008080; font-weight: bold\">4</span><span style=\"color: #800000; text-decoration-color: #800000; font-weight: bold\"> validation errors for Book</span>\n",
       "<span style=\"color: #800000; text-decoration-color: #800000; font-weight: bold\">id</span>\n",
       "<span style=\"color: #800000; text-decoration-color: #800000; font-weight: bold\">  Field required [</span><span style=\"color: #808000; text-decoration-color: #808000; font-weight: bold\">type</span><span style=\"color: #800000; text-decoration-color: #800000; font-weight: bold\">=</span><span style=\"color: #800080; text-decoration-color: #800080; font-weight: bold\">missing</span><span style=\"color: #800000; text-decoration-color: #800000; font-weight: bold\">, </span><span style=\"color: #808000; text-decoration-color: #808000; font-weight: bold\">input_value</span><span style=\"color: #800000; text-decoration-color: #800000; font-weight: bold\">={}, </span><span style=\"color: #808000; text-decoration-color: #808000; font-weight: bold\">input_type</span><span style=\"color: #800000; text-decoration-color: #800000; font-weight: bold\">=</span><span style=\"color: #800080; text-decoration-color: #800080; font-weight: bold\">dict</span><span style=\"color: #800000; text-decoration-color: #800000; font-weight: bold\">\\]</span>\n",
       "<span style=\"color: #800000; text-decoration-color: #800000; font-weight: bold\">    For further information visit </span><span style=\"color: #0000ff; text-decoration-color: #0000ff; text-decoration: underline\">https://errors.pydantic.dev/2.11/v/missing</span>\n",
       "<span style=\"color: #800000; text-decoration-color: #800000; font-weight: bold\">title</span>\n",
       "<span style=\"color: #800000; text-decoration-color: #800000; font-weight: bold\">  Field required [</span><span style=\"color: #808000; text-decoration-color: #808000; font-weight: bold\">type</span><span style=\"color: #800000; text-decoration-color: #800000; font-weight: bold\">=</span><span style=\"color: #800080; text-decoration-color: #800080; font-weight: bold\">missing</span><span style=\"color: #800000; text-decoration-color: #800000; font-weight: bold\">, </span><span style=\"color: #808000; text-decoration-color: #808000; font-weight: bold\">input_value</span><span style=\"color: #800000; text-decoration-color: #800000; font-weight: bold\">={}, </span><span style=\"color: #808000; text-decoration-color: #808000; font-weight: bold\">input_type</span><span style=\"color: #800000; text-decoration-color: #800000; font-weight: bold\">=</span><span style=\"color: #800080; text-decoration-color: #800080; font-weight: bold\">dict</span><span style=\"color: #800000; text-decoration-color: #800000; font-weight: bold\">\\]</span>\n",
       "<span style=\"color: #800000; text-decoration-color: #800000; font-weight: bold\">    For further information visit </span><span style=\"color: #0000ff; text-decoration-color: #0000ff; text-decoration: underline\">https://errors.pydantic.dev/2.11/v/missing</span>\n",
       "<span style=\"color: #800000; text-decoration-color: #800000; font-weight: bold\">url</span>\n",
       "<span style=\"color: #800000; text-decoration-color: #800000; font-weight: bold\">  Field required [</span><span style=\"color: #808000; text-decoration-color: #808000; font-weight: bold\">type</span><span style=\"color: #800000; text-decoration-color: #800000; font-weight: bold\">=</span><span style=\"color: #800080; text-decoration-color: #800080; font-weight: bold\">missing</span><span style=\"color: #800000; text-decoration-color: #800000; font-weight: bold\">, </span><span style=\"color: #808000; text-decoration-color: #808000; font-weight: bold\">input_value</span><span style=\"color: #800000; text-decoration-color: #800000; font-weight: bold\">={}, </span><span style=\"color: #808000; text-decoration-color: #808000; font-weight: bold\">input_type</span><span style=\"color: #800000; text-decoration-color: #800000; font-weight: bold\">=</span><span style=\"color: #800080; text-decoration-color: #800080; font-weight: bold\">dict</span><span style=\"color: #800000; text-decoration-color: #800000; font-weight: bold\">\\]</span>\n",
       "<span style=\"color: #800000; text-decoration-color: #800000; font-weight: bold\">    For further information visit </span><span style=\"color: #0000ff; text-decoration-color: #0000ff; text-decoration: underline\">https://errors.pydantic.dev/2.11/v/missing</span>\n",
       "<span style=\"color: #800000; text-decoration-color: #800000; font-weight: bold\">genres</span>\n",
       "<span style=\"color: #800000; text-decoration-color: #800000; font-weight: bold\">  Field required [</span><span style=\"color: #808000; text-decoration-color: #808000; font-weight: bold\">type</span><span style=\"color: #800000; text-decoration-color: #800000; font-weight: bold\">=</span><span style=\"color: #800080; text-decoration-color: #800080; font-weight: bold\">missing</span><span style=\"color: #800000; text-decoration-color: #800000; font-weight: bold\">, </span><span style=\"color: #808000; text-decoration-color: #808000; font-weight: bold\">input_value</span><span style=\"color: #800000; text-decoration-color: #800000; font-weight: bold\">={}, </span><span style=\"color: #808000; text-decoration-color: #808000; font-weight: bold\">input_type</span><span style=\"color: #800000; text-decoration-color: #800000; font-weight: bold\">=</span><span style=\"color: #800080; text-decoration-color: #800080; font-weight: bold\">dict</span><span style=\"color: #800000; text-decoration-color: #800000; font-weight: bold\">\\]</span>\n",
       "<span style=\"color: #800000; text-decoration-color: #800000; font-weight: bold\">    For further information visit </span><span style=\"color: #0000ff; text-decoration-color: #0000ff; text-decoration: underline\">https://errors.pydantic.dev/2.11/v/missing</span>\n",
       "<span style=\"color: #800000; text-decoration-color: #800000; font-weight: bold\">Please try again or use another tool</span>\n",
       "</pre>\n"
      ],
      "text/plain": [
       "\u001b[1;31mError executing tool \u001b[0m\u001b[32m'upsert_manhwa'\u001b[0m\u001b[1;31m with arguments \u001b[0m\u001b[1;31m{\u001b[0m\u001b[32m'items'\u001b[0m\u001b[1;31m: \u001b[0m\u001b[1;31m[\u001b[0m\u001b[1;31m{\u001b[0m\u001b[1;31m}\u001b[0m\u001b[1;31m\\\u001b[0m\u001b[1;31m]\u001b[0m\u001b[1;31m}\u001b[0m\u001b[1;31m: ValidationError: \u001b[0m\u001b[1;36m4\u001b[0m\u001b[1;31m validation errors for Book\u001b[0m\n",
       "\u001b[1;31mid\u001b[0m\n",
       "\u001b[1;31m  Field required \u001b[0m\u001b[1;31m[\u001b[0m\u001b[1;33mtype\u001b[0m\u001b[1;31m=\u001b[0m\u001b[1;35mmissing\u001b[0m\u001b[1;31m, \u001b[0m\u001b[1;33minput_value\u001b[0m\u001b[1;31m=\u001b[0m\u001b[1;31m{\u001b[0m\u001b[1;31m}\u001b[0m\u001b[1;31m, \u001b[0m\u001b[1;33minput_type\u001b[0m\u001b[1;31m=\u001b[0m\u001b[1;35mdict\u001b[0m\u001b[1;31m\\\u001b[0m\u001b[1;31m]\u001b[0m\n",
       "\u001b[1;31m    For further information visit \u001b[0m\u001b[4;94mhttps://errors.pydantic.dev/2.11/v/missing\u001b[0m\n",
       "\u001b[1;31mtitle\u001b[0m\n",
       "\u001b[1;31m  Field required \u001b[0m\u001b[1;31m[\u001b[0m\u001b[1;33mtype\u001b[0m\u001b[1;31m=\u001b[0m\u001b[1;35mmissing\u001b[0m\u001b[1;31m, \u001b[0m\u001b[1;33minput_value\u001b[0m\u001b[1;31m=\u001b[0m\u001b[1;31m{\u001b[0m\u001b[1;31m}\u001b[0m\u001b[1;31m, \u001b[0m\u001b[1;33minput_type\u001b[0m\u001b[1;31m=\u001b[0m\u001b[1;35mdict\u001b[0m\u001b[1;31m\\\u001b[0m\u001b[1;31m]\u001b[0m\n",
       "\u001b[1;31m    For further information visit \u001b[0m\u001b[4;94mhttps://errors.pydantic.dev/2.11/v/missing\u001b[0m\n",
       "\u001b[1;31murl\u001b[0m\n",
       "\u001b[1;31m  Field required \u001b[0m\u001b[1;31m[\u001b[0m\u001b[1;33mtype\u001b[0m\u001b[1;31m=\u001b[0m\u001b[1;35mmissing\u001b[0m\u001b[1;31m, \u001b[0m\u001b[1;33minput_value\u001b[0m\u001b[1;31m=\u001b[0m\u001b[1;31m{\u001b[0m\u001b[1;31m}\u001b[0m\u001b[1;31m, \u001b[0m\u001b[1;33minput_type\u001b[0m\u001b[1;31m=\u001b[0m\u001b[1;35mdict\u001b[0m\u001b[1;31m\\\u001b[0m\u001b[1;31m]\u001b[0m\n",
       "\u001b[1;31m    For further information visit \u001b[0m\u001b[4;94mhttps://errors.pydantic.dev/2.11/v/missing\u001b[0m\n",
       "\u001b[1;31mgenres\u001b[0m\n",
       "\u001b[1;31m  Field required \u001b[0m\u001b[1;31m[\u001b[0m\u001b[1;33mtype\u001b[0m\u001b[1;31m=\u001b[0m\u001b[1;35mmissing\u001b[0m\u001b[1;31m, \u001b[0m\u001b[1;33minput_value\u001b[0m\u001b[1;31m=\u001b[0m\u001b[1;31m{\u001b[0m\u001b[1;31m}\u001b[0m\u001b[1;31m, \u001b[0m\u001b[1;33minput_type\u001b[0m\u001b[1;31m=\u001b[0m\u001b[1;35mdict\u001b[0m\u001b[1;31m\\\u001b[0m\u001b[1;31m]\u001b[0m\n",
       "\u001b[1;31m    For further information visit \u001b[0m\u001b[4;94mhttps://errors.pydantic.dev/2.11/v/missing\u001b[0m\n",
       "\u001b[1;31mPlease try again or use another tool\u001b[0m\n"
      ]
     },
     "metadata": {},
     "output_type": "display_data"
    },
    {
     "data": {
      "text/html": [
       "<pre style=\"white-space:pre;overflow-x:auto;line-height:normal;font-family:Menlo,'DejaVu Sans Mono',consolas,'Courier New',monospace\"><span style=\"color: #7f7f7f; text-decoration-color: #7f7f7f\">[Step 2: Duration 1.41 seconds| Input tokens: 4,217 | Output tokens: 17]</span>\n",
       "</pre>\n"
      ],
      "text/plain": [
       "\u001b[2m[Step 2: Duration 1.41 seconds| Input tokens: 4,217 | Output tokens: 17]\u001b[0m\n"
      ]
     },
     "metadata": {},
     "output_type": "display_data"
    },
    {
     "data": {
      "text/html": [
       "<pre style=\"white-space:pre;overflow-x:auto;line-height:normal;font-family:Menlo,'DejaVu Sans Mono',consolas,'Courier New',monospace\"><span style=\"color: #d4b702; text-decoration-color: #d4b702\">━━━━━━━━━━━━━━━━━━━━━━━━━━━━━━━━━━━━━━━━━━━━━━━━━━━━━ </span><span style=\"font-weight: bold\">Step </span><span style=\"color: #008080; text-decoration-color: #008080; font-weight: bold\">3</span><span style=\"color: #d4b702; text-decoration-color: #d4b702\"> ━━━━━━━━━━━━━━━━━━━━━━━━━━━━━━━━━━━━━━━━━━━━━━━━━━━━━━</span>\n",
       "</pre>\n"
      ],
      "text/plain": [
       "\u001b[38;2;212;183;2m━━━━━━━━━━━━━━━━━━━━━━━━━━━━━━━━━━━━━━━━━━━━━━━━━━━━━ \u001b[0m\u001b[1mStep \u001b[0m\u001b[1;36m3\u001b[0m\u001b[38;2;212;183;2m ━━━━━━━━━━━━━━━━━━━━━━━━━━━━━━━━━━━━━━━━━━━━━━━━━━━━━━\u001b[0m\n"
      ]
     },
     "metadata": {},
     "output_type": "display_data"
    },
    {
     "data": {
      "text/html": [
       "<pre style=\"white-space:pre;overflow-x:auto;line-height:normal;font-family:Menlo,'DejaVu Sans Mono',consolas,'Courier New',monospace\">╭─────────────────────────────────────────────────────────────────────────────────────────────────────────────────╮\n",
       "│ Calling tool: 'search_manhwa' with arguments: {'search': 'null', 'per_page': 50, 'page': 1}                     │\n",
       "╰─────────────────────────────────────────────────────────────────────────────────────────────────────────────────╯\n",
       "</pre>\n"
      ],
      "text/plain": [
       "╭─────────────────────────────────────────────────────────────────────────────────────────────────────────────────╮\n",
       "│ Calling tool: 'search_manhwa' with arguments: {'search': 'null', 'per_page': 50, 'page': 1}                     │\n",
       "╰─────────────────────────────────────────────────────────────────────────────────────────────────────────────────╯\n"
      ]
     },
     "metadata": {},
     "output_type": "display_data"
    },
    {
     "data": {
      "text/html": [
       "<pre style=\"white-space:pre;overflow-x:auto;line-height:normal;font-family:Menlo,'DejaVu Sans Mono',consolas,'Courier New',monospace\">Observations: |<span style=\"font-weight: bold\">{</span><span style=\"color: #008000; text-decoration-color: #008000\">'id'</span>: <span style=\"color: #008080; text-decoration-color: #008080; font-weight: bold\">132120</span>, <span style=\"color: #008000; text-decoration-color: #008000\">'title'</span>: <span style=\"color: #008000; text-decoration-color: #008000\">'Full Volume'</span>, <span style=\"color: #008000; text-decoration-color: #008000\">'url'</span>: <span style=\"color: #008000; text-decoration-color: #008000\">'https://anilist.co/manga/132120'</span>, <span style=\"color: #008000; text-decoration-color: #008000\">'genres'</span>: \n",
       "|<span style=\"color: #008000; text-decoration-color: #008000\">'Comedy'</span>, <span style=\"color: #008000; text-decoration-color: #008000\">'Romance'</span>, <span style=\"color: #008000; text-decoration-color: #008000\">'Slice of Life'</span><span style=\"font-weight: bold\">]</span>, <span style=\"color: #008000; text-decoration-color: #008000\">'average_score'</span>: <span style=\"color: #008080; text-decoration-color: #008080; font-weight: bold\">73</span>, <span style=\"color: #008000; text-decoration-color: #008000\">'popularity'</span>: <span style=\"color: #008080; text-decoration-color: #008080; font-weight: bold\">4287</span>, <span style=\"color: #008000; text-decoration-color: #008000\">'description'</span>: <span style=\"color: #008000; text-decoration-color: #008000\">'Do-Won has a </span>\n",
       "<span style=\"color: #008000; text-decoration-color: #008000\">problem. His neighbor, Beom, seems awfully rude, but he’s infuriatingly gorgeous. And the completely ridiculous </span>\n",
       "<span style=\"color: #008000; text-decoration-color: #008000\">cherry on top? Beom turns out to be Do-Won’s all-time favorite camboy, which only adds to the (sexual) frustration.</span>\n",
       "<span style=\"color: #008000; text-decoration-color: #008000\">Beom is a metaphorical pain in Do-Won’s ass, and Do-Won would like to return the favor physically, thank you very </span>\n",
       "<span style=\"color: #008000; text-decoration-color: #008000\">much. So, Do-Won has a problem—in his pants. The question is, how is he going to solve it? You’ll find out the </span>\n",
       "<span style=\"color: #008000; text-decoration-color: #008000\">answer if you crank the volume up, and watch very, very closely…\\n&lt;br&gt;&lt;br&gt;\\n(Source: Lezhin)'</span><span style=\"color: #000000; text-decoration-color: #000000; font-weight: bold\">}</span><span style=\"color: #000000; text-decoration-color: #000000\">, </span><span style=\"color: #000000; text-decoration-color: #000000; font-weight: bold\">{</span><span style=\"color: #008000; text-decoration-color: #008000\">'id'</span><span style=\"color: #000000; text-decoration-color: #000000\">: </span><span style=\"color: #008080; text-decoration-color: #008080; font-weight: bold\">34770</span><span style=\"color: #000000; text-decoration-color: #000000\">, </span>\n",
       "<span style=\"color: #008000; text-decoration-color: #008000\">'title'</span><span style=\"color: #000000; text-decoration-color: #000000\">: </span><span style=\"color: #008000; text-decoration-color: #008000\">'Full House'</span><span style=\"color: #000000; text-decoration-color: #000000\">, </span><span style=\"color: #008000; text-decoration-color: #008000\">'url'</span><span style=\"color: #000000; text-decoration-color: #000000\">: </span><span style=\"color: #008000; text-decoration-color: #008000\">'https://anilist.co/manga/34770'</span><span style=\"color: #000000; text-decoration-color: #000000\">, </span><span style=\"color: #008000; text-decoration-color: #008000\">'genres'</span><span style=\"color: #000000; text-decoration-color: #000000\">: |</span><span style=\"color: #008000; text-decoration-color: #008000\">'Comedy'</span><span style=\"color: #000000; text-decoration-color: #000000\">, </span><span style=\"color: #008000; text-decoration-color: #008000\">'Romance'</span><span style=\"color: #000000; text-decoration-color: #000000; font-weight: bold\">]</span><span style=\"color: #000000; text-decoration-color: #000000\">, </span><span style=\"color: #008000; text-decoration-color: #008000\">'average_score'</span><span style=\"color: #000000; text-decoration-color: #000000\">: </span>\n",
       "<span style=\"color: #008080; text-decoration-color: #008080; font-weight: bold\">54</span><span style=\"color: #000000; text-decoration-color: #000000\">, </span><span style=\"color: #008000; text-decoration-color: #008000\">'popularity'</span><span style=\"color: #000000; text-decoration-color: #000000\">: </span><span style=\"color: #008080; text-decoration-color: #008080; font-weight: bold\">458</span><span style=\"color: #000000; text-decoration-color: #000000\">, </span><span style=\"color: #008000; text-decoration-color: #008000\">'description'</span><span style=\"color: #000000; text-decoration-color: #000000\">: </span><span style=\"color: #008000; text-decoration-color: #008000\">'Ellie is an aspiring screenwriter in London, far from her home in Korea. </span>\n",
       "<span style=\"color: #008000; text-decoration-color: #008000\">While her life is a bit lonely, her one comfort is Full House--the estate left to her by her recently deceased </span>\n",
       "<span style=\"color: #008000; text-decoration-color: #008000\">father and the only tangible memory of him she has left. Meanwhile, world famous actor Ryder Baye is the obsession </span>\n",
       "<span style=\"color: #008000; text-decoration-color: #008000\">of many a stalker and tabloid reporter. Ellie barely remembers who he is, until the day she is unceremoniously </span>\n",
       "<span style=\"color: #008000; text-decoration-color: #008000\">evicted. Somehow, Ryder Baye manages to purchase Full House. Ellie will stop at nothing to reclaim her home. Ryder </span>\n",
       "<span style=\"color: #008000; text-decoration-color: #008000\">vows to stand his ground and hold onto his new purchase. The battle for Full House is fiery, with tempers ranging </span>\n",
       "<span style=\"color: #008000; text-decoration-color: #008000\">and sparks flying. What are two enemies to do when there is an intense attraction burning just below the surface? </span>\n",
       "<span style=\"color: #008000; text-decoration-color: #008000\">Ellie and Ryder may discover that their explosive chemistry under the same roof may turn them into a happy </span>\n",
       "<span style=\"color: #008000; text-decoration-color: #008000\">couple...as long as they can refrain from killing each other!&lt;br&gt;&lt;br&gt;\\n(Source: Netcomics)'</span><span style=\"color: #000000; text-decoration-color: #000000; font-weight: bold\">}</span><span style=\"color: #000000; text-decoration-color: #000000\">, </span><span style=\"color: #000000; text-decoration-color: #000000; font-weight: bold\">{</span><span style=\"color: #008000; text-decoration-color: #008000\">'id'</span><span style=\"color: #000000; text-decoration-color: #000000\">: </span><span style=\"color: #008080; text-decoration-color: #008080; font-weight: bold\">85508</span><span style=\"color: #000000; text-decoration-color: #000000\">, </span>\n",
       "<span style=\"color: #008000; text-decoration-color: #008000\">'title'</span><span style=\"color: #000000; text-decoration-color: #000000\">: </span><span style=\"color: #008000; text-decoration-color: #008000\">'In Full Bloom'</span><span style=\"color: #000000; text-decoration-color: #000000\">, </span><span style=\"color: #008000; text-decoration-color: #008000\">'url'</span><span style=\"color: #000000; text-decoration-color: #000000\">: </span><span style=\"color: #008000; text-decoration-color: #008000\">'https://anilist.co/manga/85508'</span><span style=\"color: #000000; text-decoration-color: #000000\">, </span><span style=\"color: #008000; text-decoration-color: #008000\">'genres'</span><span style=\"color: #000000; text-decoration-color: #000000\">: |</span><span style=\"color: #008000; text-decoration-color: #008000\">'Drama'</span><span style=\"color: #000000; text-decoration-color: #000000\">, </span><span style=\"color: #008000; text-decoration-color: #008000\">'Psychological'</span><span style=\"color: #000000; text-decoration-color: #000000; font-weight: bold\">]</span><span style=\"color: #000000; text-decoration-color: #000000\">, </span>\n",
       "<span style=\"color: #008000; text-decoration-color: #008000\">'average_score'</span><span style=\"color: #000000; text-decoration-color: #000000\">: </span><span style=\"color: #800080; text-decoration-color: #800080; font-style: italic\">None</span><span style=\"color: #000000; text-decoration-color: #000000\">, </span><span style=\"color: #008000; text-decoration-color: #008000\">'popularity'</span><span style=\"color: #000000; text-decoration-color: #000000\">: </span><span style=\"color: #008080; text-decoration-color: #008080; font-weight: bold\">142</span><span style=\"color: #000000; text-decoration-color: #000000\">, </span><span style=\"color: #008000; text-decoration-color: #008000\">'description'</span><span style=\"color: #000000; text-decoration-color: #000000\">: </span><span style=\"color: #008000; text-decoration-color: #008000\">\"One ruler...One schemer...and...One assassin\\r\\n\\r\\nThe </span>\n",
       "<span style=\"color: #008000; text-decoration-color: #008000\">kingdom of Juushin is suffering at the hands of a cruel emperor. In order to stop his father's rule of tyranny, the</span>\n",
       "<span style=\"color: #008000; text-decoration-color: #008000\">crown prince will enlist the aid of a legendary assassin with reasons of her own for wanting the emperor dead.\"</span><span style=\"color: #000000; text-decoration-color: #000000; font-weight: bold\">}</span><span style=\"color: #000000; text-decoration-color: #000000\">, </span>\n",
       "<span style=\"color: #000000; text-decoration-color: #000000; font-weight: bold\">{</span><span style=\"color: #008000; text-decoration-color: #008000\">'id'</span><span style=\"color: #000000; text-decoration-color: #000000\">: </span><span style=\"color: #008080; text-decoration-color: #008080; font-weight: bold\">144445</span><span style=\"color: #000000; text-decoration-color: #000000\">, </span><span style=\"color: #008000; text-decoration-color: #008000\">'title'</span><span style=\"color: #000000; text-decoration-color: #000000\">: </span><span style=\"color: #008000; text-decoration-color: #008000\">'Blazing Sun'</span><span style=\"color: #000000; text-decoration-color: #000000\">, </span><span style=\"color: #008000; text-decoration-color: #008000\">'url'</span><span style=\"color: #000000; text-decoration-color: #000000\">: </span><span style=\"color: #008000; text-decoration-color: #008000\">'https://anilist.co/manga/144445'</span><span style=\"color: #000000; text-decoration-color: #000000\">, </span><span style=\"color: #008000; text-decoration-color: #008000\">'genres'</span><span style=\"color: #000000; text-decoration-color: #000000\">: |</span><span style=\"color: #008000; text-decoration-color: #008000\">'Drama'</span><span style=\"color: #000000; text-decoration-color: #000000\">, </span><span style=\"color: #008000; text-decoration-color: #008000\">'Hentai'</span><span style=\"color: #000000; text-decoration-color: #000000; font-weight: bold\">]</span><span style=\"color: #000000; text-decoration-color: #000000\">, </span>\n",
       "<span style=\"color: #008000; text-decoration-color: #008000\">'average_score'</span><span style=\"color: #000000; text-decoration-color: #000000\">: </span><span style=\"color: #800080; text-decoration-color: #800080; font-style: italic\">None</span><span style=\"color: #000000; text-decoration-color: #000000\">, </span><span style=\"color: #008000; text-decoration-color: #008000\">'popularity'</span><span style=\"color: #000000; text-decoration-color: #000000\">: </span><span style=\"color: #008080; text-decoration-color: #008080; font-weight: bold\">96</span><span style=\"color: #000000; text-decoration-color: #000000\">, </span><span style=\"color: #008000; text-decoration-color: #008000\">'description'</span><span style=\"color: #000000; text-decoration-color: #000000\">: </span><span style=\"color: #008000; text-decoration-color: #008000\">'“You may be rich, but that doesn’t mean you can just do </span>\n",
       "<span style=\"color: #008000; text-decoration-color: #008000\">whatever you want with others!” A young man with nothing to lose will do anything to rise to the </span>\n",
       "<span style=\"color: #008000; text-decoration-color: #008000\">top.&lt;br&gt;\\n&lt;br&gt;\\n(Source: TOPTOON+)'</span><span style=\"color: #000000; text-decoration-color: #000000; font-weight: bold\">}</span><span style=\"color: #000000; text-decoration-color: #000000\">, </span><span style=\"color: #000000; text-decoration-color: #000000; font-weight: bold\">{</span><span style=\"color: #008000; text-decoration-color: #008000\">'id'</span><span style=\"color: #000000; text-decoration-color: #000000\">: </span><span style=\"color: #008080; text-decoration-color: #008080; font-weight: bold\">137968</span><span style=\"color: #000000; text-decoration-color: #000000\">, </span><span style=\"color: #008000; text-decoration-color: #008000\">'title'</span><span style=\"color: #000000; text-decoration-color: #000000\">: </span><span style=\"color: #008000; text-decoration-color: #008000\">'Milmyeon Danggigo Danggimyeon Mireora'</span><span style=\"color: #000000; text-decoration-color: #000000\">, </span><span style=\"color: #008000; text-decoration-color: #008000\">'url'</span><span style=\"color: #000000; text-decoration-color: #000000\">: </span>\n",
       "<span style=\"color: #008000; text-decoration-color: #008000\">'https://anilist.co/manga/137968'</span><span style=\"color: #000000; text-decoration-color: #000000\">, </span><span style=\"color: #008000; text-decoration-color: #008000\">'genres'</span><span style=\"color: #000000; text-decoration-color: #000000\">: |</span><span style=\"color: #008000; text-decoration-color: #008000\">'Romance'</span><span style=\"color: #000000; text-decoration-color: #000000; font-weight: bold\">]</span><span style=\"color: #000000; text-decoration-color: #000000\">, </span><span style=\"color: #008000; text-decoration-color: #008000\">'average_score'</span><span style=\"color: #000000; text-decoration-color: #000000\">: </span><span style=\"color: #800080; text-decoration-color: #800080; font-style: italic\">None</span><span style=\"color: #000000; text-decoration-color: #000000\">, </span><span style=\"color: #008000; text-decoration-color: #008000\">'popularity'</span><span style=\"color: #000000; text-decoration-color: #000000\">: </span><span style=\"color: #008080; text-decoration-color: #008080; font-weight: bold\">74</span><span style=\"color: #000000; text-decoration-color: #000000\">, </span><span style=\"color: #008000; text-decoration-color: #008000\">'description'</span><span style=\"color: #000000; text-decoration-color: #000000\">: </span>\n",
       "<span style=\"color: #008000; text-decoration-color: #008000\">'Rahyeon, a passive student who usually has bad luck, manages to attend a prestigious college. But was it karma? On</span>\n",
       "<span style=\"color: #008000; text-decoration-color: #008000\">the first day of admission he gets involved with a very beautiful but crazy person...&lt;br&gt;&lt;br&gt;(Source: Lezhin, </span>\n",
       "<span style=\"color: #008000; text-decoration-color: #008000\">translated)'</span><span style=\"color: #000000; text-decoration-color: #000000; font-weight: bold\">}</span><span style=\"color: #000000; text-decoration-color: #000000\">, </span><span style=\"color: #000000; text-decoration-color: #000000; font-weight: bold\">{</span><span style=\"color: #008000; text-decoration-color: #008000\">'id'</span><span style=\"color: #000000; text-decoration-color: #000000\">: </span><span style=\"color: #008080; text-decoration-color: #008080; font-weight: bold\">168340</span><span style=\"color: #000000; text-decoration-color: #000000\">, </span><span style=\"color: #008000; text-decoration-color: #008000\">'title'</span><span style=\"color: #000000; text-decoration-color: #000000\">: </span><span style=\"color: #008000; text-decoration-color: #008000\">'Magnetic Pull'</span><span style=\"color: #000000; text-decoration-color: #000000\">, </span><span style=\"color: #008000; text-decoration-color: #008000\">'url'</span><span style=\"color: #000000; text-decoration-color: #000000\">: </span><span style=\"color: #008000; text-decoration-color: #008000\">'https://anilist.co/manga/168340'</span><span style=\"color: #000000; text-decoration-color: #000000\">, </span><span style=\"color: #008000; text-decoration-color: #008000\">'genres'</span><span style=\"color: #000000; text-decoration-color: #000000\">: </span>\n",
       "<span style=\"color: #000000; text-decoration-color: #000000\">|</span><span style=\"color: #008000; text-decoration-color: #008000\">'Drama'</span><span style=\"color: #000000; text-decoration-color: #000000\">, </span><span style=\"color: #008000; text-decoration-color: #008000\">'Hentai'</span><span style=\"color: #000000; text-decoration-color: #000000; font-weight: bold\">]</span><span style=\"color: #000000; text-decoration-color: #000000\">, </span><span style=\"color: #008000; text-decoration-color: #008000\">'average_score'</span><span style=\"color: #000000; text-decoration-color: #000000\">: </span><span style=\"color: #800080; text-decoration-color: #800080; font-style: italic\">None</span><span style=\"color: #000000; text-decoration-color: #000000\">, </span><span style=\"color: #008000; text-decoration-color: #008000\">'popularity'</span><span style=\"color: #000000; text-decoration-color: #000000\">: </span><span style=\"color: #008080; text-decoration-color: #008080; font-weight: bold\">71</span><span style=\"color: #000000; text-decoration-color: #000000\">, </span><span style=\"color: #008000; text-decoration-color: #008000\">'description'</span><span style=\"color: #000000; text-decoration-color: #000000\">: </span><span style=\"color: #008000; text-decoration-color: #008000\">\"A flock of women is getting pulled </span>\n",
       "<span style=\"color: #008000; text-decoration-color: #008000\">into this new divorcé's life. Is there a magnetic pull that's at work? Or is Joey's ex-wife jinxing </span>\n",
       "<span style=\"color: #008000; text-decoration-color: #008000\">him?&lt;br&gt;&lt;br&gt;(Source: Toomics)\"</span><span style=\"color: #000000; text-decoration-color: #000000; font-weight: bold\">}</span><span style=\"color: #000000; text-decoration-color: #000000\">, </span><span style=\"color: #000000; text-decoration-color: #000000; font-weight: bold\">{</span><span style=\"color: #008000; text-decoration-color: #008000\">'id'</span><span style=\"color: #000000; text-decoration-color: #000000\">: </span><span style=\"color: #008080; text-decoration-color: #008080; font-weight: bold\">166963</span><span style=\"color: #000000; text-decoration-color: #000000\">, </span><span style=\"color: #008000; text-decoration-color: #008000\">'title'</span><span style=\"color: #000000; text-decoration-color: #000000\">: </span><span style=\"color: #008000; text-decoration-color: #008000\">'Full Circle'</span><span style=\"color: #000000; text-decoration-color: #000000\">, </span><span style=\"color: #008000; text-decoration-color: #008000\">'url'</span><span style=\"color: #000000; text-decoration-color: #000000\">: </span><span style=\"color: #008000; text-decoration-color: #008000\">'https://anilist.co/manga/166963'</span><span style=\"color: #000000; text-decoration-color: #000000\">, </span>\n",
       "<span style=\"color: #008000; text-decoration-color: #008000\">'genres'</span><span style=\"color: #000000; text-decoration-color: #000000\">: |</span><span style=\"color: #008000; text-decoration-color: #008000\">'Romance'</span><span style=\"color: #000000; text-decoration-color: #000000; font-weight: bold\">]</span><span style=\"color: #000000; text-decoration-color: #000000\">, </span><span style=\"color: #008000; text-decoration-color: #008000\">'average_score'</span><span style=\"color: #000000; text-decoration-color: #000000\">: </span><span style=\"color: #800080; text-decoration-color: #800080; font-style: italic\">None</span><span style=\"color: #000000; text-decoration-color: #000000\">, </span><span style=\"color: #008000; text-decoration-color: #008000\">'popularity'</span><span style=\"color: #000000; text-decoration-color: #000000\">: </span><span style=\"color: #008080; text-decoration-color: #008080; font-weight: bold\">32</span><span style=\"color: #000000; text-decoration-color: #000000\">, </span><span style=\"color: #008000; text-decoration-color: #008000\">'description'</span><span style=\"color: #000000; text-decoration-color: #000000\">: </span><span style=\"color: #008000; text-decoration-color: #008000\">'Yujin is a “normal” teenager who’s </span>\n",
       "<span style=\"color: #008000; text-decoration-color: #008000\">preparing to retake his college entrance exams. He is not into boys. Nope. At least that’s what he tells himself </span>\n",
       "<span style=\"color: #008000; text-decoration-color: #008000\">when his classmate, Jun-hyeok, starts hitting on him. But as time goes on, Yujin can’t deny his increasing </span>\n",
       "<span style=\"color: #008000; text-decoration-color: #008000\">attraction to Jun-hyeok and reluctantly admits that he’s probably as straight as a circle. But even if Yujin </span>\n",
       "<span style=\"color: #008000; text-decoration-color: #008000\">accepts his sexuality, will his and Jun-hyeok’s love prevail successful against all odds, or will it succumb to </span>\n",
       "<span style=\"color: #008000; text-decoration-color: #008000\">societal pressure?\\n&lt;BR&gt;BR&gt;\\n(Source: Lezhin US)'</span><span style=\"color: #000000; text-decoration-color: #000000; font-weight: bold\">}</span><span style=\"color: #000000; text-decoration-color: #000000\">, </span><span style=\"color: #000000; text-decoration-color: #000000; font-weight: bold\">{</span><span style=\"color: #008000; text-decoration-color: #008000\">'id'</span><span style=\"color: #000000; text-decoration-color: #000000\">: </span><span style=\"color: #008080; text-decoration-color: #008080; font-weight: bold\">157252</span><span style=\"color: #000000; text-decoration-color: #000000\">, </span><span style=\"color: #008000; text-decoration-color: #008000\">'title'</span><span style=\"color: #000000; text-decoration-color: #000000\">: </span><span style=\"color: #008000; text-decoration-color: #008000\">'Mokjureul Danggisio'</span><span style=\"color: #000000; text-decoration-color: #000000\">, </span><span style=\"color: #008000; text-decoration-color: #008000\">'url'</span><span style=\"color: #000000; text-decoration-color: #000000\">: </span>\n",
       "<span style=\"color: #008000; text-decoration-color: #008000\">'https://anilist.co/manga/157252'</span><span style=\"color: #000000; text-decoration-color: #000000\">, </span><span style=\"color: #008000; text-decoration-color: #008000\">'genres'</span><span style=\"color: #000000; text-decoration-color: #000000\">: |</span><span style=\"color: #008000; text-decoration-color: #008000\">'Drama'</span><span style=\"color: #000000; text-decoration-color: #000000\">, </span><span style=\"color: #008000; text-decoration-color: #008000\">'Romance'</span><span style=\"color: #000000; text-decoration-color: #000000; font-weight: bold\">]</span><span style=\"color: #000000; text-decoration-color: #000000\">, </span><span style=\"color: #008000; text-decoration-color: #008000\">'average_score'</span><span style=\"color: #000000; text-decoration-color: #000000\">: </span><span style=\"color: #800080; text-decoration-color: #800080; font-style: italic\">None</span><span style=\"color: #000000; text-decoration-color: #000000\">, </span><span style=\"color: #008000; text-decoration-color: #008000\">'popularity'</span><span style=\"color: #000000; text-decoration-color: #000000\">: </span><span style=\"color: #008080; text-decoration-color: #008080; font-weight: bold\">20</span><span style=\"color: #000000; text-decoration-color: #000000\">, </span>\n",
       "<span style=\"color: #008000; text-decoration-color: #008000\">'description'</span><span style=\"color: #000000; text-decoration-color: #000000\">: </span><span style=\"color: #008000; text-decoration-color: #008000\">''</span><span style=\"color: #000000; text-decoration-color: #000000; font-weight: bold\">}</span><span style=\"color: #000000; text-decoration-color: #000000\">, </span><span style=\"color: #000000; text-decoration-color: #000000; font-weight: bold\">{</span><span style=\"color: #008000; text-decoration-color: #008000\">'id'</span><span style=\"color: #000000; text-decoration-color: #000000\">: </span><span style=\"color: #008080; text-decoration-color: #008080; font-weight: bold\">193255</span><span style=\"color: #000000; text-decoration-color: #000000\">, </span><span style=\"color: #008000; text-decoration-color: #008000\">'title'</span><span style=\"color: #000000; text-decoration-color: #000000\">: </span><span style=\"color: #008000; text-decoration-color: #008000\">'Manworui Neukdae'</span><span style=\"color: #000000; text-decoration-color: #000000\">, </span><span style=\"color: #008000; text-decoration-color: #008000\">'url'</span><span style=\"color: #000000; text-decoration-color: #000000\">: </span><span style=\"color: #008000; text-decoration-color: #008000\">'https://anilist.co/manga/193255'</span><span style=\"color: #000000; text-decoration-color: #000000\">, </span><span style=\"color: #008000; text-decoration-color: #008000\">'genres'</span><span style=\"color: #000000; text-decoration-color: #000000\">:</span>\n",
       "<span style=\"color: #000000; text-decoration-color: #000000\">|</span><span style=\"color: #008000; text-decoration-color: #008000\">'Romance'</span><span style=\"color: #000000; text-decoration-color: #000000; font-weight: bold\">]</span><span style=\"color: #000000; text-decoration-color: #000000\">, </span><span style=\"color: #008000; text-decoration-color: #008000\">'average_score'</span><span style=\"color: #000000; text-decoration-color: #000000\">: </span><span style=\"color: #800080; text-decoration-color: #800080; font-style: italic\">None</span><span style=\"color: #000000; text-decoration-color: #000000\">, </span><span style=\"color: #008000; text-decoration-color: #008000\">'popularity'</span><span style=\"color: #000000; text-decoration-color: #000000\">: </span><span style=\"color: #008080; text-decoration-color: #008080; font-weight: bold\">10</span><span style=\"color: #000000; text-decoration-color: #000000\">, </span><span style=\"color: #008000; text-decoration-color: #008000\">'description'</span><span style=\"color: #000000; text-decoration-color: #000000\">: </span><span style=\"color: #008000; text-decoration-color: #008000\">\"&lt;i&gt;“If you keep struggling like that, I might</span>\n",
       "<span style=\"color: #008000; text-decoration-color: #008000\">rip the skirt and jacket you're wearing and rape you.” &lt;/i&gt;&lt;br&gt;&lt;br&gt;\\nThe king of beasts, the wolf god, disguises </span>\n",
       "<span style=\"color: #008000; text-decoration-color: #008000\">himself as a man and saves Wol-Young, who is on the brink of death. The man, whose mouth was torn and covered in </span>\n",
       "<span style=\"color: #008000; text-decoration-color: #008000\">dried blood, began to lick Wol-Young’s gagged lips and face. He licked the bright red blood that hadn’t hardened </span>\n",
       "<span style=\"color: #008000; text-decoration-color: #008000\">yet.&lt;br&gt;&lt;br&gt;&lt;i&gt;\\n“Hey, is that bastard some kind of vampire bat?”&lt;/i&gt;&lt;br&gt;&lt;br&gt;\\nWhether they were watching or not, </span>\n",
       "<span style=\"color: #008000; text-decoration-color: #008000\">the man licked Wol-Young’s trembling nose and eyelids, and then climbed up to her forehead. The group left the </span>\n",
       "<span style=\"color: #008000; text-decoration-color: #008000\">barn, saying they’d have a bowl of takju before they got together.&lt;br&gt;&lt;br&gt;&lt;i&gt; “Who are you?”&lt;br&gt; “Your majesty, you</span>\n",
       "<span style=\"color: #008000; text-decoration-color: #008000\">probably don’t know me, but you’re saying you’ve never looked at me before?”&lt;br&gt; “How could I know </span>\n",
       "<span style=\"color: #008000; text-decoration-color: #008000\">you?”&lt;/i&gt;&lt;br&gt;&lt;br&gt;(Source: Ridibooks, translated)&lt;br&gt;&lt;br&gt;\\n\\n&lt;i&gt;Note: Part of Ridi's Sunae(純愛) Danpyeonseon </span>\n",
       "<span style=\"color: #008000; text-decoration-color: #008000\">(순애(純愛) 단편선) Collection.&lt;/i&gt;\"</span><span style=\"font-weight: bold\">}]</span>\n",
       "</pre>\n"
      ],
      "text/plain": [
       "Observations: |\u001b[1m{\u001b[0m\u001b[32m'id'\u001b[0m: \u001b[1;36m132120\u001b[0m, \u001b[32m'title'\u001b[0m: \u001b[32m'Full Volume'\u001b[0m, \u001b[32m'url'\u001b[0m: \u001b[32m'https://anilist.co/manga/132120'\u001b[0m, \u001b[32m'genres'\u001b[0m: \n",
       "|\u001b[32m'Comedy'\u001b[0m, \u001b[32m'Romance'\u001b[0m, \u001b[32m'Slice of Life'\u001b[0m\u001b[1m]\u001b[0m, \u001b[32m'average_score'\u001b[0m: \u001b[1;36m73\u001b[0m, \u001b[32m'popularity'\u001b[0m: \u001b[1;36m4287\u001b[0m, \u001b[32m'description'\u001b[0m: \u001b[32m'Do-Won has a \u001b[0m\n",
       "\u001b[32mproblem. His neighbor, Beom, seems awfully rude, but he’s infuriatingly gorgeous. And the completely ridiculous \u001b[0m\n",
       "\u001b[32mcherry on top? Beom turns out to be Do-Won’s all-time favorite camboy, which only adds to the \u001b[0m\u001b[32m(\u001b[0m\u001b[32msexual\u001b[0m\u001b[32m)\u001b[0m\u001b[32m frustration.\u001b[0m\n",
       "\u001b[32mBeom is a metaphorical pain in Do-Won’s ass, and Do-Won would like to return the favor physically, thank you very \u001b[0m\n",
       "\u001b[32mmuch. So, Do-Won has a problem—in his pants. The question is, how is he going to solve it? You’ll find out the \u001b[0m\n",
       "\u001b[32manswer if you crank the volume up, and watch very, very closely…\\n\u001b[0m\u001b[32m<\u001b[0m\u001b[32mbr\u001b[0m\u001b[32m><br>\\n\u001b[0m\u001b[32m(\u001b[0m\u001b[32mSource: Lezhin\u001b[0m\u001b[32m)\u001b[0m\u001b[32m'\u001b[0m\u001b[1;39m}\u001b[0m\u001b[39m, \u001b[0m\u001b[1;39m{\u001b[0m\u001b[32m'id'\u001b[0m\u001b[39m: \u001b[0m\u001b[1;36m34770\u001b[0m\u001b[39m, \u001b[0m\n",
       "\u001b[32m'title'\u001b[0m\u001b[39m: \u001b[0m\u001b[32m'Full House'\u001b[0m\u001b[39m, \u001b[0m\u001b[32m'url'\u001b[0m\u001b[39m: \u001b[0m\u001b[32m'https://anilist.co/manga/34770'\u001b[0m\u001b[39m, \u001b[0m\u001b[32m'genres'\u001b[0m\u001b[39m: |\u001b[0m\u001b[32m'Comedy'\u001b[0m\u001b[39m, \u001b[0m\u001b[32m'Romance'\u001b[0m\u001b[1;39m]\u001b[0m\u001b[39m, \u001b[0m\u001b[32m'average_score'\u001b[0m\u001b[39m: \u001b[0m\n",
       "\u001b[1;36m54\u001b[0m\u001b[39m, \u001b[0m\u001b[32m'popularity'\u001b[0m\u001b[39m: \u001b[0m\u001b[1;36m458\u001b[0m\u001b[39m, \u001b[0m\u001b[32m'description'\u001b[0m\u001b[39m: \u001b[0m\u001b[32m'Ellie is an aspiring screenwriter in London, far from her home in Korea. \u001b[0m\n",
       "\u001b[32mWhile her life is a bit lonely, her one comfort is Full House--the estate left to her by her recently deceased \u001b[0m\n",
       "\u001b[32mfather and the only tangible memory of him she has left. Meanwhile, world famous actor Ryder Baye is the obsession \u001b[0m\n",
       "\u001b[32mof many a stalker and tabloid reporter. Ellie barely remembers who he is, until the day she is unceremoniously \u001b[0m\n",
       "\u001b[32mevicted. Somehow, Ryder Baye manages to purchase Full House. Ellie will stop at nothing to reclaim her home. Ryder \u001b[0m\n",
       "\u001b[32mvows to stand his ground and hold onto his new purchase. The battle for Full House is fiery, with tempers ranging \u001b[0m\n",
       "\u001b[32mand sparks flying. What are two enemies to do when there is an intense attraction burning just below the surface? \u001b[0m\n",
       "\u001b[32mEllie and Ryder may discover that their explosive chemistry under the same roof may turn them into a happy \u001b[0m\n",
       "\u001b[32mcouple...as long as they can refrain from killing each other!<br><br>\\n\u001b[0m\u001b[32m(\u001b[0m\u001b[32mSource: Netcomics\u001b[0m\u001b[32m)\u001b[0m\u001b[32m'\u001b[0m\u001b[1;39m}\u001b[0m\u001b[39m, \u001b[0m\u001b[1;39m{\u001b[0m\u001b[32m'id'\u001b[0m\u001b[39m: \u001b[0m\u001b[1;36m85508\u001b[0m\u001b[39m, \u001b[0m\n",
       "\u001b[32m'title'\u001b[0m\u001b[39m: \u001b[0m\u001b[32m'In Full Bloom'\u001b[0m\u001b[39m, \u001b[0m\u001b[32m'url'\u001b[0m\u001b[39m: \u001b[0m\u001b[32m'https://anilist.co/manga/85508'\u001b[0m\u001b[39m, \u001b[0m\u001b[32m'genres'\u001b[0m\u001b[39m: |\u001b[0m\u001b[32m'Drama'\u001b[0m\u001b[39m, \u001b[0m\u001b[32m'Psychological'\u001b[0m\u001b[1;39m]\u001b[0m\u001b[39m, \u001b[0m\n",
       "\u001b[32m'average_score'\u001b[0m\u001b[39m: \u001b[0m\u001b[3;35mNone\u001b[0m\u001b[39m, \u001b[0m\u001b[32m'popularity'\u001b[0m\u001b[39m: \u001b[0m\u001b[1;36m142\u001b[0m\u001b[39m, \u001b[0m\u001b[32m'description'\u001b[0m\u001b[39m: \u001b[0m\u001b[32m\"One ruler...One schemer...and...One assassin\\r\\n\\r\\nThe \u001b[0m\n",
       "\u001b[32mkingdom of Juushin is suffering at the hands of a cruel emperor. In order to stop his father's rule of tyranny, the\u001b[0m\n",
       "\u001b[32mcrown prince will enlist the aid of a legendary assassin with reasons of her own for wanting the emperor dead.\"\u001b[0m\u001b[1;39m}\u001b[0m\u001b[39m, \u001b[0m\n",
       "\u001b[1;39m{\u001b[0m\u001b[32m'id'\u001b[0m\u001b[39m: \u001b[0m\u001b[1;36m144445\u001b[0m\u001b[39m, \u001b[0m\u001b[32m'title'\u001b[0m\u001b[39m: \u001b[0m\u001b[32m'Blazing Sun'\u001b[0m\u001b[39m, \u001b[0m\u001b[32m'url'\u001b[0m\u001b[39m: \u001b[0m\u001b[32m'https://anilist.co/manga/144445'\u001b[0m\u001b[39m, \u001b[0m\u001b[32m'genres'\u001b[0m\u001b[39m: |\u001b[0m\u001b[32m'Drama'\u001b[0m\u001b[39m, \u001b[0m\u001b[32m'Hentai'\u001b[0m\u001b[1;39m]\u001b[0m\u001b[39m, \u001b[0m\n",
       "\u001b[32m'average_score'\u001b[0m\u001b[39m: \u001b[0m\u001b[3;35mNone\u001b[0m\u001b[39m, \u001b[0m\u001b[32m'popularity'\u001b[0m\u001b[39m: \u001b[0m\u001b[1;36m96\u001b[0m\u001b[39m, \u001b[0m\u001b[32m'description'\u001b[0m\u001b[39m: \u001b[0m\u001b[32m'“You may be rich, but that doesn’t mean you can just do \u001b[0m\n",
       "\u001b[32mwhatever you want with others!” A young man with nothing to lose will do anything to rise to the \u001b[0m\n",
       "\u001b[32mtop.<br>\\n<br>\\n\u001b[0m\u001b[32m(\u001b[0m\u001b[32mSource: TOPTOON+\u001b[0m\u001b[32m)\u001b[0m\u001b[32m'\u001b[0m\u001b[1;39m}\u001b[0m\u001b[39m, \u001b[0m\u001b[1;39m{\u001b[0m\u001b[32m'id'\u001b[0m\u001b[39m: \u001b[0m\u001b[1;36m137968\u001b[0m\u001b[39m, \u001b[0m\u001b[32m'title'\u001b[0m\u001b[39m: \u001b[0m\u001b[32m'Milmyeon Danggigo Danggimyeon Mireora'\u001b[0m\u001b[39m, \u001b[0m\u001b[32m'url'\u001b[0m\u001b[39m: \u001b[0m\n",
       "\u001b[32m'https://anilist.co/manga/137968'\u001b[0m\u001b[39m, \u001b[0m\u001b[32m'genres'\u001b[0m\u001b[39m: |\u001b[0m\u001b[32m'Romance'\u001b[0m\u001b[1;39m]\u001b[0m\u001b[39m, \u001b[0m\u001b[32m'average_score'\u001b[0m\u001b[39m: \u001b[0m\u001b[3;35mNone\u001b[0m\u001b[39m, \u001b[0m\u001b[32m'popularity'\u001b[0m\u001b[39m: \u001b[0m\u001b[1;36m74\u001b[0m\u001b[39m, \u001b[0m\u001b[32m'description'\u001b[0m\u001b[39m: \u001b[0m\n",
       "\u001b[32m'Rahyeon, a passive student who usually has bad luck, manages to attend a prestigious college. But was it karma? On\u001b[0m\n",
       "\u001b[32mthe first day of admission he gets involved with a very beautiful but crazy person...<br><br>\u001b[0m\u001b[32m(\u001b[0m\u001b[32mSource: Lezhin, \u001b[0m\n",
       "\u001b[32mtranslated\u001b[0m\u001b[32m)\u001b[0m\u001b[32m'\u001b[0m\u001b[1;39m}\u001b[0m\u001b[39m, \u001b[0m\u001b[1;39m{\u001b[0m\u001b[32m'id'\u001b[0m\u001b[39m: \u001b[0m\u001b[1;36m168340\u001b[0m\u001b[39m, \u001b[0m\u001b[32m'title'\u001b[0m\u001b[39m: \u001b[0m\u001b[32m'Magnetic Pull'\u001b[0m\u001b[39m, \u001b[0m\u001b[32m'url'\u001b[0m\u001b[39m: \u001b[0m\u001b[32m'https://anilist.co/manga/168340'\u001b[0m\u001b[39m, \u001b[0m\u001b[32m'genres'\u001b[0m\u001b[39m: \u001b[0m\n",
       "\u001b[39m|\u001b[0m\u001b[32m'Drama'\u001b[0m\u001b[39m, \u001b[0m\u001b[32m'Hentai'\u001b[0m\u001b[1;39m]\u001b[0m\u001b[39m, \u001b[0m\u001b[32m'average_score'\u001b[0m\u001b[39m: \u001b[0m\u001b[3;35mNone\u001b[0m\u001b[39m, \u001b[0m\u001b[32m'popularity'\u001b[0m\u001b[39m: \u001b[0m\u001b[1;36m71\u001b[0m\u001b[39m, \u001b[0m\u001b[32m'description'\u001b[0m\u001b[39m: \u001b[0m\u001b[32m\"A flock of women is getting pulled \u001b[0m\n",
       "\u001b[32minto this new divorcé's life. Is there a magnetic pull that's at work? Or is Joey's ex-wife jinxing \u001b[0m\n",
       "\u001b[32mhim?<br><br>\u001b[0m\u001b[32m(\u001b[0m\u001b[32mSource: Toomics\u001b[0m\u001b[32m)\u001b[0m\u001b[32m\"\u001b[0m\u001b[1;39m}\u001b[0m\u001b[39m, \u001b[0m\u001b[1;39m{\u001b[0m\u001b[32m'id'\u001b[0m\u001b[39m: \u001b[0m\u001b[1;36m166963\u001b[0m\u001b[39m, \u001b[0m\u001b[32m'title'\u001b[0m\u001b[39m: \u001b[0m\u001b[32m'Full Circle'\u001b[0m\u001b[39m, \u001b[0m\u001b[32m'url'\u001b[0m\u001b[39m: \u001b[0m\u001b[32m'https://anilist.co/manga/166963'\u001b[0m\u001b[39m, \u001b[0m\n",
       "\u001b[32m'genres'\u001b[0m\u001b[39m: |\u001b[0m\u001b[32m'Romance'\u001b[0m\u001b[1;39m]\u001b[0m\u001b[39m, \u001b[0m\u001b[32m'average_score'\u001b[0m\u001b[39m: \u001b[0m\u001b[3;35mNone\u001b[0m\u001b[39m, \u001b[0m\u001b[32m'popularity'\u001b[0m\u001b[39m: \u001b[0m\u001b[1;36m32\u001b[0m\u001b[39m, \u001b[0m\u001b[32m'description'\u001b[0m\u001b[39m: \u001b[0m\u001b[32m'Yujin is a “normal” teenager who’s \u001b[0m\n",
       "\u001b[32mpreparing to retake his college entrance exams. He is not into boys. Nope. At least that’s what he tells himself \u001b[0m\n",
       "\u001b[32mwhen his classmate, Jun-hyeok, starts hitting on him. But as time goes on, Yujin can’t deny his increasing \u001b[0m\n",
       "\u001b[32mattraction to Jun-hyeok and reluctantly admits that he’s probably as straight as a circle. But even if Yujin \u001b[0m\n",
       "\u001b[32maccepts his sexuality, will his and Jun-hyeok’s love prevail successful against all odds, or will it succumb to \u001b[0m\n",
       "\u001b[32msocietal pressure?\\n<BR>BR>\\n\u001b[0m\u001b[32m(\u001b[0m\u001b[32mSource: Lezhin US\u001b[0m\u001b[32m)\u001b[0m\u001b[32m'\u001b[0m\u001b[1;39m}\u001b[0m\u001b[39m, \u001b[0m\u001b[1;39m{\u001b[0m\u001b[32m'id'\u001b[0m\u001b[39m: \u001b[0m\u001b[1;36m157252\u001b[0m\u001b[39m, \u001b[0m\u001b[32m'title'\u001b[0m\u001b[39m: \u001b[0m\u001b[32m'Mokjureul Danggisio'\u001b[0m\u001b[39m, \u001b[0m\u001b[32m'url'\u001b[0m\u001b[39m: \u001b[0m\n",
       "\u001b[32m'https://anilist.co/manga/157252'\u001b[0m\u001b[39m, \u001b[0m\u001b[32m'genres'\u001b[0m\u001b[39m: |\u001b[0m\u001b[32m'Drama'\u001b[0m\u001b[39m, \u001b[0m\u001b[32m'Romance'\u001b[0m\u001b[1;39m]\u001b[0m\u001b[39m, \u001b[0m\u001b[32m'average_score'\u001b[0m\u001b[39m: \u001b[0m\u001b[3;35mNone\u001b[0m\u001b[39m, \u001b[0m\u001b[32m'popularity'\u001b[0m\u001b[39m: \u001b[0m\u001b[1;36m20\u001b[0m\u001b[39m, \u001b[0m\n",
       "\u001b[32m'description'\u001b[0m\u001b[39m: \u001b[0m\u001b[32m''\u001b[0m\u001b[1;39m}\u001b[0m\u001b[39m, \u001b[0m\u001b[1;39m{\u001b[0m\u001b[32m'id'\u001b[0m\u001b[39m: \u001b[0m\u001b[1;36m193255\u001b[0m\u001b[39m, \u001b[0m\u001b[32m'title'\u001b[0m\u001b[39m: \u001b[0m\u001b[32m'Manworui Neukdae'\u001b[0m\u001b[39m, \u001b[0m\u001b[32m'url'\u001b[0m\u001b[39m: \u001b[0m\u001b[32m'https://anilist.co/manga/193255'\u001b[0m\u001b[39m, \u001b[0m\u001b[32m'genres'\u001b[0m\u001b[39m:\u001b[0m\n",
       "\u001b[39m|\u001b[0m\u001b[32m'Romance'\u001b[0m\u001b[1;39m]\u001b[0m\u001b[39m, \u001b[0m\u001b[32m'average_score'\u001b[0m\u001b[39m: \u001b[0m\u001b[3;35mNone\u001b[0m\u001b[39m, \u001b[0m\u001b[32m'popularity'\u001b[0m\u001b[39m: \u001b[0m\u001b[1;36m10\u001b[0m\u001b[39m, \u001b[0m\u001b[32m'description'\u001b[0m\u001b[39m: \u001b[0m\u001b[32m\"<i>“If you keep struggling like that, I might\u001b[0m\n",
       "\u001b[32mrip the skirt and jacket you're wearing and rape you.” </i><br><br>\\nThe king of beasts, the wolf god, disguises \u001b[0m\n",
       "\u001b[32mhimself as a man and saves Wol-Young, who is on the brink of death. The man, whose mouth was torn and covered in \u001b[0m\n",
       "\u001b[32mdried blood, began to lick Wol-Young’s gagged lips and face. He licked the bright red blood that hadn’t hardened \u001b[0m\n",
       "\u001b[32myet.<br><br><i>\\n“Hey, is that bastard some kind of vampire bat?”</i><br><br>\\nWhether they were watching or not, \u001b[0m\n",
       "\u001b[32mthe man licked Wol-Young’s trembling nose and eyelids, and then climbed up to her forehead. The group left the \u001b[0m\n",
       "\u001b[32mbarn, saying they’d have a bowl of takju before they got together.<br><br><i> “Who are you?”<br> “Your majesty, you\u001b[0m\n",
       "\u001b[32mprobably don’t know me, but you’re saying you’ve never looked at me before?”<br> “How could I know \u001b[0m\n",
       "\u001b[32myou?”</i><br><br>\u001b[0m\u001b[32m(\u001b[0m\u001b[32mSource: Ridibooks, translated\u001b[0m\u001b[32m)\u001b[0m\u001b[32m<br><br>\\n\\n<i>Note: Part of Ridi's Sunae\u001b[0m\u001b[32m(\u001b[0m\u001b[32m純愛\u001b[0m\u001b[32m)\u001b[0m\u001b[32m Danpyeonseon \u001b[0m\n",
       "\u001b[32m(\u001b[0m\u001b[32m순애\u001b[0m\u001b[32m(\u001b[0m\u001b[32m純愛\u001b[0m\u001b[32m)\u001b[0m\u001b[32m 단편선\u001b[0m\u001b[32m)\u001b[0m\u001b[32m Collection.</i\u001b[0m\u001b[32m>\u001b[0m\u001b[32m\"\u001b[0m\u001b[1m}\u001b[0m\u001b[1m]\u001b[0m\n"
      ]
     },
     "metadata": {},
     "output_type": "display_data"
    },
    {
     "data": {
      "text/html": [
       "<pre style=\"white-space:pre;overflow-x:auto;line-height:normal;font-family:Menlo,'DejaVu Sans Mono',consolas,'Courier New',monospace\"><span style=\"color: #7f7f7f; text-decoration-color: #7f7f7f\">[Step 3: Duration 2.60 seconds| Input tokens: 7,453 | Output tokens: 29]</span>\n",
       "</pre>\n"
      ],
      "text/plain": [
       "\u001b[2m[Step 3: Duration 2.60 seconds| Input tokens: 7,453 | Output tokens: 29]\u001b[0m\n"
      ]
     },
     "metadata": {},
     "output_type": "display_data"
    },
    {
     "data": {
      "text/html": [
       "<pre style=\"white-space:pre;overflow-x:auto;line-height:normal;font-family:Menlo,'DejaVu Sans Mono',consolas,'Courier New',monospace\"><span style=\"color: #d4b702; text-decoration-color: #d4b702\">━━━━━━━━━━━━━━━━━━━━━━━━━━━━━━━━━━━━━━━━━━━━━━━━━━━━━ </span><span style=\"font-weight: bold\">Step </span><span style=\"color: #008080; text-decoration-color: #008080; font-weight: bold\">4</span><span style=\"color: #d4b702; text-decoration-color: #d4b702\"> ━━━━━━━━━━━━━━━━━━━━━━━━━━━━━━━━━━━━━━━━━━━━━━━━━━━━━━</span>\n",
       "</pre>\n"
      ],
      "text/plain": [
       "\u001b[38;2;212;183;2m━━━━━━━━━━━━━━━━━━━━━━━━━━━━━━━━━━━━━━━━━━━━━━━━━━━━━ \u001b[0m\u001b[1mStep \u001b[0m\u001b[1;36m4\u001b[0m\u001b[38;2;212;183;2m ━━━━━━━━━━━━━━━━━━━━━━━━━━━━━━━━━━━━━━━━━━━━━━━━━━━━━━\u001b[0m\n"
      ]
     },
     "metadata": {},
     "output_type": "display_data"
    },
    {
     "data": {
      "text/html": [
       "<pre style=\"white-space:pre;overflow-x:auto;line-height:normal;font-family:Menlo,'DejaVu Sans Mono',consolas,'Courier New',monospace\">╭─────────────────────────────────────────────────────────────────────────────────────────────────────────────────╮\n",
       "│ Calling tool: 'upsert_manhwa' with arguments: {'items': [{}]}                                                   │\n",
       "╰─────────────────────────────────────────────────────────────────────────────────────────────────────────────────╯\n",
       "</pre>\n"
      ],
      "text/plain": [
       "╭─────────────────────────────────────────────────────────────────────────────────────────────────────────────────╮\n",
       "│ Calling tool: 'upsert_manhwa' with arguments: {'items': [{}]}                                                   │\n",
       "╰─────────────────────────────────────────────────────────────────────────────────────────────────────────────────╯\n"
      ]
     },
     "metadata": {},
     "output_type": "display_data"
    },
    {
     "data": {
      "text/html": [
       "<pre style=\"white-space:pre;overflow-x:auto;line-height:normal;font-family:Menlo,'DejaVu Sans Mono',consolas,'Courier New',monospace\"><span style=\"color: #800000; text-decoration-color: #800000; font-weight: bold\">Error executing tool </span><span style=\"color: #008000; text-decoration-color: #008000\">'upsert_manhwa'</span><span style=\"color: #800000; text-decoration-color: #800000; font-weight: bold\"> with arguments {</span><span style=\"color: #008000; text-decoration-color: #008000\">'items'</span><span style=\"color: #800000; text-decoration-color: #800000; font-weight: bold\">: [{}\\]}: ValidationError: </span><span style=\"color: #008080; text-decoration-color: #008080; font-weight: bold\">4</span><span style=\"color: #800000; text-decoration-color: #800000; font-weight: bold\"> validation errors for Book</span>\n",
       "<span style=\"color: #800000; text-decoration-color: #800000; font-weight: bold\">id</span>\n",
       "<span style=\"color: #800000; text-decoration-color: #800000; font-weight: bold\">  Field required [</span><span style=\"color: #808000; text-decoration-color: #808000; font-weight: bold\">type</span><span style=\"color: #800000; text-decoration-color: #800000; font-weight: bold\">=</span><span style=\"color: #800080; text-decoration-color: #800080; font-weight: bold\">missing</span><span style=\"color: #800000; text-decoration-color: #800000; font-weight: bold\">, </span><span style=\"color: #808000; text-decoration-color: #808000; font-weight: bold\">input_value</span><span style=\"color: #800000; text-decoration-color: #800000; font-weight: bold\">={}, </span><span style=\"color: #808000; text-decoration-color: #808000; font-weight: bold\">input_type</span><span style=\"color: #800000; text-decoration-color: #800000; font-weight: bold\">=</span><span style=\"color: #800080; text-decoration-color: #800080; font-weight: bold\">dict</span><span style=\"color: #800000; text-decoration-color: #800000; font-weight: bold\">\\]</span>\n",
       "<span style=\"color: #800000; text-decoration-color: #800000; font-weight: bold\">    For further information visit </span><span style=\"color: #0000ff; text-decoration-color: #0000ff; text-decoration: underline\">https://errors.pydantic.dev/2.11/v/missing</span>\n",
       "<span style=\"color: #800000; text-decoration-color: #800000; font-weight: bold\">title</span>\n",
       "<span style=\"color: #800000; text-decoration-color: #800000; font-weight: bold\">  Field required [</span><span style=\"color: #808000; text-decoration-color: #808000; font-weight: bold\">type</span><span style=\"color: #800000; text-decoration-color: #800000; font-weight: bold\">=</span><span style=\"color: #800080; text-decoration-color: #800080; font-weight: bold\">missing</span><span style=\"color: #800000; text-decoration-color: #800000; font-weight: bold\">, </span><span style=\"color: #808000; text-decoration-color: #808000; font-weight: bold\">input_value</span><span style=\"color: #800000; text-decoration-color: #800000; font-weight: bold\">={}, </span><span style=\"color: #808000; text-decoration-color: #808000; font-weight: bold\">input_type</span><span style=\"color: #800000; text-decoration-color: #800000; font-weight: bold\">=</span><span style=\"color: #800080; text-decoration-color: #800080; font-weight: bold\">dict</span><span style=\"color: #800000; text-decoration-color: #800000; font-weight: bold\">\\]</span>\n",
       "<span style=\"color: #800000; text-decoration-color: #800000; font-weight: bold\">    For further information visit </span><span style=\"color: #0000ff; text-decoration-color: #0000ff; text-decoration: underline\">https://errors.pydantic.dev/2.11/v/missing</span>\n",
       "<span style=\"color: #800000; text-decoration-color: #800000; font-weight: bold\">url</span>\n",
       "<span style=\"color: #800000; text-decoration-color: #800000; font-weight: bold\">  Field required [</span><span style=\"color: #808000; text-decoration-color: #808000; font-weight: bold\">type</span><span style=\"color: #800000; text-decoration-color: #800000; font-weight: bold\">=</span><span style=\"color: #800080; text-decoration-color: #800080; font-weight: bold\">missing</span><span style=\"color: #800000; text-decoration-color: #800000; font-weight: bold\">, </span><span style=\"color: #808000; text-decoration-color: #808000; font-weight: bold\">input_value</span><span style=\"color: #800000; text-decoration-color: #800000; font-weight: bold\">={}, </span><span style=\"color: #808000; text-decoration-color: #808000; font-weight: bold\">input_type</span><span style=\"color: #800000; text-decoration-color: #800000; font-weight: bold\">=</span><span style=\"color: #800080; text-decoration-color: #800080; font-weight: bold\">dict</span><span style=\"color: #800000; text-decoration-color: #800000; font-weight: bold\">\\]</span>\n",
       "<span style=\"color: #800000; text-decoration-color: #800000; font-weight: bold\">    For further information visit </span><span style=\"color: #0000ff; text-decoration-color: #0000ff; text-decoration: underline\">https://errors.pydantic.dev/2.11/v/missing</span>\n",
       "<span style=\"color: #800000; text-decoration-color: #800000; font-weight: bold\">genres</span>\n",
       "<span style=\"color: #800000; text-decoration-color: #800000; font-weight: bold\">  Field required [</span><span style=\"color: #808000; text-decoration-color: #808000; font-weight: bold\">type</span><span style=\"color: #800000; text-decoration-color: #800000; font-weight: bold\">=</span><span style=\"color: #800080; text-decoration-color: #800080; font-weight: bold\">missing</span><span style=\"color: #800000; text-decoration-color: #800000; font-weight: bold\">, </span><span style=\"color: #808000; text-decoration-color: #808000; font-weight: bold\">input_value</span><span style=\"color: #800000; text-decoration-color: #800000; font-weight: bold\">={}, </span><span style=\"color: #808000; text-decoration-color: #808000; font-weight: bold\">input_type</span><span style=\"color: #800000; text-decoration-color: #800000; font-weight: bold\">=</span><span style=\"color: #800080; text-decoration-color: #800080; font-weight: bold\">dict</span><span style=\"color: #800000; text-decoration-color: #800000; font-weight: bold\">\\]</span>\n",
       "<span style=\"color: #800000; text-decoration-color: #800000; font-weight: bold\">    For further information visit </span><span style=\"color: #0000ff; text-decoration-color: #0000ff; text-decoration: underline\">https://errors.pydantic.dev/2.11/v/missing</span>\n",
       "<span style=\"color: #800000; text-decoration-color: #800000; font-weight: bold\">Please try again or use another tool</span>\n",
       "</pre>\n"
      ],
      "text/plain": [
       "\u001b[1;31mError executing tool \u001b[0m\u001b[32m'upsert_manhwa'\u001b[0m\u001b[1;31m with arguments \u001b[0m\u001b[1;31m{\u001b[0m\u001b[32m'items'\u001b[0m\u001b[1;31m: \u001b[0m\u001b[1;31m[\u001b[0m\u001b[1;31m{\u001b[0m\u001b[1;31m}\u001b[0m\u001b[1;31m\\\u001b[0m\u001b[1;31m]\u001b[0m\u001b[1;31m}\u001b[0m\u001b[1;31m: ValidationError: \u001b[0m\u001b[1;36m4\u001b[0m\u001b[1;31m validation errors for Book\u001b[0m\n",
       "\u001b[1;31mid\u001b[0m\n",
       "\u001b[1;31m  Field required \u001b[0m\u001b[1;31m[\u001b[0m\u001b[1;33mtype\u001b[0m\u001b[1;31m=\u001b[0m\u001b[1;35mmissing\u001b[0m\u001b[1;31m, \u001b[0m\u001b[1;33minput_value\u001b[0m\u001b[1;31m=\u001b[0m\u001b[1;31m{\u001b[0m\u001b[1;31m}\u001b[0m\u001b[1;31m, \u001b[0m\u001b[1;33minput_type\u001b[0m\u001b[1;31m=\u001b[0m\u001b[1;35mdict\u001b[0m\u001b[1;31m\\\u001b[0m\u001b[1;31m]\u001b[0m\n",
       "\u001b[1;31m    For further information visit \u001b[0m\u001b[4;94mhttps://errors.pydantic.dev/2.11/v/missing\u001b[0m\n",
       "\u001b[1;31mtitle\u001b[0m\n",
       "\u001b[1;31m  Field required \u001b[0m\u001b[1;31m[\u001b[0m\u001b[1;33mtype\u001b[0m\u001b[1;31m=\u001b[0m\u001b[1;35mmissing\u001b[0m\u001b[1;31m, \u001b[0m\u001b[1;33minput_value\u001b[0m\u001b[1;31m=\u001b[0m\u001b[1;31m{\u001b[0m\u001b[1;31m}\u001b[0m\u001b[1;31m, \u001b[0m\u001b[1;33minput_type\u001b[0m\u001b[1;31m=\u001b[0m\u001b[1;35mdict\u001b[0m\u001b[1;31m\\\u001b[0m\u001b[1;31m]\u001b[0m\n",
       "\u001b[1;31m    For further information visit \u001b[0m\u001b[4;94mhttps://errors.pydantic.dev/2.11/v/missing\u001b[0m\n",
       "\u001b[1;31murl\u001b[0m\n",
       "\u001b[1;31m  Field required \u001b[0m\u001b[1;31m[\u001b[0m\u001b[1;33mtype\u001b[0m\u001b[1;31m=\u001b[0m\u001b[1;35mmissing\u001b[0m\u001b[1;31m, \u001b[0m\u001b[1;33minput_value\u001b[0m\u001b[1;31m=\u001b[0m\u001b[1;31m{\u001b[0m\u001b[1;31m}\u001b[0m\u001b[1;31m, \u001b[0m\u001b[1;33minput_type\u001b[0m\u001b[1;31m=\u001b[0m\u001b[1;35mdict\u001b[0m\u001b[1;31m\\\u001b[0m\u001b[1;31m]\u001b[0m\n",
       "\u001b[1;31m    For further information visit \u001b[0m\u001b[4;94mhttps://errors.pydantic.dev/2.11/v/missing\u001b[0m\n",
       "\u001b[1;31mgenres\u001b[0m\n",
       "\u001b[1;31m  Field required \u001b[0m\u001b[1;31m[\u001b[0m\u001b[1;33mtype\u001b[0m\u001b[1;31m=\u001b[0m\u001b[1;35mmissing\u001b[0m\u001b[1;31m, \u001b[0m\u001b[1;33minput_value\u001b[0m\u001b[1;31m=\u001b[0m\u001b[1;31m{\u001b[0m\u001b[1;31m}\u001b[0m\u001b[1;31m, \u001b[0m\u001b[1;33minput_type\u001b[0m\u001b[1;31m=\u001b[0m\u001b[1;35mdict\u001b[0m\u001b[1;31m\\\u001b[0m\u001b[1;31m]\u001b[0m\n",
       "\u001b[1;31m    For further information visit \u001b[0m\u001b[4;94mhttps://errors.pydantic.dev/2.11/v/missing\u001b[0m\n",
       "\u001b[1;31mPlease try again or use another tool\u001b[0m\n"
      ]
     },
     "metadata": {},
     "output_type": "display_data"
    },
    {
     "data": {
      "text/html": [
       "<pre style=\"white-space:pre;overflow-x:auto;line-height:normal;font-family:Menlo,'DejaVu Sans Mono',consolas,'Courier New',monospace\"><span style=\"color: #7f7f7f; text-decoration-color: #7f7f7f\">[Step 4: Duration 2.78 seconds| Input tokens: 12,452 | Output tokens: 34]</span>\n",
       "</pre>\n"
      ],
      "text/plain": [
       "\u001b[2m[Step 4: Duration 2.78 seconds| Input tokens: 12,452 | Output tokens: 34]\u001b[0m\n"
      ]
     },
     "metadata": {},
     "output_type": "display_data"
    },
    {
     "data": {
      "text/html": [
       "<pre style=\"white-space:pre;overflow-x:auto;line-height:normal;font-family:Menlo,'DejaVu Sans Mono',consolas,'Courier New',monospace\"><span style=\"color: #d4b702; text-decoration-color: #d4b702\">━━━━━━━━━━━━━━━━━━━━━━━━━━━━━━━━━━━━━━━━━━━━━━━━━━━━━ </span><span style=\"font-weight: bold\">Step </span><span style=\"color: #008080; text-decoration-color: #008080; font-weight: bold\">5</span><span style=\"color: #d4b702; text-decoration-color: #d4b702\"> ━━━━━━━━━━━━━━━━━━━━━━━━━━━━━━━━━━━━━━━━━━━━━━━━━━━━━━</span>\n",
       "</pre>\n"
      ],
      "text/plain": [
       "\u001b[38;2;212;183;2m━━━━━━━━━━━━━━━━━━━━━━━━━━━━━━━━━━━━━━━━━━━━━━━━━━━━━ \u001b[0m\u001b[1mStep \u001b[0m\u001b[1;36m5\u001b[0m\u001b[38;2;212;183;2m ━━━━━━━━━━━━━━━━━━━━━━━━━━━━━━━━━━━━━━━━━━━━━━━━━━━━━━\u001b[0m\n"
      ]
     },
     "metadata": {},
     "output_type": "display_data"
    },
    {
     "data": {
      "text/html": [
       "<pre style=\"white-space:pre;overflow-x:auto;line-height:normal;font-family:Menlo,'DejaVu Sans Mono',consolas,'Courier New',monospace\">╭─────────────────────────────────────────────────────────────────────────────────────────────────────────────────╮\n",
       "│ Calling tool: 'search_manhwa' with arguments: {'per_page': 50, 'search': 'null', 'page': 1}                     │\n",
       "╰─────────────────────────────────────────────────────────────────────────────────────────────────────────────────╯\n",
       "</pre>\n"
      ],
      "text/plain": [
       "╭─────────────────────────────────────────────────────────────────────────────────────────────────────────────────╮\n",
       "│ Calling tool: 'search_manhwa' with arguments: {'per_page': 50, 'search': 'null', 'page': 1}                     │\n",
       "╰─────────────────────────────────────────────────────────────────────────────────────────────────────────────────╯\n"
      ]
     },
     "metadata": {},
     "output_type": "display_data"
    },
    {
     "data": {
      "text/html": [
       "<pre style=\"white-space:pre;overflow-x:auto;line-height:normal;font-family:Menlo,'DejaVu Sans Mono',consolas,'Courier New',monospace\">Observations: |<span style=\"font-weight: bold\">{</span><span style=\"color: #008000; text-decoration-color: #008000\">'id'</span>: <span style=\"color: #008080; text-decoration-color: #008080; font-weight: bold\">132120</span>, <span style=\"color: #008000; text-decoration-color: #008000\">'title'</span>: <span style=\"color: #008000; text-decoration-color: #008000\">'Full Volume'</span>, <span style=\"color: #008000; text-decoration-color: #008000\">'url'</span>: <span style=\"color: #008000; text-decoration-color: #008000\">'https://anilist.co/manga/132120'</span>, <span style=\"color: #008000; text-decoration-color: #008000\">'genres'</span>: \n",
       "|<span style=\"color: #008000; text-decoration-color: #008000\">'Comedy'</span>, <span style=\"color: #008000; text-decoration-color: #008000\">'Romance'</span>, <span style=\"color: #008000; text-decoration-color: #008000\">'Slice of Life'</span><span style=\"font-weight: bold\">]</span>, <span style=\"color: #008000; text-decoration-color: #008000\">'average_score'</span>: <span style=\"color: #008080; text-decoration-color: #008080; font-weight: bold\">73</span>, <span style=\"color: #008000; text-decoration-color: #008000\">'popularity'</span>: <span style=\"color: #008080; text-decoration-color: #008080; font-weight: bold\">4287</span>, <span style=\"color: #008000; text-decoration-color: #008000\">'description'</span>: <span style=\"color: #008000; text-decoration-color: #008000\">'Do-Won has a </span>\n",
       "<span style=\"color: #008000; text-decoration-color: #008000\">problem. His neighbor, Beom, seems awfully rude, but he’s infuriatingly gorgeous. And the completely ridiculous </span>\n",
       "<span style=\"color: #008000; text-decoration-color: #008000\">cherry on top? Beom turns out to be Do-Won’s all-time favorite camboy, which only adds to the (sexual) frustration.</span>\n",
       "<span style=\"color: #008000; text-decoration-color: #008000\">Beom is a metaphorical pain in Do-Won’s ass, and Do-Won would like to return the favor physically, thank you very </span>\n",
       "<span style=\"color: #008000; text-decoration-color: #008000\">much. So, Do-Won has a problem—in his pants. The question is, how is he going to solve it? You’ll find out the </span>\n",
       "<span style=\"color: #008000; text-decoration-color: #008000\">answer if you crank the volume up, and watch very, very closely…\\n&lt;br&gt;&lt;br&gt;\\n(Source: Lezhin)'</span><span style=\"color: #000000; text-decoration-color: #000000; font-weight: bold\">}</span><span style=\"color: #000000; text-decoration-color: #000000\">, </span><span style=\"color: #000000; text-decoration-color: #000000; font-weight: bold\">{</span><span style=\"color: #008000; text-decoration-color: #008000\">'id'</span><span style=\"color: #000000; text-decoration-color: #000000\">: </span><span style=\"color: #008080; text-decoration-color: #008080; font-weight: bold\">34770</span><span style=\"color: #000000; text-decoration-color: #000000\">, </span>\n",
       "<span style=\"color: #008000; text-decoration-color: #008000\">'title'</span><span style=\"color: #000000; text-decoration-color: #000000\">: </span><span style=\"color: #008000; text-decoration-color: #008000\">'Full House'</span><span style=\"color: #000000; text-decoration-color: #000000\">, </span><span style=\"color: #008000; text-decoration-color: #008000\">'url'</span><span style=\"color: #000000; text-decoration-color: #000000\">: </span><span style=\"color: #008000; text-decoration-color: #008000\">'https://anilist.co/manga/34770'</span><span style=\"color: #000000; text-decoration-color: #000000\">, </span><span style=\"color: #008000; text-decoration-color: #008000\">'genres'</span><span style=\"color: #000000; text-decoration-color: #000000\">: |</span><span style=\"color: #008000; text-decoration-color: #008000\">'Comedy'</span><span style=\"color: #000000; text-decoration-color: #000000\">, </span><span style=\"color: #008000; text-decoration-color: #008000\">'Romance'</span><span style=\"color: #000000; text-decoration-color: #000000; font-weight: bold\">]</span><span style=\"color: #000000; text-decoration-color: #000000\">, </span><span style=\"color: #008000; text-decoration-color: #008000\">'average_score'</span><span style=\"color: #000000; text-decoration-color: #000000\">: </span>\n",
       "<span style=\"color: #008080; text-decoration-color: #008080; font-weight: bold\">54</span><span style=\"color: #000000; text-decoration-color: #000000\">, </span><span style=\"color: #008000; text-decoration-color: #008000\">'popularity'</span><span style=\"color: #000000; text-decoration-color: #000000\">: </span><span style=\"color: #008080; text-decoration-color: #008080; font-weight: bold\">458</span><span style=\"color: #000000; text-decoration-color: #000000\">, </span><span style=\"color: #008000; text-decoration-color: #008000\">'description'</span><span style=\"color: #000000; text-decoration-color: #000000\">: </span><span style=\"color: #008000; text-decoration-color: #008000\">'Ellie is an aspiring screenwriter in London, far from her home in Korea. </span>\n",
       "<span style=\"color: #008000; text-decoration-color: #008000\">While her life is a bit lonely, her one comfort is Full House--the estate left to her by her recently deceased </span>\n",
       "<span style=\"color: #008000; text-decoration-color: #008000\">father and the only tangible memory of him she has left. Meanwhile, world famous actor Ryder Baye is the obsession </span>\n",
       "<span style=\"color: #008000; text-decoration-color: #008000\">of many a stalker and tabloid reporter. Ellie barely remembers who he is, until the day she is unceremoniously </span>\n",
       "<span style=\"color: #008000; text-decoration-color: #008000\">evicted. Somehow, Ryder Baye manages to purchase Full House. Ellie will stop at nothing to reclaim her home. Ryder </span>\n",
       "<span style=\"color: #008000; text-decoration-color: #008000\">vows to stand his ground and hold onto his new purchase. The battle for Full House is fiery, with tempers ranging </span>\n",
       "<span style=\"color: #008000; text-decoration-color: #008000\">and sparks flying. What are two enemies to do when there is an intense attraction burning just below the surface? </span>\n",
       "<span style=\"color: #008000; text-decoration-color: #008000\">Ellie and Ryder may discover that their explosive chemistry under the same roof may turn them into a happy </span>\n",
       "<span style=\"color: #008000; text-decoration-color: #008000\">couple...as long as they can refrain from killing each other!&lt;br&gt;&lt;br&gt;\\n(Source: Netcomics)'</span><span style=\"color: #000000; text-decoration-color: #000000; font-weight: bold\">}</span><span style=\"color: #000000; text-decoration-color: #000000\">, </span><span style=\"color: #000000; text-decoration-color: #000000; font-weight: bold\">{</span><span style=\"color: #008000; text-decoration-color: #008000\">'id'</span><span style=\"color: #000000; text-decoration-color: #000000\">: </span><span style=\"color: #008080; text-decoration-color: #008080; font-weight: bold\">85508</span><span style=\"color: #000000; text-decoration-color: #000000\">, </span>\n",
       "<span style=\"color: #008000; text-decoration-color: #008000\">'title'</span><span style=\"color: #000000; text-decoration-color: #000000\">: </span><span style=\"color: #008000; text-decoration-color: #008000\">'In Full Bloom'</span><span style=\"color: #000000; text-decoration-color: #000000\">, </span><span style=\"color: #008000; text-decoration-color: #008000\">'url'</span><span style=\"color: #000000; text-decoration-color: #000000\">: </span><span style=\"color: #008000; text-decoration-color: #008000\">'https://anilist.co/manga/85508'</span><span style=\"color: #000000; text-decoration-color: #000000\">, </span><span style=\"color: #008000; text-decoration-color: #008000\">'genres'</span><span style=\"color: #000000; text-decoration-color: #000000\">: |</span><span style=\"color: #008000; text-decoration-color: #008000\">'Drama'</span><span style=\"color: #000000; text-decoration-color: #000000\">, </span><span style=\"color: #008000; text-decoration-color: #008000\">'Psychological'</span><span style=\"color: #000000; text-decoration-color: #000000; font-weight: bold\">]</span><span style=\"color: #000000; text-decoration-color: #000000\">, </span>\n",
       "<span style=\"color: #008000; text-decoration-color: #008000\">'average_score'</span><span style=\"color: #000000; text-decoration-color: #000000\">: </span><span style=\"color: #800080; text-decoration-color: #800080; font-style: italic\">None</span><span style=\"color: #000000; text-decoration-color: #000000\">, </span><span style=\"color: #008000; text-decoration-color: #008000\">'popularity'</span><span style=\"color: #000000; text-decoration-color: #000000\">: </span><span style=\"color: #008080; text-decoration-color: #008080; font-weight: bold\">142</span><span style=\"color: #000000; text-decoration-color: #000000\">, </span><span style=\"color: #008000; text-decoration-color: #008000\">'description'</span><span style=\"color: #000000; text-decoration-color: #000000\">: </span><span style=\"color: #008000; text-decoration-color: #008000\">\"One ruler...One schemer...and...One assassin\\r\\n\\r\\nThe </span>\n",
       "<span style=\"color: #008000; text-decoration-color: #008000\">kingdom of Juushin is suffering at the hands of a cruel emperor. In order to stop his father's rule of tyranny, the</span>\n",
       "<span style=\"color: #008000; text-decoration-color: #008000\">crown prince will enlist the aid of a legendary assassin with reasons of her own for wanting the emperor dead.\"</span><span style=\"color: #000000; text-decoration-color: #000000; font-weight: bold\">}</span><span style=\"color: #000000; text-decoration-color: #000000\">, </span>\n",
       "<span style=\"color: #000000; text-decoration-color: #000000; font-weight: bold\">{</span><span style=\"color: #008000; text-decoration-color: #008000\">'id'</span><span style=\"color: #000000; text-decoration-color: #000000\">: </span><span style=\"color: #008080; text-decoration-color: #008080; font-weight: bold\">144445</span><span style=\"color: #000000; text-decoration-color: #000000\">, </span><span style=\"color: #008000; text-decoration-color: #008000\">'title'</span><span style=\"color: #000000; text-decoration-color: #000000\">: </span><span style=\"color: #008000; text-decoration-color: #008000\">'Blazing Sun'</span><span style=\"color: #000000; text-decoration-color: #000000\">, </span><span style=\"color: #008000; text-decoration-color: #008000\">'url'</span><span style=\"color: #000000; text-decoration-color: #000000\">: </span><span style=\"color: #008000; text-decoration-color: #008000\">'https://anilist.co/manga/144445'</span><span style=\"color: #000000; text-decoration-color: #000000\">, </span><span style=\"color: #008000; text-decoration-color: #008000\">'genres'</span><span style=\"color: #000000; text-decoration-color: #000000\">: |</span><span style=\"color: #008000; text-decoration-color: #008000\">'Drama'</span><span style=\"color: #000000; text-decoration-color: #000000\">, </span><span style=\"color: #008000; text-decoration-color: #008000\">'Hentai'</span><span style=\"color: #000000; text-decoration-color: #000000; font-weight: bold\">]</span><span style=\"color: #000000; text-decoration-color: #000000\">, </span>\n",
       "<span style=\"color: #008000; text-decoration-color: #008000\">'average_score'</span><span style=\"color: #000000; text-decoration-color: #000000\">: </span><span style=\"color: #800080; text-decoration-color: #800080; font-style: italic\">None</span><span style=\"color: #000000; text-decoration-color: #000000\">, </span><span style=\"color: #008000; text-decoration-color: #008000\">'popularity'</span><span style=\"color: #000000; text-decoration-color: #000000\">: </span><span style=\"color: #008080; text-decoration-color: #008080; font-weight: bold\">96</span><span style=\"color: #000000; text-decoration-color: #000000\">, </span><span style=\"color: #008000; text-decoration-color: #008000\">'description'</span><span style=\"color: #000000; text-decoration-color: #000000\">: </span><span style=\"color: #008000; text-decoration-color: #008000\">'“You may be rich, but that doesn’t mean you can just do </span>\n",
       "<span style=\"color: #008000; text-decoration-color: #008000\">whatever you want with others!” A young man with nothing to lose will do anything to rise to the </span>\n",
       "<span style=\"color: #008000; text-decoration-color: #008000\">top.&lt;br&gt;\\n&lt;br&gt;\\n(Source: TOPTOON+)'</span><span style=\"color: #000000; text-decoration-color: #000000; font-weight: bold\">}</span><span style=\"color: #000000; text-decoration-color: #000000\">, </span><span style=\"color: #000000; text-decoration-color: #000000; font-weight: bold\">{</span><span style=\"color: #008000; text-decoration-color: #008000\">'id'</span><span style=\"color: #000000; text-decoration-color: #000000\">: </span><span style=\"color: #008080; text-decoration-color: #008080; font-weight: bold\">137968</span><span style=\"color: #000000; text-decoration-color: #000000\">, </span><span style=\"color: #008000; text-decoration-color: #008000\">'title'</span><span style=\"color: #000000; text-decoration-color: #000000\">: </span><span style=\"color: #008000; text-decoration-color: #008000\">'Milmyeon Danggigo Danggimyeon Mireora'</span><span style=\"color: #000000; text-decoration-color: #000000\">, </span><span style=\"color: #008000; text-decoration-color: #008000\">'url'</span><span style=\"color: #000000; text-decoration-color: #000000\">: </span>\n",
       "<span style=\"color: #008000; text-decoration-color: #008000\">'https://anilist.co/manga/137968'</span><span style=\"color: #000000; text-decoration-color: #000000\">, </span><span style=\"color: #008000; text-decoration-color: #008000\">'genres'</span><span style=\"color: #000000; text-decoration-color: #000000\">: |</span><span style=\"color: #008000; text-decoration-color: #008000\">'Romance'</span><span style=\"color: #000000; text-decoration-color: #000000; font-weight: bold\">]</span><span style=\"color: #000000; text-decoration-color: #000000\">, </span><span style=\"color: #008000; text-decoration-color: #008000\">'average_score'</span><span style=\"color: #000000; text-decoration-color: #000000\">: </span><span style=\"color: #800080; text-decoration-color: #800080; font-style: italic\">None</span><span style=\"color: #000000; text-decoration-color: #000000\">, </span><span style=\"color: #008000; text-decoration-color: #008000\">'popularity'</span><span style=\"color: #000000; text-decoration-color: #000000\">: </span><span style=\"color: #008080; text-decoration-color: #008080; font-weight: bold\">74</span><span style=\"color: #000000; text-decoration-color: #000000\">, </span><span style=\"color: #008000; text-decoration-color: #008000\">'description'</span><span style=\"color: #000000; text-decoration-color: #000000\">: </span>\n",
       "<span style=\"color: #008000; text-decoration-color: #008000\">'Rahyeon, a passive student who usually has bad luck, manages to attend a prestigious college. But was it karma? On</span>\n",
       "<span style=\"color: #008000; text-decoration-color: #008000\">the first day of admission he gets involved with a very beautiful but crazy person...&lt;br&gt;&lt;br&gt;(Source: Lezhin, </span>\n",
       "<span style=\"color: #008000; text-decoration-color: #008000\">translated)'</span><span style=\"color: #000000; text-decoration-color: #000000; font-weight: bold\">}</span><span style=\"color: #000000; text-decoration-color: #000000\">, </span><span style=\"color: #000000; text-decoration-color: #000000; font-weight: bold\">{</span><span style=\"color: #008000; text-decoration-color: #008000\">'id'</span><span style=\"color: #000000; text-decoration-color: #000000\">: </span><span style=\"color: #008080; text-decoration-color: #008080; font-weight: bold\">168340</span><span style=\"color: #000000; text-decoration-color: #000000\">, </span><span style=\"color: #008000; text-decoration-color: #008000\">'title'</span><span style=\"color: #000000; text-decoration-color: #000000\">: </span><span style=\"color: #008000; text-decoration-color: #008000\">'Magnetic Pull'</span><span style=\"color: #000000; text-decoration-color: #000000\">, </span><span style=\"color: #008000; text-decoration-color: #008000\">'url'</span><span style=\"color: #000000; text-decoration-color: #000000\">: </span><span style=\"color: #008000; text-decoration-color: #008000\">'https://anilist.co/manga/168340'</span><span style=\"color: #000000; text-decoration-color: #000000\">, </span><span style=\"color: #008000; text-decoration-color: #008000\">'genres'</span><span style=\"color: #000000; text-decoration-color: #000000\">: </span>\n",
       "<span style=\"color: #000000; text-decoration-color: #000000\">|</span><span style=\"color: #008000; text-decoration-color: #008000\">'Drama'</span><span style=\"color: #000000; text-decoration-color: #000000\">, </span><span style=\"color: #008000; text-decoration-color: #008000\">'Hentai'</span><span style=\"color: #000000; text-decoration-color: #000000; font-weight: bold\">]</span><span style=\"color: #000000; text-decoration-color: #000000\">, </span><span style=\"color: #008000; text-decoration-color: #008000\">'average_score'</span><span style=\"color: #000000; text-decoration-color: #000000\">: </span><span style=\"color: #800080; text-decoration-color: #800080; font-style: italic\">None</span><span style=\"color: #000000; text-decoration-color: #000000\">, </span><span style=\"color: #008000; text-decoration-color: #008000\">'popularity'</span><span style=\"color: #000000; text-decoration-color: #000000\">: </span><span style=\"color: #008080; text-decoration-color: #008080; font-weight: bold\">71</span><span style=\"color: #000000; text-decoration-color: #000000\">, </span><span style=\"color: #008000; text-decoration-color: #008000\">'description'</span><span style=\"color: #000000; text-decoration-color: #000000\">: </span><span style=\"color: #008000; text-decoration-color: #008000\">\"A flock of women is getting pulled </span>\n",
       "<span style=\"color: #008000; text-decoration-color: #008000\">into this new divorcé's life. Is there a magnetic pull that's at work? Or is Joey's ex-wife jinxing </span>\n",
       "<span style=\"color: #008000; text-decoration-color: #008000\">him?&lt;br&gt;&lt;br&gt;(Source: Toomics)\"</span><span style=\"color: #000000; text-decoration-color: #000000; font-weight: bold\">}</span><span style=\"color: #000000; text-decoration-color: #000000\">, </span><span style=\"color: #000000; text-decoration-color: #000000; font-weight: bold\">{</span><span style=\"color: #008000; text-decoration-color: #008000\">'id'</span><span style=\"color: #000000; text-decoration-color: #000000\">: </span><span style=\"color: #008080; text-decoration-color: #008080; font-weight: bold\">166963</span><span style=\"color: #000000; text-decoration-color: #000000\">, </span><span style=\"color: #008000; text-decoration-color: #008000\">'title'</span><span style=\"color: #000000; text-decoration-color: #000000\">: </span><span style=\"color: #008000; text-decoration-color: #008000\">'Full Circle'</span><span style=\"color: #000000; text-decoration-color: #000000\">, </span><span style=\"color: #008000; text-decoration-color: #008000\">'url'</span><span style=\"color: #000000; text-decoration-color: #000000\">: </span><span style=\"color: #008000; text-decoration-color: #008000\">'https://anilist.co/manga/166963'</span><span style=\"color: #000000; text-decoration-color: #000000\">, </span>\n",
       "<span style=\"color: #008000; text-decoration-color: #008000\">'genres'</span><span style=\"color: #000000; text-decoration-color: #000000\">: |</span><span style=\"color: #008000; text-decoration-color: #008000\">'Romance'</span><span style=\"color: #000000; text-decoration-color: #000000; font-weight: bold\">]</span><span style=\"color: #000000; text-decoration-color: #000000\">, </span><span style=\"color: #008000; text-decoration-color: #008000\">'average_score'</span><span style=\"color: #000000; text-decoration-color: #000000\">: </span><span style=\"color: #800080; text-decoration-color: #800080; font-style: italic\">None</span><span style=\"color: #000000; text-decoration-color: #000000\">, </span><span style=\"color: #008000; text-decoration-color: #008000\">'popularity'</span><span style=\"color: #000000; text-decoration-color: #000000\">: </span><span style=\"color: #008080; text-decoration-color: #008080; font-weight: bold\">32</span><span style=\"color: #000000; text-decoration-color: #000000\">, </span><span style=\"color: #008000; text-decoration-color: #008000\">'description'</span><span style=\"color: #000000; text-decoration-color: #000000\">: </span><span style=\"color: #008000; text-decoration-color: #008000\">'Yujin is a “normal” teenager who’s </span>\n",
       "<span style=\"color: #008000; text-decoration-color: #008000\">preparing to retake his college entrance exams. He is not into boys. Nope. At least that’s what he tells himself </span>\n",
       "<span style=\"color: #008000; text-decoration-color: #008000\">when his classmate, Jun-hyeok, starts hitting on him. But as time goes on, Yujin can’t deny his increasing </span>\n",
       "<span style=\"color: #008000; text-decoration-color: #008000\">attraction to Jun-hyeok and reluctantly admits that he’s probably as straight as a circle. But even if Yujin </span>\n",
       "<span style=\"color: #008000; text-decoration-color: #008000\">accepts his sexuality, will his and Jun-hyeok’s love prevail successful against all odds, or will it succumb to </span>\n",
       "<span style=\"color: #008000; text-decoration-color: #008000\">societal pressure?\\n&lt;BR&gt;BR&gt;\\n(Source: Lezhin US)'</span><span style=\"color: #000000; text-decoration-color: #000000; font-weight: bold\">}</span><span style=\"color: #000000; text-decoration-color: #000000\">, </span><span style=\"color: #000000; text-decoration-color: #000000; font-weight: bold\">{</span><span style=\"color: #008000; text-decoration-color: #008000\">'id'</span><span style=\"color: #000000; text-decoration-color: #000000\">: </span><span style=\"color: #008080; text-decoration-color: #008080; font-weight: bold\">157252</span><span style=\"color: #000000; text-decoration-color: #000000\">, </span><span style=\"color: #008000; text-decoration-color: #008000\">'title'</span><span style=\"color: #000000; text-decoration-color: #000000\">: </span><span style=\"color: #008000; text-decoration-color: #008000\">'Mokjureul Danggisio'</span><span style=\"color: #000000; text-decoration-color: #000000\">, </span><span style=\"color: #008000; text-decoration-color: #008000\">'url'</span><span style=\"color: #000000; text-decoration-color: #000000\">: </span>\n",
       "<span style=\"color: #008000; text-decoration-color: #008000\">'https://anilist.co/manga/157252'</span><span style=\"color: #000000; text-decoration-color: #000000\">, </span><span style=\"color: #008000; text-decoration-color: #008000\">'genres'</span><span style=\"color: #000000; text-decoration-color: #000000\">: |</span><span style=\"color: #008000; text-decoration-color: #008000\">'Drama'</span><span style=\"color: #000000; text-decoration-color: #000000\">, </span><span style=\"color: #008000; text-decoration-color: #008000\">'Romance'</span><span style=\"color: #000000; text-decoration-color: #000000; font-weight: bold\">]</span><span style=\"color: #000000; text-decoration-color: #000000\">, </span><span style=\"color: #008000; text-decoration-color: #008000\">'average_score'</span><span style=\"color: #000000; text-decoration-color: #000000\">: </span><span style=\"color: #800080; text-decoration-color: #800080; font-style: italic\">None</span><span style=\"color: #000000; text-decoration-color: #000000\">, </span><span style=\"color: #008000; text-decoration-color: #008000\">'popularity'</span><span style=\"color: #000000; text-decoration-color: #000000\">: </span><span style=\"color: #008080; text-decoration-color: #008080; font-weight: bold\">20</span><span style=\"color: #000000; text-decoration-color: #000000\">, </span>\n",
       "<span style=\"color: #008000; text-decoration-color: #008000\">'description'</span><span style=\"color: #000000; text-decoration-color: #000000\">: </span><span style=\"color: #008000; text-decoration-color: #008000\">''</span><span style=\"color: #000000; text-decoration-color: #000000; font-weight: bold\">}</span><span style=\"color: #000000; text-decoration-color: #000000\">, </span><span style=\"color: #000000; text-decoration-color: #000000; font-weight: bold\">{</span><span style=\"color: #008000; text-decoration-color: #008000\">'id'</span><span style=\"color: #000000; text-decoration-color: #000000\">: </span><span style=\"color: #008080; text-decoration-color: #008080; font-weight: bold\">193255</span><span style=\"color: #000000; text-decoration-color: #000000\">, </span><span style=\"color: #008000; text-decoration-color: #008000\">'title'</span><span style=\"color: #000000; text-decoration-color: #000000\">: </span><span style=\"color: #008000; text-decoration-color: #008000\">'Manworui Neukdae'</span><span style=\"color: #000000; text-decoration-color: #000000\">, </span><span style=\"color: #008000; text-decoration-color: #008000\">'url'</span><span style=\"color: #000000; text-decoration-color: #000000\">: </span><span style=\"color: #008000; text-decoration-color: #008000\">'https://anilist.co/manga/193255'</span><span style=\"color: #000000; text-decoration-color: #000000\">, </span><span style=\"color: #008000; text-decoration-color: #008000\">'genres'</span><span style=\"color: #000000; text-decoration-color: #000000\">:</span>\n",
       "<span style=\"color: #000000; text-decoration-color: #000000\">|</span><span style=\"color: #008000; text-decoration-color: #008000\">'Romance'</span><span style=\"color: #000000; text-decoration-color: #000000; font-weight: bold\">]</span><span style=\"color: #000000; text-decoration-color: #000000\">, </span><span style=\"color: #008000; text-decoration-color: #008000\">'average_score'</span><span style=\"color: #000000; text-decoration-color: #000000\">: </span><span style=\"color: #800080; text-decoration-color: #800080; font-style: italic\">None</span><span style=\"color: #000000; text-decoration-color: #000000\">, </span><span style=\"color: #008000; text-decoration-color: #008000\">'popularity'</span><span style=\"color: #000000; text-decoration-color: #000000\">: </span><span style=\"color: #008080; text-decoration-color: #008080; font-weight: bold\">10</span><span style=\"color: #000000; text-decoration-color: #000000\">, </span><span style=\"color: #008000; text-decoration-color: #008000\">'description'</span><span style=\"color: #000000; text-decoration-color: #000000\">: </span><span style=\"color: #008000; text-decoration-color: #008000\">\"&lt;i&gt;“If you keep struggling like that, I might</span>\n",
       "<span style=\"color: #008000; text-decoration-color: #008000\">rip the skirt and jacket you're wearing and rape you.” &lt;/i&gt;&lt;br&gt;&lt;br&gt;\\nThe king of beasts, the wolf god, disguises </span>\n",
       "<span style=\"color: #008000; text-decoration-color: #008000\">himself as a man and saves Wol-Young, who is on the brink of death. The man, whose mouth was torn and covered in </span>\n",
       "<span style=\"color: #008000; text-decoration-color: #008000\">dried blood, began to lick Wol-Young’s gagged lips and face. He licked the bright red blood that hadn’t hardened </span>\n",
       "<span style=\"color: #008000; text-decoration-color: #008000\">yet.&lt;br&gt;&lt;br&gt;&lt;i&gt;\\n“Hey, is that bastard some kind of vampire bat?”&lt;/i&gt;&lt;br&gt;&lt;br&gt;\\nWhether they were watching or not, </span>\n",
       "<span style=\"color: #008000; text-decoration-color: #008000\">the man licked Wol-Young’s trembling nose and eyelids, and then climbed up to her forehead. The group left the </span>\n",
       "<span style=\"color: #008000; text-decoration-color: #008000\">barn, saying they’d have a bowl of takju before they got together.&lt;br&gt;&lt;br&gt;&lt;i&gt; “Who are you?”&lt;br&gt; “Your majesty, you</span>\n",
       "<span style=\"color: #008000; text-decoration-color: #008000\">probably don’t know me, but you’re saying you’ve never looked at me before?”&lt;br&gt; “How could I know </span>\n",
       "<span style=\"color: #008000; text-decoration-color: #008000\">you?”&lt;/i&gt;&lt;br&gt;&lt;br&gt;(Source: Ridibooks, translated)&lt;br&gt;&lt;br&gt;\\n\\n&lt;i&gt;Note: Part of Ridi's Sunae(純愛) Danpyeonseon </span>\n",
       "<span style=\"color: #008000; text-decoration-color: #008000\">(순애(純愛) 단편선) Collection.&lt;/i&gt;\"</span><span style=\"font-weight: bold\">}]</span>\n",
       "</pre>\n"
      ],
      "text/plain": [
       "Observations: |\u001b[1m{\u001b[0m\u001b[32m'id'\u001b[0m: \u001b[1;36m132120\u001b[0m, \u001b[32m'title'\u001b[0m: \u001b[32m'Full Volume'\u001b[0m, \u001b[32m'url'\u001b[0m: \u001b[32m'https://anilist.co/manga/132120'\u001b[0m, \u001b[32m'genres'\u001b[0m: \n",
       "|\u001b[32m'Comedy'\u001b[0m, \u001b[32m'Romance'\u001b[0m, \u001b[32m'Slice of Life'\u001b[0m\u001b[1m]\u001b[0m, \u001b[32m'average_score'\u001b[0m: \u001b[1;36m73\u001b[0m, \u001b[32m'popularity'\u001b[0m: \u001b[1;36m4287\u001b[0m, \u001b[32m'description'\u001b[0m: \u001b[32m'Do-Won has a \u001b[0m\n",
       "\u001b[32mproblem. His neighbor, Beom, seems awfully rude, but he’s infuriatingly gorgeous. And the completely ridiculous \u001b[0m\n",
       "\u001b[32mcherry on top? Beom turns out to be Do-Won’s all-time favorite camboy, which only adds to the \u001b[0m\u001b[32m(\u001b[0m\u001b[32msexual\u001b[0m\u001b[32m)\u001b[0m\u001b[32m frustration.\u001b[0m\n",
       "\u001b[32mBeom is a metaphorical pain in Do-Won’s ass, and Do-Won would like to return the favor physically, thank you very \u001b[0m\n",
       "\u001b[32mmuch. So, Do-Won has a problem—in his pants. The question is, how is he going to solve it? You’ll find out the \u001b[0m\n",
       "\u001b[32manswer if you crank the volume up, and watch very, very closely…\\n\u001b[0m\u001b[32m<\u001b[0m\u001b[32mbr\u001b[0m\u001b[32m><br>\\n\u001b[0m\u001b[32m(\u001b[0m\u001b[32mSource: Lezhin\u001b[0m\u001b[32m)\u001b[0m\u001b[32m'\u001b[0m\u001b[1;39m}\u001b[0m\u001b[39m, \u001b[0m\u001b[1;39m{\u001b[0m\u001b[32m'id'\u001b[0m\u001b[39m: \u001b[0m\u001b[1;36m34770\u001b[0m\u001b[39m, \u001b[0m\n",
       "\u001b[32m'title'\u001b[0m\u001b[39m: \u001b[0m\u001b[32m'Full House'\u001b[0m\u001b[39m, \u001b[0m\u001b[32m'url'\u001b[0m\u001b[39m: \u001b[0m\u001b[32m'https://anilist.co/manga/34770'\u001b[0m\u001b[39m, \u001b[0m\u001b[32m'genres'\u001b[0m\u001b[39m: |\u001b[0m\u001b[32m'Comedy'\u001b[0m\u001b[39m, \u001b[0m\u001b[32m'Romance'\u001b[0m\u001b[1;39m]\u001b[0m\u001b[39m, \u001b[0m\u001b[32m'average_score'\u001b[0m\u001b[39m: \u001b[0m\n",
       "\u001b[1;36m54\u001b[0m\u001b[39m, \u001b[0m\u001b[32m'popularity'\u001b[0m\u001b[39m: \u001b[0m\u001b[1;36m458\u001b[0m\u001b[39m, \u001b[0m\u001b[32m'description'\u001b[0m\u001b[39m: \u001b[0m\u001b[32m'Ellie is an aspiring screenwriter in London, far from her home in Korea. \u001b[0m\n",
       "\u001b[32mWhile her life is a bit lonely, her one comfort is Full House--the estate left to her by her recently deceased \u001b[0m\n",
       "\u001b[32mfather and the only tangible memory of him she has left. Meanwhile, world famous actor Ryder Baye is the obsession \u001b[0m\n",
       "\u001b[32mof many a stalker and tabloid reporter. Ellie barely remembers who he is, until the day she is unceremoniously \u001b[0m\n",
       "\u001b[32mevicted. Somehow, Ryder Baye manages to purchase Full House. Ellie will stop at nothing to reclaim her home. Ryder \u001b[0m\n",
       "\u001b[32mvows to stand his ground and hold onto his new purchase. The battle for Full House is fiery, with tempers ranging \u001b[0m\n",
       "\u001b[32mand sparks flying. What are two enemies to do when there is an intense attraction burning just below the surface? \u001b[0m\n",
       "\u001b[32mEllie and Ryder may discover that their explosive chemistry under the same roof may turn them into a happy \u001b[0m\n",
       "\u001b[32mcouple...as long as they can refrain from killing each other!<br><br>\\n\u001b[0m\u001b[32m(\u001b[0m\u001b[32mSource: Netcomics\u001b[0m\u001b[32m)\u001b[0m\u001b[32m'\u001b[0m\u001b[1;39m}\u001b[0m\u001b[39m, \u001b[0m\u001b[1;39m{\u001b[0m\u001b[32m'id'\u001b[0m\u001b[39m: \u001b[0m\u001b[1;36m85508\u001b[0m\u001b[39m, \u001b[0m\n",
       "\u001b[32m'title'\u001b[0m\u001b[39m: \u001b[0m\u001b[32m'In Full Bloom'\u001b[0m\u001b[39m, \u001b[0m\u001b[32m'url'\u001b[0m\u001b[39m: \u001b[0m\u001b[32m'https://anilist.co/manga/85508'\u001b[0m\u001b[39m, \u001b[0m\u001b[32m'genres'\u001b[0m\u001b[39m: |\u001b[0m\u001b[32m'Drama'\u001b[0m\u001b[39m, \u001b[0m\u001b[32m'Psychological'\u001b[0m\u001b[1;39m]\u001b[0m\u001b[39m, \u001b[0m\n",
       "\u001b[32m'average_score'\u001b[0m\u001b[39m: \u001b[0m\u001b[3;35mNone\u001b[0m\u001b[39m, \u001b[0m\u001b[32m'popularity'\u001b[0m\u001b[39m: \u001b[0m\u001b[1;36m142\u001b[0m\u001b[39m, \u001b[0m\u001b[32m'description'\u001b[0m\u001b[39m: \u001b[0m\u001b[32m\"One ruler...One schemer...and...One assassin\\r\\n\\r\\nThe \u001b[0m\n",
       "\u001b[32mkingdom of Juushin is suffering at the hands of a cruel emperor. In order to stop his father's rule of tyranny, the\u001b[0m\n",
       "\u001b[32mcrown prince will enlist the aid of a legendary assassin with reasons of her own for wanting the emperor dead.\"\u001b[0m\u001b[1;39m}\u001b[0m\u001b[39m, \u001b[0m\n",
       "\u001b[1;39m{\u001b[0m\u001b[32m'id'\u001b[0m\u001b[39m: \u001b[0m\u001b[1;36m144445\u001b[0m\u001b[39m, \u001b[0m\u001b[32m'title'\u001b[0m\u001b[39m: \u001b[0m\u001b[32m'Blazing Sun'\u001b[0m\u001b[39m, \u001b[0m\u001b[32m'url'\u001b[0m\u001b[39m: \u001b[0m\u001b[32m'https://anilist.co/manga/144445'\u001b[0m\u001b[39m, \u001b[0m\u001b[32m'genres'\u001b[0m\u001b[39m: |\u001b[0m\u001b[32m'Drama'\u001b[0m\u001b[39m, \u001b[0m\u001b[32m'Hentai'\u001b[0m\u001b[1;39m]\u001b[0m\u001b[39m, \u001b[0m\n",
       "\u001b[32m'average_score'\u001b[0m\u001b[39m: \u001b[0m\u001b[3;35mNone\u001b[0m\u001b[39m, \u001b[0m\u001b[32m'popularity'\u001b[0m\u001b[39m: \u001b[0m\u001b[1;36m96\u001b[0m\u001b[39m, \u001b[0m\u001b[32m'description'\u001b[0m\u001b[39m: \u001b[0m\u001b[32m'“You may be rich, but that doesn’t mean you can just do \u001b[0m\n",
       "\u001b[32mwhatever you want with others!” A young man with nothing to lose will do anything to rise to the \u001b[0m\n",
       "\u001b[32mtop.<br>\\n<br>\\n\u001b[0m\u001b[32m(\u001b[0m\u001b[32mSource: TOPTOON+\u001b[0m\u001b[32m)\u001b[0m\u001b[32m'\u001b[0m\u001b[1;39m}\u001b[0m\u001b[39m, \u001b[0m\u001b[1;39m{\u001b[0m\u001b[32m'id'\u001b[0m\u001b[39m: \u001b[0m\u001b[1;36m137968\u001b[0m\u001b[39m, \u001b[0m\u001b[32m'title'\u001b[0m\u001b[39m: \u001b[0m\u001b[32m'Milmyeon Danggigo Danggimyeon Mireora'\u001b[0m\u001b[39m, \u001b[0m\u001b[32m'url'\u001b[0m\u001b[39m: \u001b[0m\n",
       "\u001b[32m'https://anilist.co/manga/137968'\u001b[0m\u001b[39m, \u001b[0m\u001b[32m'genres'\u001b[0m\u001b[39m: |\u001b[0m\u001b[32m'Romance'\u001b[0m\u001b[1;39m]\u001b[0m\u001b[39m, \u001b[0m\u001b[32m'average_score'\u001b[0m\u001b[39m: \u001b[0m\u001b[3;35mNone\u001b[0m\u001b[39m, \u001b[0m\u001b[32m'popularity'\u001b[0m\u001b[39m: \u001b[0m\u001b[1;36m74\u001b[0m\u001b[39m, \u001b[0m\u001b[32m'description'\u001b[0m\u001b[39m: \u001b[0m\n",
       "\u001b[32m'Rahyeon, a passive student who usually has bad luck, manages to attend a prestigious college. But was it karma? On\u001b[0m\n",
       "\u001b[32mthe first day of admission he gets involved with a very beautiful but crazy person...<br><br>\u001b[0m\u001b[32m(\u001b[0m\u001b[32mSource: Lezhin, \u001b[0m\n",
       "\u001b[32mtranslated\u001b[0m\u001b[32m)\u001b[0m\u001b[32m'\u001b[0m\u001b[1;39m}\u001b[0m\u001b[39m, \u001b[0m\u001b[1;39m{\u001b[0m\u001b[32m'id'\u001b[0m\u001b[39m: \u001b[0m\u001b[1;36m168340\u001b[0m\u001b[39m, \u001b[0m\u001b[32m'title'\u001b[0m\u001b[39m: \u001b[0m\u001b[32m'Magnetic Pull'\u001b[0m\u001b[39m, \u001b[0m\u001b[32m'url'\u001b[0m\u001b[39m: \u001b[0m\u001b[32m'https://anilist.co/manga/168340'\u001b[0m\u001b[39m, \u001b[0m\u001b[32m'genres'\u001b[0m\u001b[39m: \u001b[0m\n",
       "\u001b[39m|\u001b[0m\u001b[32m'Drama'\u001b[0m\u001b[39m, \u001b[0m\u001b[32m'Hentai'\u001b[0m\u001b[1;39m]\u001b[0m\u001b[39m, \u001b[0m\u001b[32m'average_score'\u001b[0m\u001b[39m: \u001b[0m\u001b[3;35mNone\u001b[0m\u001b[39m, \u001b[0m\u001b[32m'popularity'\u001b[0m\u001b[39m: \u001b[0m\u001b[1;36m71\u001b[0m\u001b[39m, \u001b[0m\u001b[32m'description'\u001b[0m\u001b[39m: \u001b[0m\u001b[32m\"A flock of women is getting pulled \u001b[0m\n",
       "\u001b[32minto this new divorcé's life. Is there a magnetic pull that's at work? Or is Joey's ex-wife jinxing \u001b[0m\n",
       "\u001b[32mhim?<br><br>\u001b[0m\u001b[32m(\u001b[0m\u001b[32mSource: Toomics\u001b[0m\u001b[32m)\u001b[0m\u001b[32m\"\u001b[0m\u001b[1;39m}\u001b[0m\u001b[39m, \u001b[0m\u001b[1;39m{\u001b[0m\u001b[32m'id'\u001b[0m\u001b[39m: \u001b[0m\u001b[1;36m166963\u001b[0m\u001b[39m, \u001b[0m\u001b[32m'title'\u001b[0m\u001b[39m: \u001b[0m\u001b[32m'Full Circle'\u001b[0m\u001b[39m, \u001b[0m\u001b[32m'url'\u001b[0m\u001b[39m: \u001b[0m\u001b[32m'https://anilist.co/manga/166963'\u001b[0m\u001b[39m, \u001b[0m\n",
       "\u001b[32m'genres'\u001b[0m\u001b[39m: |\u001b[0m\u001b[32m'Romance'\u001b[0m\u001b[1;39m]\u001b[0m\u001b[39m, \u001b[0m\u001b[32m'average_score'\u001b[0m\u001b[39m: \u001b[0m\u001b[3;35mNone\u001b[0m\u001b[39m, \u001b[0m\u001b[32m'popularity'\u001b[0m\u001b[39m: \u001b[0m\u001b[1;36m32\u001b[0m\u001b[39m, \u001b[0m\u001b[32m'description'\u001b[0m\u001b[39m: \u001b[0m\u001b[32m'Yujin is a “normal” teenager who’s \u001b[0m\n",
       "\u001b[32mpreparing to retake his college entrance exams. He is not into boys. Nope. At least that’s what he tells himself \u001b[0m\n",
       "\u001b[32mwhen his classmate, Jun-hyeok, starts hitting on him. But as time goes on, Yujin can’t deny his increasing \u001b[0m\n",
       "\u001b[32mattraction to Jun-hyeok and reluctantly admits that he’s probably as straight as a circle. But even if Yujin \u001b[0m\n",
       "\u001b[32maccepts his sexuality, will his and Jun-hyeok’s love prevail successful against all odds, or will it succumb to \u001b[0m\n",
       "\u001b[32msocietal pressure?\\n<BR>BR>\\n\u001b[0m\u001b[32m(\u001b[0m\u001b[32mSource: Lezhin US\u001b[0m\u001b[32m)\u001b[0m\u001b[32m'\u001b[0m\u001b[1;39m}\u001b[0m\u001b[39m, \u001b[0m\u001b[1;39m{\u001b[0m\u001b[32m'id'\u001b[0m\u001b[39m: \u001b[0m\u001b[1;36m157252\u001b[0m\u001b[39m, \u001b[0m\u001b[32m'title'\u001b[0m\u001b[39m: \u001b[0m\u001b[32m'Mokjureul Danggisio'\u001b[0m\u001b[39m, \u001b[0m\u001b[32m'url'\u001b[0m\u001b[39m: \u001b[0m\n",
       "\u001b[32m'https://anilist.co/manga/157252'\u001b[0m\u001b[39m, \u001b[0m\u001b[32m'genres'\u001b[0m\u001b[39m: |\u001b[0m\u001b[32m'Drama'\u001b[0m\u001b[39m, \u001b[0m\u001b[32m'Romance'\u001b[0m\u001b[1;39m]\u001b[0m\u001b[39m, \u001b[0m\u001b[32m'average_score'\u001b[0m\u001b[39m: \u001b[0m\u001b[3;35mNone\u001b[0m\u001b[39m, \u001b[0m\u001b[32m'popularity'\u001b[0m\u001b[39m: \u001b[0m\u001b[1;36m20\u001b[0m\u001b[39m, \u001b[0m\n",
       "\u001b[32m'description'\u001b[0m\u001b[39m: \u001b[0m\u001b[32m''\u001b[0m\u001b[1;39m}\u001b[0m\u001b[39m, \u001b[0m\u001b[1;39m{\u001b[0m\u001b[32m'id'\u001b[0m\u001b[39m: \u001b[0m\u001b[1;36m193255\u001b[0m\u001b[39m, \u001b[0m\u001b[32m'title'\u001b[0m\u001b[39m: \u001b[0m\u001b[32m'Manworui Neukdae'\u001b[0m\u001b[39m, \u001b[0m\u001b[32m'url'\u001b[0m\u001b[39m: \u001b[0m\u001b[32m'https://anilist.co/manga/193255'\u001b[0m\u001b[39m, \u001b[0m\u001b[32m'genres'\u001b[0m\u001b[39m:\u001b[0m\n",
       "\u001b[39m|\u001b[0m\u001b[32m'Romance'\u001b[0m\u001b[1;39m]\u001b[0m\u001b[39m, \u001b[0m\u001b[32m'average_score'\u001b[0m\u001b[39m: \u001b[0m\u001b[3;35mNone\u001b[0m\u001b[39m, \u001b[0m\u001b[32m'popularity'\u001b[0m\u001b[39m: \u001b[0m\u001b[1;36m10\u001b[0m\u001b[39m, \u001b[0m\u001b[32m'description'\u001b[0m\u001b[39m: \u001b[0m\u001b[32m\"<i>“If you keep struggling like that, I might\u001b[0m\n",
       "\u001b[32mrip the skirt and jacket you're wearing and rape you.” </i><br><br>\\nThe king of beasts, the wolf god, disguises \u001b[0m\n",
       "\u001b[32mhimself as a man and saves Wol-Young, who is on the brink of death. The man, whose mouth was torn and covered in \u001b[0m\n",
       "\u001b[32mdried blood, began to lick Wol-Young’s gagged lips and face. He licked the bright red blood that hadn’t hardened \u001b[0m\n",
       "\u001b[32myet.<br><br><i>\\n“Hey, is that bastard some kind of vampire bat?”</i><br><br>\\nWhether they were watching or not, \u001b[0m\n",
       "\u001b[32mthe man licked Wol-Young’s trembling nose and eyelids, and then climbed up to her forehead. The group left the \u001b[0m\n",
       "\u001b[32mbarn, saying they’d have a bowl of takju before they got together.<br><br><i> “Who are you?”<br> “Your majesty, you\u001b[0m\n",
       "\u001b[32mprobably don’t know me, but you’re saying you’ve never looked at me before?”<br> “How could I know \u001b[0m\n",
       "\u001b[32myou?”</i><br><br>\u001b[0m\u001b[32m(\u001b[0m\u001b[32mSource: Ridibooks, translated\u001b[0m\u001b[32m)\u001b[0m\u001b[32m<br><br>\\n\\n<i>Note: Part of Ridi's Sunae\u001b[0m\u001b[32m(\u001b[0m\u001b[32m純愛\u001b[0m\u001b[32m)\u001b[0m\u001b[32m Danpyeonseon \u001b[0m\n",
       "\u001b[32m(\u001b[0m\u001b[32m순애\u001b[0m\u001b[32m(\u001b[0m\u001b[32m純愛\u001b[0m\u001b[32m)\u001b[0m\u001b[32m 단편선\u001b[0m\u001b[32m)\u001b[0m\u001b[32m Collection.</i\u001b[0m\u001b[32m>\u001b[0m\u001b[32m\"\u001b[0m\u001b[1m}\u001b[0m\u001b[1m]\u001b[0m\n"
      ]
     },
     "metadata": {},
     "output_type": "display_data"
    },
    {
     "data": {
      "text/html": [
       "<pre style=\"white-space:pre;overflow-x:auto;line-height:normal;font-family:Menlo,'DejaVu Sans Mono',consolas,'Courier New',monospace\"><span style=\"color: #7f7f7f; text-decoration-color: #7f7f7f\">[Step 5: Duration 4.18 seconds| Input tokens: 17,699 | Output tokens: 46]</span>\n",
       "</pre>\n"
      ],
      "text/plain": [
       "\u001b[2m[Step 5: Duration 4.18 seconds| Input tokens: 17,699 | Output tokens: 46]\u001b[0m\n"
      ]
     },
     "metadata": {},
     "output_type": "display_data"
    },
    {
     "data": {
      "text/html": [
       "<pre style=\"white-space:pre;overflow-x:auto;line-height:normal;font-family:Menlo,'DejaVu Sans Mono',consolas,'Courier New',monospace\"><span style=\"color: #d4b702; text-decoration-color: #d4b702\">━━━━━━━━━━━━━━━━━━━━━━━━━━━━━━━━━━━━━━━━━━━━━━━━━━━━━ </span><span style=\"font-weight: bold\">Step </span><span style=\"color: #008080; text-decoration-color: #008080; font-weight: bold\">6</span><span style=\"color: #d4b702; text-decoration-color: #d4b702\"> ━━━━━━━━━━━━━━━━━━━━━━━━━━━━━━━━━━━━━━━━━━━━━━━━━━━━━━</span>\n",
       "</pre>\n"
      ],
      "text/plain": [
       "\u001b[38;2;212;183;2m━━━━━━━━━━━━━━━━━━━━━━━━━━━━━━━━━━━━━━━━━━━━━━━━━━━━━ \u001b[0m\u001b[1mStep \u001b[0m\u001b[1;36m6\u001b[0m\u001b[38;2;212;183;2m ━━━━━━━━━━━━━━━━━━━━━━━━━━━━━━━━━━━━━━━━━━━━━━━━━━━━━━\u001b[0m\n"
      ]
     },
     "metadata": {},
     "output_type": "display_data"
    },
    {
     "data": {
      "text/html": [
       "<pre style=\"white-space:pre;overflow-x:auto;line-height:normal;font-family:Menlo,'DejaVu Sans Mono',consolas,'Courier New',monospace\">╭─────────────────────────────────────────────────────────────────────────────────────────────────────────────────╮\n",
       "│ Calling tool: 'final_answer' with arguments: {'answer': '9'}                                                    │\n",
       "╰─────────────────────────────────────────────────────────────────────────────────────────────────────────────────╯\n",
       "</pre>\n"
      ],
      "text/plain": [
       "╭─────────────────────────────────────────────────────────────────────────────────────────────────────────────────╮\n",
       "│ Calling tool: 'final_answer' with arguments: {'answer': '9'}                                                    │\n",
       "╰─────────────────────────────────────────────────────────────────────────────────────────────────────────────────╯\n"
      ]
     },
     "metadata": {},
     "output_type": "display_data"
    },
    {
     "data": {
      "text/html": [
       "<pre style=\"white-space:pre;overflow-x:auto;line-height:normal;font-family:Menlo,'DejaVu Sans Mono',consolas,'Courier New',monospace\">Observations: <span style=\"color: #008080; text-decoration-color: #008080; font-weight: bold\">9</span>\n",
       "</pre>\n"
      ],
      "text/plain": [
       "Observations: \u001b[1;36m9\u001b[0m\n"
      ]
     },
     "metadata": {},
     "output_type": "display_data"
    },
    {
     "data": {
      "text/html": [
       "<pre style=\"white-space:pre;overflow-x:auto;line-height:normal;font-family:Menlo,'DejaVu Sans Mono',consolas,'Courier New',monospace\"><span style=\"color: #d4b702; text-decoration-color: #d4b702; font-weight: bold\">Final answer: 9</span>\n",
       "</pre>\n"
      ],
      "text/plain": [
       "\u001b[1;38;2;212;183;2mFinal answer: 9\u001b[0m\n"
      ]
     },
     "metadata": {},
     "output_type": "display_data"
    },
    {
     "data": {
      "text/html": [
       "<pre style=\"white-space:pre;overflow-x:auto;line-height:normal;font-family:Menlo,'DejaVu Sans Mono',consolas,'Courier New',monospace\"><span style=\"color: #7f7f7f; text-decoration-color: #7f7f7f\">[Step 6: Duration 2.79 seconds| Input tokens: 24,713 | Output tokens: 51]</span>\n",
       "</pre>\n"
      ],
      "text/plain": [
       "\u001b[2m[Step 6: Duration 2.79 seconds| Input tokens: 24,713 | Output tokens: 51]\u001b[0m\n"
      ]
     },
     "metadata": {},
     "output_type": "display_data"
    },
    {
     "name": "stdout",
     "output_type": "stream",
     "text": [
      "9\n"
     ]
    },
    {
     "data": {
      "text/html": [
       "<pre style=\"white-space:pre;overflow-x:auto;line-height:normal;font-family:Menlo,'DejaVu Sans Mono',consolas,'Courier New',monospace\"><span style=\"color: #d4b702; text-decoration-color: #d4b702\">╭────────────────────────────────────────── </span><span style=\"color: #d4b702; text-decoration-color: #d4b702; font-weight: bold\">New run - recommender_agent</span><span style=\"color: #d4b702; text-decoration-color: #d4b702\"> ──────────────────────────────────────────╮</span>\n",
       "<span style=\"color: #d4b702; text-decoration-color: #d4b702\">│</span>                                                                                                                 <span style=\"color: #d4b702; text-decoration-color: #d4b702\">│</span>\n",
       "<span style=\"color: #d4b702; text-decoration-color: #d4b702\">│</span> <span style=\"font-weight: bold\">Call get_by_genre with genre inferred from: 'Recommend me high-score action manhwa'. If a minimum score is not </span> <span style=\"color: #d4b702; text-decoration-color: #d4b702\">│</span>\n",
       "<span style=\"color: #d4b702; text-decoration-color: #d4b702\">│</span> <span style=\"font-weight: bold\">specified, default to 75. Then present the top 5 cleanly.</span>                                                       <span style=\"color: #d4b702; text-decoration-color: #d4b702\">│</span>\n",
       "<span style=\"color: #d4b702; text-decoration-color: #d4b702\">│</span>                                                                                                                 <span style=\"color: #d4b702; text-decoration-color: #d4b702\">│</span>\n",
       "<span style=\"color: #d4b702; text-decoration-color: #d4b702\">╰─ LiteLLMModel - gemini/gemini-2.0-flash-lite ───────────────────────────────────────────────────────────────────╯</span>\n",
       "</pre>\n"
      ],
      "text/plain": [
       "\u001b[38;2;212;183;2m╭─\u001b[0m\u001b[38;2;212;183;2m─────────────────────────────────────────\u001b[0m\u001b[38;2;212;183;2m \u001b[0m\u001b[1;38;2;212;183;2mNew run - recommender_agent\u001b[0m\u001b[38;2;212;183;2m \u001b[0m\u001b[38;2;212;183;2m─────────────────────────────────────────\u001b[0m\u001b[38;2;212;183;2m─╮\u001b[0m\n",
       "\u001b[38;2;212;183;2m│\u001b[0m                                                                                                                 \u001b[38;2;212;183;2m│\u001b[0m\n",
       "\u001b[38;2;212;183;2m│\u001b[0m \u001b[1mCall get_by_genre with genre inferred from: 'Recommend me high-score action manhwa'. If a minimum score is not \u001b[0m \u001b[38;2;212;183;2m│\u001b[0m\n",
       "\u001b[38;2;212;183;2m│\u001b[0m \u001b[1mspecified, default to 75. Then present the top 5 cleanly.\u001b[0m                                                       \u001b[38;2;212;183;2m│\u001b[0m\n",
       "\u001b[38;2;212;183;2m│\u001b[0m                                                                                                                 \u001b[38;2;212;183;2m│\u001b[0m\n",
       "\u001b[38;2;212;183;2m╰─\u001b[0m\u001b[38;2;212;183;2m LiteLLMModel - gemini/gemini-2.0-flash-lite \u001b[0m\u001b[38;2;212;183;2m──────────────────────────────────────────────────────────────────\u001b[0m\u001b[38;2;212;183;2m─╯\u001b[0m\n"
      ]
     },
     "metadata": {},
     "output_type": "display_data"
    },
    {
     "data": {
      "text/html": [
       "<pre style=\"white-space:pre;overflow-x:auto;line-height:normal;font-family:Menlo,'DejaVu Sans Mono',consolas,'Courier New',monospace\"><span style=\"color: #d4b702; text-decoration-color: #d4b702\">━━━━━━━━━━━━━━━━━━━━━━━━━━━━━━━━━━━━━━━━━━━━━━━━━━━━━ </span><span style=\"font-weight: bold\">Step </span><span style=\"color: #008080; text-decoration-color: #008080; font-weight: bold\">1</span><span style=\"color: #d4b702; text-decoration-color: #d4b702\"> ━━━━━━━━━━━━━━━━━━━━━━━━━━━━━━━━━━━━━━━━━━━━━━━━━━━━━━</span>\n",
       "</pre>\n"
      ],
      "text/plain": [
       "\u001b[38;2;212;183;2m━━━━━━━━━━━━━━━━━━━━━━━━━━━━━━━━━━━━━━━━━━━━━━━━━━━━━ \u001b[0m\u001b[1mStep \u001b[0m\u001b[1;36m1\u001b[0m\u001b[38;2;212;183;2m ━━━━━━━━━━━━━━━━━━━━━━━━━━━━━━━━━━━━━━━━━━━━━━━━━━━━━━\u001b[0m\n"
      ]
     },
     "metadata": {},
     "output_type": "display_data"
    },
    {
     "data": {
      "text/html": [
       "<pre style=\"white-space:pre;overflow-x:auto;line-height:normal;font-family:Menlo,'DejaVu Sans Mono',consolas,'Courier New',monospace\">╭─────────────────────────────────────────────────────────────────────────────────────────────────────────────────╮\n",
       "│ Calling tool: 'get_by_genre' with arguments: {'min_score': 75, 'genre': 'action', 'top_k': 5}                   │\n",
       "╰─────────────────────────────────────────────────────────────────────────────────────────────────────────────────╯\n",
       "</pre>\n"
      ],
      "text/plain": [
       "╭─────────────────────────────────────────────────────────────────────────────────────────────────────────────────╮\n",
       "│ Calling tool: 'get_by_genre' with arguments: {'min_score': 75, 'genre': 'action', 'top_k': 5}                   │\n",
       "╰─────────────────────────────────────────────────────────────────────────────────────────────────────────────────╯\n"
      ]
     },
     "metadata": {},
     "output_type": "display_data"
    },
    {
     "data": {
      "text/html": [
       "<pre style=\"white-space:pre;overflow-x:auto;line-height:normal;font-family:Menlo,'DejaVu Sans Mono',consolas,'Courier New',monospace\">Observations: |<span style=\"font-weight: bold\">]</span>\n",
       "</pre>\n"
      ],
      "text/plain": [
       "Observations: |\u001b[1m]\u001b[0m\n"
      ]
     },
     "metadata": {},
     "output_type": "display_data"
    },
    {
     "data": {
      "text/html": [
       "<pre style=\"white-space:pre;overflow-x:auto;line-height:normal;font-family:Menlo,'DejaVu Sans Mono',consolas,'Courier New',monospace\"><span style=\"color: #7f7f7f; text-decoration-color: #7f7f7f\">[Step 1: Duration 2.68 seconds| Input tokens: 1,202 | Output tokens: 15]</span>\n",
       "</pre>\n"
      ],
      "text/plain": [
       "\u001b[2m[Step 1: Duration 2.68 seconds| Input tokens: 1,202 | Output tokens: 15]\u001b[0m\n"
      ]
     },
     "metadata": {},
     "output_type": "display_data"
    },
    {
     "data": {
      "text/html": [
       "<pre style=\"white-space:pre;overflow-x:auto;line-height:normal;font-family:Menlo,'DejaVu Sans Mono',consolas,'Courier New',monospace\"><span style=\"color: #d4b702; text-decoration-color: #d4b702\">━━━━━━━━━━━━━━━━━━━━━━━━━━━━━━━━━━━━━━━━━━━━━━━━━━━━━ </span><span style=\"font-weight: bold\">Step </span><span style=\"color: #008080; text-decoration-color: #008080; font-weight: bold\">2</span><span style=\"color: #d4b702; text-decoration-color: #d4b702\"> ━━━━━━━━━━━━━━━━━━━━━━━━━━━━━━━━━━━━━━━━━━━━━━━━━━━━━━</span>\n",
       "</pre>\n"
      ],
      "text/plain": [
       "\u001b[38;2;212;183;2m━━━━━━━━━━━━━━━━━━━━━━━━━━━━━━━━━━━━━━━━━━━━━━━━━━━━━ \u001b[0m\u001b[1mStep \u001b[0m\u001b[1;36m2\u001b[0m\u001b[38;2;212;183;2m ━━━━━━━━━━━━━━━━━━━━━━━━━━━━━━━━━━━━━━━━━━━━━━━━━━━━━━\u001b[0m\n"
      ]
     },
     "metadata": {},
     "output_type": "display_data"
    },
    {
     "data": {
      "text/html": [
       "<pre style=\"white-space:pre;overflow-x:auto;line-height:normal;font-family:Menlo,'DejaVu Sans Mono',consolas,'Courier New',monospace\">╭─────────────────────────────────────────────────────────────────────────────────────────────────────────────────╮\n",
       "│ Calling tool: 'final_answer' with arguments: {'answer': 'No action manhwa were found with a score of 75 or      │\n",
       "│ higher.'}                                                                                                       │\n",
       "╰─────────────────────────────────────────────────────────────────────────────────────────────────────────────────╯\n",
       "</pre>\n"
      ],
      "text/plain": [
       "╭─────────────────────────────────────────────────────────────────────────────────────────────────────────────────╮\n",
       "│ Calling tool: 'final_answer' with arguments: {'answer': 'No action manhwa were found with a score of 75 or      │\n",
       "│ higher.'}                                                                                                       │\n",
       "╰─────────────────────────────────────────────────────────────────────────────────────────────────────────────────╯\n"
      ]
     },
     "metadata": {},
     "output_type": "display_data"
    },
    {
     "data": {
      "text/html": [
       "<pre style=\"white-space:pre;overflow-x:auto;line-height:normal;font-family:Menlo,'DejaVu Sans Mono',consolas,'Courier New',monospace\">Observations: No action manhwa were found with a score of <span style=\"color: #008080; text-decoration-color: #008080; font-weight: bold\">75</span> or higher.\n",
       "</pre>\n"
      ],
      "text/plain": [
       "Observations: No action manhwa were found with a score of \u001b[1;36m75\u001b[0m or higher.\n"
      ]
     },
     "metadata": {},
     "output_type": "display_data"
    },
    {
     "data": {
      "text/html": [
       "<pre style=\"white-space:pre;overflow-x:auto;line-height:normal;font-family:Menlo,'DejaVu Sans Mono',consolas,'Courier New',monospace\"><span style=\"color: #d4b702; text-decoration-color: #d4b702; font-weight: bold\">Final answer: No action manhwa were found with a score of 75 or higher.</span>\n",
       "</pre>\n"
      ],
      "text/plain": [
       "\u001b[1;38;2;212;183;2mFinal answer: No action manhwa were found with a score of 75 or higher.\u001b[0m\n"
      ]
     },
     "metadata": {},
     "output_type": "display_data"
    },
    {
     "data": {
      "text/html": [
       "<pre style=\"white-space:pre;overflow-x:auto;line-height:normal;font-family:Menlo,'DejaVu Sans Mono',consolas,'Courier New',monospace\"><span style=\"color: #7f7f7f; text-decoration-color: #7f7f7f\">[Step 2: Duration 2.48 seconds| Input tokens: 2,572 | Output tokens: 35]</span>\n",
       "</pre>\n"
      ],
      "text/plain": [
       "\u001b[2m[Step 2: Duration 2.48 seconds| Input tokens: 2,572 | Output tokens: 35]\u001b[0m\n"
      ]
     },
     "metadata": {},
     "output_type": "display_data"
    },
    {
     "name": "stdout",
     "output_type": "stream",
     "text": [
      "No action manhwa were found with a score of 75 or higher.\n"
     ]
    }
   ],
   "source": [
    "print(planner(\"crawl and index action manhwa\"))\n",
    "print(planner(\"Recommend me high-score action manhwa\"))"
   ]
  }
 ],
 "metadata": {
  "kernelspec": {
   "display_name": ".venv",
   "language": "python",
   "name": "python3"
  },
  "language_info": {
   "codemirror_mode": {
    "name": "ipython",
    "version": 3
   },
   "file_extension": ".py",
   "mimetype": "text/x-python",
   "name": "python",
   "nbconvert_exporter": "python",
   "pygments_lexer": "ipython3",
   "version": "3.13.0"
  }
 },
 "nbformat": 4,
 "nbformat_minor": 5
}
