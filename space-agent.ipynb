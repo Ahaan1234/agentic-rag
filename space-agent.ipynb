{
 "cells": [
  {
   "cell_type": "code",
   "execution_count": 5,
   "id": "00a456e1",
   "metadata": {},
   "outputs": [
    {
     "name": "stderr",
     "output_type": "stream",
     "text": [
      "Reading PDFs: 100%|██████████| 13/13 [00:10<00:00,  1.22it/s]\n"
     ]
    }
   ],
   "source": [
    "import pathlib\n",
    "\n",
    "PDF_DIR = pathlib.Path(\"data/raw\")\n",
    "pdf_paths = sorted(PDF_DIR.glob(\"*.pdf\"))\n",
    "assert pdf_paths, \"No PDFs found - check path\"\n",
    "\n",
    "from langchain_community.document_loaders import UnstructuredPDFLoader, PyPDFLoader\n",
    "from langchain.docstore.document import Document\n",
    "from tqdm import tqdm\n",
    "\n",
    "source_docs = []\n",
    "\n",
    "for path in tqdm(pdf_paths, desc=\"Reading PDFs\"):\n",
    "    try:\n",
    "        loader = PyPDFLoader(str(path))\n",
    "        pages = list(loader.lazy_load())\n",
    "    except Exception as e:\n",
    "        print(f\"Failed at {path.name}: {e}\")\n",
    "        continue\n",
    "    for p in pages:\n",
    "        # Unstructured returns one Document per page by default\n",
    "        p.metadata[\"source\"] = path.stem                 # short source name\n",
    "        p.metadata[\"page_num\"] = p.metadata.get(\"page\")  # keep original page index\n",
    "    source_docs.extend(pages)"
   ]
  },
  {
   "cell_type": "code",
   "execution_count": 6,
   "id": "6d335d8a",
   "metadata": {},
   "outputs": [],
   "source": [
    "import re\n",
    "\n",
    "for d in source_docs :\n",
    "    txt = d.page_content\n",
    "    txt = re.sub(r\"\\s+\\n\", \"\\n\", txt)\n",
    "    txt = re.sub(r\"\\n{3,}\", \"\\n\\n\", txt)\n",
    "    d.page_content = txt.strip()"
   ]
  },
  {
   "cell_type": "code",
   "execution_count": 7,
   "id": "4b03ef5a",
   "metadata": {},
   "outputs": [
    {
     "name": "stdout",
     "output_type": "stream",
     "text": [
      "Splitting and deduplicating...\n"
     ]
    },
    {
     "name": "stderr",
     "output_type": "stream",
     "text": [
      "100%|██████████| 432/432 [00:03<00:00, 137.12it/s]\n"
     ]
    }
   ],
   "source": [
    "from transformers import AutoTokenizer\n",
    "from langchain.text_splitter import RecursiveCharacterTextSplitter\n",
    "\n",
    "spliiter = RecursiveCharacterTextSplitter.from_huggingface_tokenizer(\n",
    "    AutoTokenizer.from_pretrained(\"thenlper/gte-small\"),\n",
    "    chunk_size = 200,\n",
    "    chunk_overlap=20,\n",
    "    add_start_index = True,\n",
    "    strip_whitespace = True\n",
    ")\n",
    "\n",
    "print(\"Splitting and deduplicating...\")\n",
    "\n",
    "docs_processed, seen = [], set()\n",
    "\n",
    "for doc in tqdm(source_docs) :\n",
    "    for chunk in spliiter.split_documents([doc]):\n",
    "        if chunk.page_content not in seen:\n",
    "            seen.add(chunk.page_content)\n",
    "            docs_processed.append(chunk)"
   ]
  },
  {
   "cell_type": "markdown",
   "id": "2f7850f0",
   "metadata": {},
   "source": [
    "The above block is used to process raw text content into FAISS's expected format."
   ]
  },
  {
   "cell_type": "code",
   "execution_count": 8,
   "id": "5268b496",
   "metadata": {},
   "outputs": [
    {
     "name": "stdout",
     "output_type": "stream",
     "text": [
      "<class 'langchain_core.documents.base.Document'>\n",
      "{'producer': 'iLovePDF', 'creator': 'Acrobat PDFMaker 11 for Word', 'creationdate': '2023-12-06T15:01:50+05:30', 'author': 'Amol Dighe', 'company': '', 'sourcemodified': 'D:20231206092752', 'subject': 'A Roadmap prepared by the Indian Nuclear Physics Communitywith TIFR, Mumbai as the Nodal Scientific Institution', 'title': 'Mega Science Vision – 2035   Nuclear Physics', 'moddate': '2024-01-24T10:12:18+00:00', 'source': 'DST - MSV2035-NP-Final', 'total_pages': 140, 'page': 14, 'page_label': '15', 'page_num': 14, 'start_index': 0}\n",
      "MEGA SCIENCE VISION – 2035   NUCLEAR PHYSICS\n",
      "3\n",
      "THE DRAFTING AND WO RKING GROUPS\n",
      "Director TIFR, Mumbai –\n",
      "Dr. Jayaram Chengalur / Dr. S. Ramakrishnan / Dr. Sandip Trivedi Chairperson\n",
      "Members from the D rafting Group\n",
      "Dr. Alphonsa Joseph Palakkel, IPR, Gandhinagar Member\n",
      "Dr. Aradhana Srivastava, BARC, Mumbai Member\n",
      "Dr. Bedangadas Mohanty, NISER, Bhubaneswar Member\n",
      "Dr. Rudrajyoti Palit, TIFR, Mumbai Member\n",
      "Other expert members\n",
      "Dr. Akhil Jhingan, IUAC, New Delhi Member\n",
      "Dr. Javed A. Sheikh, Kashmir University, Srinagar Member\n",
      "Dr. Lokesh Kumar, Panjab University, Chandigarh Member\n",
      "Dr. P. K. Atrey, IPR, Gandhinagar Member\n",
      "Dr. Rajdeep Chatterjee, IIT-Roorkee Member\n"
     ]
    }
   ],
   "source": [
    "## SANITY CHECK - MAKE SURE THAT OUR CODE WORKED AND DOCUMENTS WERE CREATED\n",
    "\n",
    "doc = docs_processed[15]\n",
    "print(type(doc))\n",
    "print(doc.metadata)\n",
    "print(doc.page_content[:1000])"
   ]
  },
  {
   "cell_type": "code",
   "execution_count": 9,
   "id": "6905f167",
   "metadata": {},
   "outputs": [
    {
     "name": "stderr",
     "output_type": "stream",
     "text": [
      "/var/folders/x8/mz642z_s78s28vthdq18syww0000gn/T/ipykernel_36754/2057286766.py:5: LangChainDeprecationWarning: The class `HuggingFaceEmbeddings` was deprecated in LangChain 0.2.2 and will be removed in 1.0. An updated version of the class exists in the :class:`~langchain-huggingface package and should be used instead. To use it run `pip install -U :class:`~langchain-huggingface` and import as `from :class:`~langchain_huggingface import HuggingFaceEmbeddings``.\n",
      "  embed = HuggingFaceEmbeddings(model_name=\"thenlper/gte-small\")\n"
     ]
    }
   ],
   "source": [
    "from langchain_community.embeddings import HuggingFaceEmbeddings\n",
    "from langchain.vectorstores import FAISS\n",
    "from langchain.vectorstores.utils import DistanceStrategy\n",
    "\n",
    "embed = HuggingFaceEmbeddings(model_name=\"thenlper/gte-small\")\n",
    "\n",
    "vector_db = FAISS.from_documents(docs_processed, embedding=embed, distance_strategy = DistanceStrategy.COSINE)\n",
    "\n",
    "FAISS.save_local(vector_db, \"data/processed/faiss_index\")"
   ]
  },
  {
   "cell_type": "code",
   "execution_count": 33,
   "id": "3b4ce920",
   "metadata": {},
   "outputs": [],
   "source": [
    "from rapidfuzz import fuzz, process  # lightweight fuzzy search\n",
    "from spellchecker import SpellChecker\n",
    "spell = SpellChecker()\n",
    "\n",
    "def spellfix(text: str) -> str:\n",
    "    corrected_words = []\n",
    "    for word in text.split():\n",
    "        if word.lower() not in spell:\n",
    "            corrected = spell.correction(word)\n",
    "            corrected_words.append(corrected if corrected else word)\n",
    "        else:\n",
    "            corrected_words.append(word)\n",
    "    return \" \".join(corrected_words)\n",
    "\n",
    "\n",
    "class FuzzyRetrieverTool(RetrieverTool):\n",
    "    def forward(self, query: str):\n",
    "        query = spellfix(query)     # write your own or use `pyspellchecker`\n",
    "        return super().forward(query)\n"
   ]
  },
  {
   "cell_type": "code",
   "execution_count": 35,
   "id": "6c3e8562",
   "metadata": {},
   "outputs": [],
   "source": [
    "from smolagents import Tool\n",
    "from langchain.vectorstores import VectorStore\n",
    "\n",
    "class RetrieverTool(Tool):\n",
    "    name = \"retriever\"\n",
    "    description = \"\"\"\n",
    "        Using semantic similarity, retrieves some documents from the knowledge base that have the closest embeddings to the input query.\n",
    "        Always call this tool **before** answering any question that might be answered using documents from the DST / ISRO PDF knowledge base.\n",
    "        Return the 3-7 most relevant passages.\n",
    "        \"\"\"\n",
    "    \n",
    "    inputs = {\n",
    "        \"query\": {\n",
    "            \"type\": \"string\",\n",
    "            \"description\": \"The query to perform. This should be semantically close to your target documents. Use the affirmative form rather than a question.\",\n",
    "        }\n",
    "    }\n",
    "    output_type = \"string\"\n",
    "\n",
    "    def __init__(self, vector_db: VectorStore, **kwargs):\n",
    "        super().__init__(**kwargs)\n",
    "        self.vector_db = vector_db\n",
    "\n",
    "    def forward(self, query: str):\n",
    "        assert isinstance(query, str), \"Your search query must be a string\"\n",
    "        cleaned_query = spellfix(query)\n",
    "        docs = self.vector_db.similarity_search(\n",
    "            query=cleaned_query,\n",
    "            k=7\n",
    "        )\n",
    "        return \"\\nRetrieved documents:\\n\" + \"\".join(\n",
    "            [f\"===== Document {str(i)} =====\\n\" + doc.page_content for i, doc in enumerate(docs)]\n",
    "        )"
   ]
  },
  {
   "cell_type": "code",
   "execution_count": 40,
   "id": "c6804a29",
   "metadata": {},
   "outputs": [],
   "source": [
    "from smolagents import LiteLLMModel, ToolCallingAgent\n",
    "import os\n",
    "\n",
    "model = LiteLLMModel(model_id=\"gemini/gemini-2.0-flash-lite\", api_key=os.getenv('GEMINI_API_KEY'))\n",
    "\n",
    "retriever_tool = RetrieverTool(vector_db)\n",
    "agent = ToolCallingAgent(tools=[retriever_tool], model=model, instructions=(\n",
    "            \"\"\"You are an answer-bot specialised in the Indian space-science PDFs I just gave you. \"\n",
    "            Workflow:\\n\n",
    "            1. ALWAYS call the `retriever` tool with the user's query.\\n\n",
    "            2. Read its passages, then craft a concise answer.\\n\n",
    "            3. Call `final_answer` with that answer.\\n\"\"\"\n",
    "        ))"
   ]
  },
  {
   "cell_type": "code",
   "execution_count": 41,
   "id": "3ff8c8a0",
   "metadata": {},
   "outputs": [
    {
     "data": {
      "text/html": [
       "<pre style=\"white-space:pre;overflow-x:auto;line-height:normal;font-family:Menlo,'DejaVu Sans Mono',consolas,'Courier New',monospace\"><span style=\"color: #d4b702; text-decoration-color: #d4b702\">╭──────────────────────────────────────────────────── </span><span style=\"color: #d4b702; text-decoration-color: #d4b702; font-weight: bold\">New run</span><span style=\"color: #d4b702; text-decoration-color: #d4b702\"> ────────────────────────────────────────────────────╮</span>\n",
       "<span style=\"color: #d4b702; text-decoration-color: #d4b702\">│</span>                                                                                                                 <span style=\"color: #d4b702; text-decoration-color: #d4b702\">│</span>\n",
       "<span style=\"color: #d4b702; text-decoration-color: #d4b702\">│</span> <span style=\"font-weight: bold\">What are himalyan heights most suitable for?</span>                                                                    <span style=\"color: #d4b702; text-decoration-color: #d4b702\">│</span>\n",
       "<span style=\"color: #d4b702; text-decoration-color: #d4b702\">│</span>                                                                                                                 <span style=\"color: #d4b702; text-decoration-color: #d4b702\">│</span>\n",
       "<span style=\"color: #d4b702; text-decoration-color: #d4b702\">╰─ LiteLLMModel - gemini/gemini-2.0-flash-lite ───────────────────────────────────────────────────────────────────╯</span>\n",
       "</pre>\n"
      ],
      "text/plain": [
       "\u001b[38;2;212;183;2m╭─\u001b[0m\u001b[38;2;212;183;2m───────────────────────────────────────────────────\u001b[0m\u001b[38;2;212;183;2m \u001b[0m\u001b[1;38;2;212;183;2mNew run\u001b[0m\u001b[38;2;212;183;2m \u001b[0m\u001b[38;2;212;183;2m───────────────────────────────────────────────────\u001b[0m\u001b[38;2;212;183;2m─╮\u001b[0m\n",
       "\u001b[38;2;212;183;2m│\u001b[0m                                                                                                                 \u001b[38;2;212;183;2m│\u001b[0m\n",
       "\u001b[38;2;212;183;2m│\u001b[0m \u001b[1mWhat are himalyan heights most suitable for?\u001b[0m                                                                    \u001b[38;2;212;183;2m│\u001b[0m\n",
       "\u001b[38;2;212;183;2m│\u001b[0m                                                                                                                 \u001b[38;2;212;183;2m│\u001b[0m\n",
       "\u001b[38;2;212;183;2m╰─\u001b[0m\u001b[38;2;212;183;2m LiteLLMModel - gemini/gemini-2.0-flash-lite \u001b[0m\u001b[38;2;212;183;2m──────────────────────────────────────────────────────────────────\u001b[0m\u001b[38;2;212;183;2m─╯\u001b[0m\n"
      ]
     },
     "metadata": {},
     "output_type": "display_data"
    },
    {
     "data": {
      "text/html": [
       "<pre style=\"white-space:pre;overflow-x:auto;line-height:normal;font-family:Menlo,'DejaVu Sans Mono',consolas,'Courier New',monospace\"><span style=\"color: #d4b702; text-decoration-color: #d4b702\">━━━━━━━━━━━━━━━━━━━━━━━━━━━━━━━━━━━━━━━━━━━━━━━━━━━━━ </span><span style=\"font-weight: bold\">Step </span><span style=\"color: #008080; text-decoration-color: #008080; font-weight: bold\">1</span><span style=\"color: #d4b702; text-decoration-color: #d4b702\"> ━━━━━━━━━━━━━━━━━━━━━━━━━━━━━━━━━━━━━━━━━━━━━━━━━━━━━━</span>\n",
       "</pre>\n"
      ],
      "text/plain": [
       "\u001b[38;2;212;183;2m━━━━━━━━━━━━━━━━━━━━━━━━━━━━━━━━━━━━━━━━━━━━━━━━━━━━━ \u001b[0m\u001b[1mStep \u001b[0m\u001b[1;36m1\u001b[0m\u001b[38;2;212;183;2m ━━━━━━━━━━━━━━━━━━━━━━━━━━━━━━━━━━━━━━━━━━━━━━━━━━━━━━\u001b[0m\n"
      ]
     },
     "metadata": {},
     "output_type": "display_data"
    },
    {
     "data": {
      "text/html": [
       "<pre style=\"white-space:pre;overflow-x:auto;line-height:normal;font-family:Menlo,'DejaVu Sans Mono',consolas,'Courier New',monospace\">╭─────────────────────────────────────────────────────────────────────────────────────────────────────────────────╮\n",
       "│ Calling tool: 'retriever' with arguments: {'query': 'Himalayan heights suitability'}                            │\n",
       "╰─────────────────────────────────────────────────────────────────────────────────────────────────────────────────╯\n",
       "</pre>\n"
      ],
      "text/plain": [
       "╭─────────────────────────────────────────────────────────────────────────────────────────────────────────────────╮\n",
       "│ Calling tool: 'retriever' with arguments: {'query': 'Himalayan heights suitability'}                            │\n",
       "╰─────────────────────────────────────────────────────────────────────────────────────────────────────────────────╯\n"
      ]
     },
     "metadata": {},
     "output_type": "display_data"
    },
    {
     "data": {
      "text/html": [
       "<pre style=\"white-space:pre;overflow-x:auto;line-height:normal;font-family:Menlo,'DejaVu Sans Mono',consolas,'Courier New',monospace\">Observations: Retrieved documents:\n",
       "===== Document <span style=\"color: #008080; text-decoration-color: #008080; font-weight: bold\">0</span> =====\n",
       "MENU\n",
       "Home  &gt;&gt; Himalayan heights potentially perfect for India's <span style=\"color: #008000; text-decoration-color: #008000\">'Quantum Leap'</span> to space: Study\n",
       "Himalayan heights potentially perfect for India's <span style=\"color: #008000; text-decoration-color: #008000\">'QuantumLeap'</span> to space: Study\n",
       "In a pioneering study for the Indian subcontinent, scientists have mapped out optimal locations for\n",
       "beaming quantum signals into space.\n",
       "Satellite-based quantum communications including quantum key distribution <span style=\"font-weight: bold\">(</span>QKD<span style=\"font-weight: bold\">)</span> represent one of\n",
       "the most promising approaches toward global-scale quantum communications. To determine the\n",
       "viability of transmitting quantum signals through the atmosphere, it is essential to conduct\n",
       "atmospheric simulations for both uplink and downlink quantum communications and practicality of\n",
       "potential locations for the same need to be determined.\n",
       "In meticulous research, Raman Research Institute <span style=\"font-weight: bold\">(</span>RRI<span style=\"font-weight: bold\">)</span> scientists analysed existing open-source data\n",
       "available on three of India's most sophisticated observatory sites, and found that the Indian\n",
       "Astronomical Observatory <span style=\"font-weight: bold\">(</span>IAO<span style=\"font-weight: bold\">)</span> in Hanle, nestled in the pristine heights of Ladakh, as the prime\n",
       "candidate for this revolutionary technology.===== Document <span style=\"color: #008080; text-decoration-color: #008080; font-weight: bold\">1</span> =====\n",
       "earth. Later, through a series of highly complex\n",
       "manoeuvres, the desired trajectories will be achieved.\n",
       "After circling the Earth in its T ransfer Orbit,\n",
       "Chandrayaan-<span style=\"color: #008080; text-decoration-color: #008080; font-weight: bold\">1</span> spacecraft will be taken into more\n",
       "elliptical ‘Extended T ransfer Orbits’ by repeatedly firing\n",
       "its Liquid Apogee Motor <span style=\"font-weight: bold\">(</span>LAM<span style=\"font-weight: bold\">)</span> in a pr-determined\n",
       "sequence. Subsequently, the LAM is again fired to\n",
       "make the spacecraft to travel to the vicinity of the\n",
       "moon.\n",
       "When it reaches the vicinity of the Moon and passes\n",
       "at a few hundred kilometers from it, its LAM is fired\n",
       "again so that the spacecraft slows down sufficiently\n",
       "to enable the gravity of the moon to capture it into\n",
       "an elliptical orbit.\n",
       "Following this, the height of the spacecraft’s orbit\n",
       "around the moon is reduced in steps. After a careful\n",
       "and detailed observation of the orbit perturbations\n",
       "there, the orbital height of Chandrayaan-<span style=\"color: #008080; text-decoration-color: #008080; font-weight: bold\">1</span> will be\n",
       "finally lowered to its intended <span style=\"color: #008080; text-decoration-color: #008080; font-weight: bold\">100</span> km height <span style=\"color: #808000; text-decoration-color: #808000\">from</span>===== Document <span style=\"color: #008080; text-decoration-color: #008080; font-weight: bold\">2</span> =====\n",
       "in elemental composition, and hence can serve as an excellent ground truth for future\n",
       "remote sensing missions.\n",
       "While these results have been from the Pragyan rover, the Vikram lander has brought\n",
       "out some insight about the lunar ground vibrations at the Shiv Shakti point. The ILSA\n",
       "payload onboard the Vikram lander has recorded over <span style=\"color: #008080; text-decoration-color: #008080; font-weight: bold\">250</span> distinct events, of which about\n",
       "<span style=\"color: #008080; text-decoration-color: #008080; font-weight: bold\">200</span> records are correlated to a few known activities involving physical movements by\n",
       "the rover or instruments for science experiments. The results have been published in the\n",
       "journal Icarus <span style=\"font-weight: bold\">(</span><span style=\"color: #0000ff; text-decoration-color: #0000ff; text-decoration: underline\">https://doi.org/10.1016/j.icarus.2024.116285).</span>\n",
       "Chandrayaan-<span style=\"color: #008080; text-decoration-color: #008080; font-weight: bold\">3</span> has received the following prestigious awards:\n",
       "i. Rashtriya Vigyan <span style=\"font-weight: bold\">(</span>Team<span style=\"font-weight: bold\">)</span> Puraskar – Team\n",
       "ii. International Astronautical Federation <span style=\"font-weight: bold\">(</span>IAF<span style=\"font-weight: bold\">)</span> Award for Excellence in Space\n",
       "Exploration\n",
       "iii. John L. ‘Jack’ Swigert Jr. Award for Space <span style=\"color: #808000; text-decoration-color: #808000\">Exploration</span>===== Document <span style=\"color: #008080; text-decoration-color: #008080; font-weight: bold\">3</span> =====\n",
       "India and the other with Indian contribution<span style=\"font-weight: bold\">)</span>, one\n",
       "from Bulgaria and two from the United States.\n",
       "a<span style=\"font-weight: bold\">)</span> Indian payloads\n",
       "T errain Mapping Camera <span style=\"font-weight: bold\">(</span>TMC<span style=\"font-weight: bold\">)</span>, a CCD camera\n",
       "that maps the topography of the moon, which helps\n",
       "in better understanding of the lunar evolution process.\n",
       "Hyperspectral Imager <span style=\"font-weight: bold\">(</span>HySI<span style=\"font-weight: bold\">)</span> , another CCD\n",
       "camera, is designed for mapping of the minerals on\n",
       "the lunar surface as well as for understanding the\n",
       "mineralogical composition of Moon’s interior.\n",
       "Lunar Laser Ranging Instrument <span style=\"font-weight: bold\">(</span>LLRI<span style=\"font-weight: bold\">)</span> provides\n",
       "necessary data for accurately determining the height\n",
       "of lunar surface features.\n",
       "High Energy X-ray Spectrometer <span style=\"font-weight: bold\">(</span>HEX<span style=\"font-weight: bold\">)</span>  is\n",
       "designed to help explore the possibility of identifying\n",
       "Polar Regions covered by thick water-ice deposits as\n",
       "well as in identifying regions of high Uranium and\n",
       "Thorium concentrations.\n",
       "Moon Impact Probe <span style=\"font-weight: bold\">(</span>MIP<span style=\"font-weight: bold\">)</span>  demonstrates the\n",
       "technologies required for landing a probe at the\n",
       "desired location on the moon. It is also intended <span style=\"color: #808000; text-decoration-color: #808000\">to</span>===== Document <span style=\"color: #008080; text-decoration-color: #008080; font-weight: bold\">4</span> =====\n",
       "candidate for this revolutionary technology.\n",
       "While similar studies have been conducted in regions like Canada, Europe, and China, India's\n",
       "remarkable geographical diversity – from the Himalayas to coastal plains, from deserts to tropical\n",
       "regions – could make this analysis particularly valuable. The analysis takes into account the deeply\n",
       "interdisciplinary nature of satellite-based quantum communications, where success depends on\n",
       "understanding everything from high-precision telescope operations to complex atmospheric\n",
       "turbulence patterns that can distort quantum signals.\n",
       "This site in Hanle is a dry and a cold desert, with temperatures in winter plummeting to minus <span style=\"color: #008080; text-decoration-color: #008080; font-weight: bold\">25</span> to\n",
       "<span style=\"color: #008080; text-decoration-color: #008080; font-weight: bold\">30</span> degrees Celsius; suffers from low atmospheric water vapour levels and oxygen concentrations.\n",
       "“Hanle offers all required natural settings suitable for setting up a ground-station and undertaking\n",
       "quantum communication over long distances,” said Professor Urbasi Sinha, head, Quantum\n",
       "Information and Computing <span style=\"font-weight: bold\">(</span>QuIC<span style=\"font-weight: bold\">)</span> lab at the RRI, an autonomous institute funded by the Department\n",
       "of Science and Technology, Government of India.===== Document <span style=\"color: #008080; text-decoration-color: #008080; font-weight: bold\">5</span> =====\n",
       "landslides is live in Bhuvan for the three regions\n",
       "<span style=\"font-weight: bold\">(</span>Uttarakhand, HP and NER<span style=\"font-weight: bold\">)</span>\n",
       "\n",
       "Under the International Charter on Space and Major Disasters, IRS data products were\n",
       "provided for <span style=\"color: #008080; text-decoration-color: #008080; font-weight: bold\">59</span> disaster events from <span style=\"color: #008080; text-decoration-color: #008080; font-weight: bold\">23</span> countries.\n",
       "<span style=\"color: #008080; text-decoration-color: #008080; font-weight: bold\">4</span>.\n",
       "Technology\n",
       "<span style=\"color: #800080; text-decoration-color: #800080\">/</span><span style=\"color: #ff00ff; text-decoration-color: #ff00ff\">Infrastructure</span>\n",
       "Development\n",
       "\n",
       "Establishment of\n",
       "First Indigenous\n",
       "Titanium sponge plant\n",
       "of capacity 500T\n",
       "ons\n",
       "<span style=\"color: #808000; text-decoration-color: #808000\">per</span>===== Document <span style=\"color: #008080; text-decoration-color: #008080; font-weight: bold\">6</span> =====\n",
       "ISRO Headquarters, Antariksh Bhavan, New BEL RoadBengaluru-<span style=\"color: #008080; text-decoration-color: #008080; font-weight: bold\">560</span> <span style=\"color: #008080; text-decoration-color: #008080; font-weight: bold\">094</span>\n",
       "Phone: +<span style=\"color: #008080; text-decoration-color: #008080; font-weight: bold\">91</span> <span style=\"color: #008080; text-decoration-color: #008080; font-weight: bold\">80</span> <span style=\"color: #008080; text-decoration-color: #008080; font-weight: bold\">22172294</span> <span style=\"color: #800080; text-decoration-color: #800080\">/</span> 96Email: isropr|at<span style=\"font-weight: bold\">]</span>isro|dot<span style=\"font-weight: bold\">]</span>gov|dot<span style=\"font-weight: bold\">]</span>in\n",
       "RTI\n",
       "Feedback\n",
       "Contact us\n",
       "FAQ\n",
       "Website Policy\n",
       "Copyright Policy\n",
       "Hyper Linking Policy\n",
       "Terms of Use\n",
       "Archives\n",
       "Web Information Manager\n",
       "Space Policy\n",
       "Parliament Questions\n",
       "PIB\n",
       "e-Saral Hindi Vakyakosh\n",
       "conﬁguration till <span style=\"color: #008080; text-decoration-color: #008080; font-weight: bold\">100</span> km lunar orbit. The\n",
       "propulsion module has Spectro-polarimetry of\n",
       "Habitable Planet Earth <span style=\"font-weight: bold\">(</span>SHAPE<span style=\"font-weight: bold\">)</span> payload to\n",
       "study the spectral and Polari metric\n",
       "measurements of Earth from the lunar orbit.\n",
       "Aditya-L1\n",
       "Aditya-L1 is a satellite dedicated to the\n",
       "comprehensive study of the Sun. It has <span style=\"color: #008080; text-decoration-color: #008080; font-weight: bold\">7</span>\n",
       "distinct payloads developed, all developed\n",
       "indigenously. Five by ISRO and two by Indian\n",
       "academic institutes in collaboration with ISRO.\n",
       "Address\n",
       "</pre>\n"
      ],
      "text/plain": [
       "Observations: Retrieved documents:\n",
       "===== Document \u001b[1;36m0\u001b[0m =====\n",
       "MENU\n",
       "Home  >> Himalayan heights potentially perfect for India's \u001b[32m'Quantum Leap'\u001b[0m to space: Study\n",
       "Himalayan heights potentially perfect for India's \u001b[32m'QuantumLeap'\u001b[0m to space: Study\n",
       "In a pioneering study for the Indian subcontinent, scientists have mapped out optimal locations for\n",
       "beaming quantum signals into space.\n",
       "Satellite-based quantum communications including quantum key distribution \u001b[1m(\u001b[0mQKD\u001b[1m)\u001b[0m represent one of\n",
       "the most promising approaches toward global-scale quantum communications. To determine the\n",
       "viability of transmitting quantum signals through the atmosphere, it is essential to conduct\n",
       "atmospheric simulations for both uplink and downlink quantum communications and practicality of\n",
       "potential locations for the same need to be determined.\n",
       "In meticulous research, Raman Research Institute \u001b[1m(\u001b[0mRRI\u001b[1m)\u001b[0m scientists analysed existing open-source data\n",
       "available on three of India's most sophisticated observatory sites, and found that the Indian\n",
       "Astronomical Observatory \u001b[1m(\u001b[0mIAO\u001b[1m)\u001b[0m in Hanle, nestled in the pristine heights of Ladakh, as the prime\n",
       "candidate for this revolutionary technology.===== Document \u001b[1;36m1\u001b[0m =====\n",
       "earth. Later, through a series of highly complex\n",
       "manoeuvres, the desired trajectories will be achieved.\n",
       "After circling the Earth in its T ransfer Orbit,\n",
       "Chandrayaan-\u001b[1;36m1\u001b[0m spacecraft will be taken into more\n",
       "elliptical ‘Extended T ransfer Orbits’ by repeatedly firing\n",
       "its Liquid Apogee Motor \u001b[1m(\u001b[0mLAM\u001b[1m)\u001b[0m in a pr-determined\n",
       "sequence. Subsequently, the LAM is again fired to\n",
       "make the spacecraft to travel to the vicinity of the\n",
       "moon.\n",
       "When it reaches the vicinity of the Moon and passes\n",
       "at a few hundred kilometers from it, its LAM is fired\n",
       "again so that the spacecraft slows down sufficiently\n",
       "to enable the gravity of the moon to capture it into\n",
       "an elliptical orbit.\n",
       "Following this, the height of the spacecraft’s orbit\n",
       "around the moon is reduced in steps. After a careful\n",
       "and detailed observation of the orbit perturbations\n",
       "there, the orbital height of Chandrayaan-\u001b[1;36m1\u001b[0m will be\n",
       "finally lowered to its intended \u001b[1;36m100\u001b[0m km height \u001b[33mfrom\u001b[0m===== Document \u001b[1;36m2\u001b[0m =====\n",
       "in elemental composition, and hence can serve as an excellent ground truth for future\n",
       "remote sensing missions.\n",
       "While these results have been from the Pragyan rover, the Vikram lander has brought\n",
       "out some insight about the lunar ground vibrations at the Shiv Shakti point. The ILSA\n",
       "payload onboard the Vikram lander has recorded over \u001b[1;36m250\u001b[0m distinct events, of which about\n",
       "\u001b[1;36m200\u001b[0m records are correlated to a few known activities involving physical movements by\n",
       "the rover or instruments for science experiments. The results have been published in the\n",
       "journal Icarus \u001b[1m(\u001b[0m\u001b[4;94mhttps://doi.org/10.1016/j.icarus.2024.116285\u001b[0m\u001b[4;94m)\u001b[0m\u001b[4;94m.\u001b[0m\n",
       "Chandrayaan-\u001b[1;36m3\u001b[0m has received the following prestigious awards:\n",
       "i. Rashtriya Vigyan \u001b[1m(\u001b[0mTeam\u001b[1m)\u001b[0m Puraskar – Team\n",
       "ii. International Astronautical Federation \u001b[1m(\u001b[0mIAF\u001b[1m)\u001b[0m Award for Excellence in Space\n",
       "Exploration\n",
       "iii. John L. ‘Jack’ Swigert Jr. Award for Space \u001b[33mExploration\u001b[0m===== Document \u001b[1;36m3\u001b[0m =====\n",
       "India and the other with Indian contribution\u001b[1m)\u001b[0m, one\n",
       "from Bulgaria and two from the United States.\n",
       "a\u001b[1m)\u001b[0m Indian payloads\n",
       "T errain Mapping Camera \u001b[1m(\u001b[0mTMC\u001b[1m)\u001b[0m, a CCD camera\n",
       "that maps the topography of the moon, which helps\n",
       "in better understanding of the lunar evolution process.\n",
       "Hyperspectral Imager \u001b[1m(\u001b[0mHySI\u001b[1m)\u001b[0m , another CCD\n",
       "camera, is designed for mapping of the minerals on\n",
       "the lunar surface as well as for understanding the\n",
       "mineralogical composition of Moon’s interior.\n",
       "Lunar Laser Ranging Instrument \u001b[1m(\u001b[0mLLRI\u001b[1m)\u001b[0m provides\n",
       "necessary data for accurately determining the height\n",
       "of lunar surface features.\n",
       "High Energy X-ray Spectrometer \u001b[1m(\u001b[0mHEX\u001b[1m)\u001b[0m  is\n",
       "designed to help explore the possibility of identifying\n",
       "Polar Regions covered by thick water-ice deposits as\n",
       "well as in identifying regions of high Uranium and\n",
       "Thorium concentrations.\n",
       "Moon Impact Probe \u001b[1m(\u001b[0mMIP\u001b[1m)\u001b[0m  demonstrates the\n",
       "technologies required for landing a probe at the\n",
       "desired location on the moon. It is also intended \u001b[33mto\u001b[0m===== Document \u001b[1;36m4\u001b[0m =====\n",
       "candidate for this revolutionary technology.\n",
       "While similar studies have been conducted in regions like Canada, Europe, and China, India's\n",
       "remarkable geographical diversity – from the Himalayas to coastal plains, from deserts to tropical\n",
       "regions – could make this analysis particularly valuable. The analysis takes into account the deeply\n",
       "interdisciplinary nature of satellite-based quantum communications, where success depends on\n",
       "understanding everything from high-precision telescope operations to complex atmospheric\n",
       "turbulence patterns that can distort quantum signals.\n",
       "This site in Hanle is a dry and a cold desert, with temperatures in winter plummeting to minus \u001b[1;36m25\u001b[0m to\n",
       "\u001b[1;36m30\u001b[0m degrees Celsius; suffers from low atmospheric water vapour levels and oxygen concentrations.\n",
       "“Hanle offers all required natural settings suitable for setting up a ground-station and undertaking\n",
       "quantum communication over long distances,” said Professor Urbasi Sinha, head, Quantum\n",
       "Information and Computing \u001b[1m(\u001b[0mQuIC\u001b[1m)\u001b[0m lab at the RRI, an autonomous institute funded by the Department\n",
       "of Science and Technology, Government of India.===== Document \u001b[1;36m5\u001b[0m =====\n",
       "landslides is live in Bhuvan for the three regions\n",
       "\u001b[1m(\u001b[0mUttarakhand, HP and NER\u001b[1m)\u001b[0m\n",
       "\n",
       "Under the International Charter on Space and Major Disasters, IRS data products were\n",
       "provided for \u001b[1;36m59\u001b[0m disaster events from \u001b[1;36m23\u001b[0m countries.\n",
       "\u001b[1;36m4\u001b[0m.\n",
       "Technology\n",
       "\u001b[35m/\u001b[0m\u001b[95mInfrastructure\u001b[0m\n",
       "Development\n",
       "\n",
       "Establishment of\n",
       "First Indigenous\n",
       "Titanium sponge plant\n",
       "of capacity 500T\n",
       "ons\n",
       "\u001b[33mper\u001b[0m===== Document \u001b[1;36m6\u001b[0m =====\n",
       "ISRO Headquarters, Antariksh Bhavan, New BEL RoadBengaluru-\u001b[1;36m560\u001b[0m \u001b[1;36m094\u001b[0m\n",
       "Phone: +\u001b[1;36m91\u001b[0m \u001b[1;36m80\u001b[0m \u001b[1;36m22172294\u001b[0m \u001b[35m/\u001b[0m 96Email: isropr|at\u001b[1m]\u001b[0misro|dot\u001b[1m]\u001b[0mgov|dot\u001b[1m]\u001b[0min\n",
       "RTI\n",
       "Feedback\n",
       "Contact us\n",
       "FAQ\n",
       "Website Policy\n",
       "Copyright Policy\n",
       "Hyper Linking Policy\n",
       "Terms of Use\n",
       "Archives\n",
       "Web Information Manager\n",
       "Space Policy\n",
       "Parliament Questions\n",
       "PIB\n",
       "e-Saral Hindi Vakyakosh\n",
       "conﬁguration till \u001b[1;36m100\u001b[0m km lunar orbit. The\n",
       "propulsion module has Spectro-polarimetry of\n",
       "Habitable Planet Earth \u001b[1m(\u001b[0mSHAPE\u001b[1m)\u001b[0m payload to\n",
       "study the spectral and Polari metric\n",
       "measurements of Earth from the lunar orbit.\n",
       "Aditya-L1\n",
       "Aditya-L1 is a satellite dedicated to the\n",
       "comprehensive study of the Sun. It has \u001b[1;36m7\u001b[0m\n",
       "distinct payloads developed, all developed\n",
       "indigenously. Five by ISRO and two by Indian\n",
       "academic institutes in collaboration with ISRO.\n",
       "Address\n"
      ]
     },
     "metadata": {},
     "output_type": "display_data"
    },
    {
     "data": {
      "text/html": [
       "<pre style=\"white-space:pre;overflow-x:auto;line-height:normal;font-family:Menlo,'DejaVu Sans Mono',consolas,'Courier New',monospace\"><span style=\"color: #7f7f7f; text-decoration-color: #7f7f7f\">[Step 1: Duration 2.21 seconds| Input tokens: 1,227 | Output tokens: 7]</span>\n",
       "</pre>\n"
      ],
      "text/plain": [
       "\u001b[2m[Step 1: Duration 2.21 seconds| Input tokens: 1,227 | Output tokens: 7]\u001b[0m\n"
      ]
     },
     "metadata": {},
     "output_type": "display_data"
    },
    {
     "data": {
      "text/html": [
       "<pre style=\"white-space:pre;overflow-x:auto;line-height:normal;font-family:Menlo,'DejaVu Sans Mono',consolas,'Courier New',monospace\"><span style=\"color: #d4b702; text-decoration-color: #d4b702\">━━━━━━━━━━━━━━━━━━━━━━━━━━━━━━━━━━━━━━━━━━━━━━━━━━━━━ </span><span style=\"font-weight: bold\">Step </span><span style=\"color: #008080; text-decoration-color: #008080; font-weight: bold\">2</span><span style=\"color: #d4b702; text-decoration-color: #d4b702\"> ━━━━━━━━━━━━━━━━━━━━━━━━━━━━━━━━━━━━━━━━━━━━━━━━━━━━━━</span>\n",
       "</pre>\n"
      ],
      "text/plain": [
       "\u001b[38;2;212;183;2m━━━━━━━━━━━━━━━━━━━━━━━━━━━━━━━━━━━━━━━━━━━━━━━━━━━━━ \u001b[0m\u001b[1mStep \u001b[0m\u001b[1;36m2\u001b[0m\u001b[38;2;212;183;2m ━━━━━━━━━━━━━━━━━━━━━━━━━━━━━━━━━━━━━━━━━━━━━━━━━━━━━━\u001b[0m\n"
      ]
     },
     "metadata": {},
     "output_type": "display_data"
    },
    {
     "data": {
      "text/html": [
       "<pre style=\"white-space:pre;overflow-x:auto;line-height:normal;font-family:Menlo,'DejaVu Sans Mono',consolas,'Courier New',monospace\">╭─────────────────────────────────────────────────────────────────────────────────────────────────────────────────╮\n",
       "│ Calling tool: 'final_answer' with arguments: {'answer': 'The Himalayan heights, specifically the Indian         │\n",
       "│ Astronomical Observatory (IAO) in Hanle, are particularly suitable for beaming quantum signals into space due   │\n",
       "│ to their pristine environment, low atmospheric water vapor, and oxygen concentrations.'}                        │\n",
       "╰─────────────────────────────────────────────────────────────────────────────────────────────────────────────────╯\n",
       "</pre>\n"
      ],
      "text/plain": [
       "╭─────────────────────────────────────────────────────────────────────────────────────────────────────────────────╮\n",
       "│ Calling tool: 'final_answer' with arguments: {'answer': 'The Himalayan heights, specifically the Indian         │\n",
       "│ Astronomical Observatory (IAO) in Hanle, are particularly suitable for beaming quantum signals into space due   │\n",
       "│ to their pristine environment, low atmospheric water vapor, and oxygen concentrations.'}                        │\n",
       "╰─────────────────────────────────────────────────────────────────────────────────────────────────────────────────╯\n"
      ]
     },
     "metadata": {},
     "output_type": "display_data"
    },
    {
     "data": {
      "text/html": [
       "<pre style=\"white-space:pre;overflow-x:auto;line-height:normal;font-family:Menlo,'DejaVu Sans Mono',consolas,'Courier New',monospace\">Observations: The Himalayan heights, specifically the Indian Astronomical Observatory <span style=\"font-weight: bold\">(</span>IAO<span style=\"font-weight: bold\">)</span> in Hanle, are \n",
       "particularly suitable for beaming quantum signals into space due to their pristine environment, low atmospheric \n",
       "water vapor, and oxygen concentrations.\n",
       "</pre>\n"
      ],
      "text/plain": [
       "Observations: The Himalayan heights, specifically the Indian Astronomical Observatory \u001b[1m(\u001b[0mIAO\u001b[1m)\u001b[0m in Hanle, are \n",
       "particularly suitable for beaming quantum signals into space due to their pristine environment, low atmospheric \n",
       "water vapor, and oxygen concentrations.\n"
      ]
     },
     "metadata": {},
     "output_type": "display_data"
    },
    {
     "data": {
      "text/html": [
       "<pre style=\"white-space:pre;overflow-x:auto;line-height:normal;font-family:Menlo,'DejaVu Sans Mono',consolas,'Courier New',monospace\"><span style=\"color: #d4b702; text-decoration-color: #d4b702; font-weight: bold\">Final answer: The Himalayan heights, specifically the Indian Astronomical Observatory (IAO) in Hanle, are </span>\n",
       "<span style=\"color: #d4b702; text-decoration-color: #d4b702; font-weight: bold\">particularly suitable for beaming quantum signals into space due to their pristine environment, low atmospheric </span>\n",
       "<span style=\"color: #d4b702; text-decoration-color: #d4b702; font-weight: bold\">water vapor, and oxygen concentrations.</span>\n",
       "</pre>\n"
      ],
      "text/plain": [
       "\u001b[1;38;2;212;183;2mFinal answer: The Himalayan heights, specifically the Indian Astronomical Observatory (IAO) in Hanle, are \u001b[0m\n",
       "\u001b[1;38;2;212;183;2mparticularly suitable for beaming quantum signals into space due to their pristine environment, low atmospheric \u001b[0m\n",
       "\u001b[1;38;2;212;183;2mwater vapor, and oxygen concentrations.\u001b[0m\n"
      ]
     },
     "metadata": {},
     "output_type": "display_data"
    },
    {
     "data": {
      "text/html": [
       "<pre style=\"white-space:pre;overflow-x:auto;line-height:normal;font-family:Menlo,'DejaVu Sans Mono',consolas,'Courier New',monospace\"><span style=\"color: #7f7f7f; text-decoration-color: #7f7f7f\">[Step 2: Duration 1.33 seconds| Input tokens: 4,026 | Output tokens: 52]</span>\n",
       "</pre>\n"
      ],
      "text/plain": [
       "\u001b[2m[Step 2: Duration 1.33 seconds| Input tokens: 4,026 | Output tokens: 52]\u001b[0m\n"
      ]
     },
     "metadata": {},
     "output_type": "display_data"
    }
   ],
   "source": [
    "output = agent.run(\"What are himalyan heights most suitable for?\")"
   ]
  },
  {
   "cell_type": "code",
   "execution_count": 24,
   "id": "117c1fb1",
   "metadata": {},
   "outputs": [
    {
     "name": "stdout",
     "output_type": "stream",
     "text": [
      "[(\"MENU\\nHome \\xa0>>\\xa0Himalayan heights potentially perfect for India's 'Quantum Leap' to space: Study\\nHimalayan heights potentially perfect for India's 'QuantumLeap' to space: Study\\nIn a pioneering study for\", np.float32(0.35979202), {'producer': 'Skia/PDF m133', 'creator': 'Mozilla/5.0 (Macintosh; Intel Mac OS X 10_15_7) AppleWebKit/537.36 (KHTML, like Gecko) Chrome/133.0.0.0 Safari/537.36', 'creationdate': '2025-02-25T18:40:23+00:00', 'title': \"Himalayan heights potentially perfect for India's 'Quantum Leap' to space: Study | Department Of Science & Technology\", 'moddate': '2025-02-25T18:40:23+00:00', 'source': 'Himalayan heights potentially perfect for India_s _Quantum Leap_ to space_ Study _ Department Of Science & Technology', 'total_pages': 3, 'page': 0, 'page_label': '1', 'page_num': 0, 'start_index': 0}), ('India and the other with Indian contribution), one\\nfrom Bulgaria and two from the United States.\\na) Indian payloads\\nT errain Mapping Camera (TMC), a CCD camera\\nthat maps the topography of the moon, wh', np.float32(0.37592107), {'producer': 'PDFKit.NET 4.0.67.0', 'creator': '', 'creationdate': 'D:20090209152927', 'subject': '', 'author': '', 'keywords': '', 'moddate': 'D:20161102151443', 'title': '', 'source': 'ISRO - Indian Space Program publication(6)', 'total_pages': 22, 'page': 6, 'page_label': '7', 'page_num': 6, 'start_index': 0}), ('3 Current and Planned Mega Projects and Facilities  ..........................................................................................57', np.float32(0.37669504), {'producer': 'iLovePDF', 'creator': 'Acrobat PDFMaker 11 for Word', 'creationdate': '2023-12-06T15:01:50+05:30', 'author': 'Amol Dighe', 'company': '', 'sourcemodified': 'D:20231206092752', 'subject': 'A Roadmap prepared by the Indian Nuclear Physics Communitywith TIFR, Mumbai as the Nodal Scientific Institution', 'title': 'Mega Science Vision – 2035   Nuclear Physics', 'moddate': '2024-01-24T10:12:18+00:00', 'source': 'DST - MSV2035-NP-Final', 'total_pages': 140, 'page': 16, 'page_label': '17', 'page_num': 16, 'start_index': 3114}), ('landslides is live in Bhuvan for the three regions\\n(Uttarakhand, HP and NER)\\n\\uf0b7\\nUnder the International Charter on Space and Major Disasters, IRS data products were\\nprovided for 59 disaster events from', np.float32(0.38245532), {'producer': 'Foxit PhantomPDF Printer Version 6.0.4.1129', 'creator': '', 'creationdate': '2018-05-29T16:24:45+05:30', 'author': '', 'keywords': '', 'moddate': '2018-05-29T16:24:45+05:30', 'subject': '', 'title': '', 'source': 'PIB - Indian Space Achievements', 'total_pages': 9, 'page': 5, 'page_label': '6', 'page_num': 5, 'start_index': 1681})]\n"
     ]
    }
   ],
   "source": [
    "def semantic_search(query: str, k: int = 4):\n",
    "    docs_and_scores = vector_db.similarity_search_with_score(query, k=k)\n",
    "    return [(d.page_content[:200], score, d.metadata) for d, score in docs_and_scores]\n",
    "\n",
    "print(semantic_search(\"What are himalyan heights most suitable for?\"))"
   ]
  }
 ],
 "metadata": {
  "kernelspec": {
   "display_name": ".venv",
   "language": "python",
   "name": "python3"
  },
  "language_info": {
   "codemirror_mode": {
    "name": "ipython",
    "version": 3
   },
   "file_extension": ".py",
   "mimetype": "text/x-python",
   "name": "python",
   "nbconvert_exporter": "python",
   "pygments_lexer": "ipython3",
   "version": "3.13.0"
  }
 },
 "nbformat": 4,
 "nbformat_minor": 5
}
