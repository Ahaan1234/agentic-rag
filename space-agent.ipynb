{
 "cells": [
  {
   "cell_type": "code",
   "execution_count": 3,
   "id": "00a456e1",
   "metadata": {},
   "outputs": [
    {
     "name": "stderr",
     "output_type": "stream",
     "text": [
      "Reading PDFs: 100%|██████████| 13/13 [00:11<00:00,  1.17it/s]\n"
     ]
    }
   ],
   "source": [
    "import pathlib\n",
    "\n",
    "PDF_DIR = pathlib.Path(\"data/raw\")\n",
    "pdf_paths = sorted(PDF_DIR.glob(\"*.pdf\"))\n",
    "assert pdf_paths, \"No PDFs found - check path\"\n",
    "\n",
    "from langchain_community.document_loaders import UnstructuredPDFLoader, PyPDFLoader\n",
    "from langchain.docstore.document import Document\n",
    "from tqdm import tqdm\n",
    "\n",
    "source_docs = []\n",
    "\n",
    "for path in tqdm(pdf_paths, desc=\"Reading PDFs\"):\n",
    "    try:\n",
    "        loader = PyPDFLoader(str(path))\n",
    "        pages = list(loader.lazy_load())\n",
    "    except Exception as e:\n",
    "        print(f\"Failed at {path.name}: {e}\")\n",
    "        continue\n",
    "    for p in pages:\n",
    "        # Unstructured returns one Document per page by default\n",
    "        p.metadata[\"source\"] = path.stem                 # short source name\n",
    "        p.metadata[\"page_num\"] = p.metadata.get(\"page\")  # keep original page index\n",
    "    source_docs.extend(pages)"
   ]
  },
  {
   "cell_type": "code",
   "execution_count": 4,
   "id": "6d335d8a",
   "metadata": {},
   "outputs": [],
   "source": [
    "import re\n",
    "\n",
    "for d in source_docs :\n",
    "    txt = d.page_content\n",
    "    txt = re.sub(r\"\\s+\\n\", \"\\n\", txt)\n",
    "    txt = re.sub(r\"\\n{3,}\", \"\\n\\n\", txt)\n",
    "    d.page_content = txt.strip()"
   ]
  },
  {
   "cell_type": "code",
   "execution_count": 11,
   "id": "4b03ef5a",
   "metadata": {},
   "outputs": [
    {
     "data": {
      "application/vnd.jupyter.widget-view+json": {
       "model_id": "c7d98464caf74f77b09c577168d60f30",
       "version_major": 2,
       "version_minor": 0
      },
      "text/plain": [
       "tokenizer_config.json:   0%|          | 0.00/394 [00:00<?, ?B/s]"
      ]
     },
     "metadata": {},
     "output_type": "display_data"
    },
    {
     "data": {
      "application/vnd.jupyter.widget-view+json": {
       "model_id": "286a3058768e43178613638b0d33bb5b",
       "version_major": 2,
       "version_minor": 0
      },
      "text/plain": [
       "vocab.txt: 0.00B [00:00, ?B/s]"
      ]
     },
     "metadata": {},
     "output_type": "display_data"
    },
    {
     "data": {
      "application/vnd.jupyter.widget-view+json": {
       "model_id": "22cc38703e7b4442a63000400b4f92d3",
       "version_major": 2,
       "version_minor": 0
      },
      "text/plain": [
       "tokenizer.json: 0.00B [00:00, ?B/s]"
      ]
     },
     "metadata": {},
     "output_type": "display_data"
    },
    {
     "data": {
      "application/vnd.jupyter.widget-view+json": {
       "model_id": "5388382784c04aabbdc25b0cd6830998",
       "version_major": 2,
       "version_minor": 0
      },
      "text/plain": [
       "special_tokens_map.json:   0%|          | 0.00/125 [00:00<?, ?B/s]"
      ]
     },
     "metadata": {},
     "output_type": "display_data"
    },
    {
     "name": "stdout",
     "output_type": "stream",
     "text": [
      "Splitting and deduplicating...\n"
     ]
    },
    {
     "name": "stderr",
     "output_type": "stream",
     "text": [
      "100%|██████████| 432/432 [00:03<00:00, 137.62it/s]\n"
     ]
    }
   ],
   "source": [
    "from transformers import AutoTokenizer\n",
    "from langchain.text_splitter import RecursiveCharacterTextSplitter\n",
    "\n",
    "spliiter = RecursiveCharacterTextSplitter.from_huggingface_tokenizer(\n",
    "    AutoTokenizer.from_pretrained(\"thenlper/gte-small\"),\n",
    "    chunk_size = 200,\n",
    "    chunk_overlap=20,\n",
    "    add_start_index = True,\n",
    "    strip_whitespace = True\n",
    ")\n",
    "\n",
    "print(\"Splitting and deduplicating...\")\n",
    "\n",
    "docs_processed, seen = [], set()\n",
    "\n",
    "for doc in tqdm(source_docs) :\n",
    "    for chunk in spliiter.split_documents([doc]):\n",
    "        if chunk.page_content not in seen:\n",
    "            seen.add(chunk.page_content)\n",
    "            docs_processed.append(chunk)"
   ]
  },
  {
   "cell_type": "markdown",
   "id": "2f7850f0",
   "metadata": {},
   "source": [
    "The above block is used to process raw text content into FAISS's expected format."
   ]
  },
  {
   "cell_type": "code",
   "execution_count": null,
   "id": "5268b496",
   "metadata": {},
   "outputs": [
    {
     "name": "stdout",
     "output_type": "stream",
     "text": [
      "<class 'langchain_core.documents.base.Document'>\n",
      "{'producer': 'iLovePDF', 'creator': 'Acrobat PDFMaker 11 for Word', 'creationdate': '2023-12-06T15:01:50+05:30', 'author': 'Amol Dighe', 'company': '', 'sourcemodified': 'D:20231206092752', 'subject': 'A Roadmap prepared by the Indian Nuclear Physics Communitywith TIFR, Mumbai as the Nodal Scientific Institution', 'title': 'Mega Science Vision – 2035   Nuclear Physics', 'moddate': '2024-01-24T10:12:18+00:00', 'source': 'DST - MSV2035-NP-Final', 'total_pages': 140, 'page': 14, 'page_label': '15', 'page_num': 14, 'start_index': 0}\n",
      "MEGA SCIENCE VISION – 2035   NUCLEAR PHYSICS\n",
      "3\n",
      "THE DRAFTING AND WO RKING GROUPS\n",
      "Director TIFR, Mumbai –\n",
      "Dr. Jayaram Chengalur / Dr. S. Ramakrishnan / Dr. Sandip Trivedi Chairperson\n",
      "Members from the D rafting Group\n",
      "Dr. Alphonsa Joseph Palakkel, IPR, Gandhinagar Member\n",
      "Dr. Aradhana Srivastava, BARC, Mumbai Member\n",
      "Dr. Bedangadas Mohanty, NISER, Bhubaneswar Member\n",
      "Dr. Rudrajyoti Palit, TIFR, Mumbai Member\n",
      "Other expert members\n",
      "Dr. Akhil Jhingan, IUAC, New Delhi Member\n",
      "Dr. Javed A. Sheikh, Kashmir University, Srinagar Member\n",
      "Dr. Lokesh Kumar, Panjab University, Chandigarh Member\n",
      "Dr. P. K. Atrey, IPR, Gandhinagar Member\n",
      "Dr. Rajdeep Chatterjee, IIT-Roorkee Member\n"
     ]
    }
   ],
   "source": [
    "## SANITY CHECK - MAKE SURE THAT OUR CODE WORKED AND DOCUMENTS WERE CREATED\n",
    "\n",
    "doc = docs_processed[15]\n",
    "print(type(doc))\n",
    "print(doc.metadata)\n",
    "print(doc.page_content[:1000])"
   ]
  },
  {
   "cell_type": "code",
   "execution_count": 14,
   "id": "6905f167",
   "metadata": {},
   "outputs": [
    {
     "data": {
      "application/vnd.jupyter.widget-view+json": {
       "model_id": "1fb2681222104993ab35e57bea826954",
       "version_major": 2,
       "version_minor": 0
      },
      "text/plain": [
       "modules.json:   0%|          | 0.00/385 [00:00<?, ?B/s]"
      ]
     },
     "metadata": {},
     "output_type": "display_data"
    },
    {
     "data": {
      "application/vnd.jupyter.widget-view+json": {
       "model_id": "8db91a4e49294720abb68c47e384ed3f",
       "version_major": 2,
       "version_minor": 0
      },
      "text/plain": [
       "README.md: 0.00B [00:00, ?B/s]"
      ]
     },
     "metadata": {},
     "output_type": "display_data"
    },
    {
     "data": {
      "application/vnd.jupyter.widget-view+json": {
       "model_id": "54b7eec34c5b42c5a336a8ad26564e8d",
       "version_major": 2,
       "version_minor": 0
      },
      "text/plain": [
       "sentence_bert_config.json:   0%|          | 0.00/57.0 [00:00<?, ?B/s]"
      ]
     },
     "metadata": {},
     "output_type": "display_data"
    },
    {
     "data": {
      "application/vnd.jupyter.widget-view+json": {
       "model_id": "3302728021c347cb8c7ddd097172a13f",
       "version_major": 2,
       "version_minor": 0
      },
      "text/plain": [
       "config.json:   0%|          | 0.00/583 [00:00<?, ?B/s]"
      ]
     },
     "metadata": {},
     "output_type": "display_data"
    },
    {
     "data": {
      "application/vnd.jupyter.widget-view+json": {
       "model_id": "6114cf70748a40aaa36c016ff53993f7",
       "version_major": 2,
       "version_minor": 0
      },
      "text/plain": [
       "model.safetensors:   0%|          | 0.00/66.7M [00:00<?, ?B/s]"
      ]
     },
     "metadata": {},
     "output_type": "display_data"
    },
    {
     "data": {
      "application/vnd.jupyter.widget-view+json": {
       "model_id": "5e2a3c869a0c4a04b3697a4af41f81f9",
       "version_major": 2,
       "version_minor": 0
      },
      "text/plain": [
       "config.json:   0%|          | 0.00/190 [00:00<?, ?B/s]"
      ]
     },
     "metadata": {},
     "output_type": "display_data"
    }
   ],
   "source": [
    "from langchain_community.embeddings import HuggingFaceEmbeddings\n",
    "from langchain.vectorstores import FAISS\n",
    "from langchain.vectorstores.utils import DistanceStrategy\n",
    "\n",
    "embed = HuggingFaceEmbeddings(model_name=\"thenlper/gte-small\")\n",
    "\n",
    "vector_db = FAISS.from_documents(docs_processed, embedding=embed, distance_strategy = DistanceStrategy.COSINE)\n",
    "\n",
    "FAISS.save_local(vector_db, \"data/processed/faiss_index\")"
   ]
  },
  {
   "cell_type": "code",
   "execution_count": 15,
   "id": "6c3e8562",
   "metadata": {},
   "outputs": [
    {
     "name": "stdout",
     "output_type": "stream",
     "text": [
      "[('contributions cancel each other and we are left with only the\\nneutron contribution, equal to −\\n√\\n2G F nn /2 for both types\\nof neutrinos. The Hamiltonian, diagonal in the space of mass\\neigenstates, can', np.float32(0.17666492), {'producer': 'PyPDF', 'creator': 'Springer', 'creationdate': '2019-08-19T20:20:07+05:30', 'crossmarkdomains[1]': 'springer.com', 'crossmarkdomains[2]': 'springerlink.com', 'crossmarkdomainexclusive': 'true', 'crossmarkmajorversiondate': '2010-04-23', 'moddate': '2019-09-10T15:11:02+05:30', 'doi': '10.1140/epjc/s10052-019-7209-2', 'robots': 'noindex', 'source': 'DST - s10052-019-7209-2', 'total_pages': 7, 'page': 4, 'page_label': '5', 'page_num': 4, 'start_index': -1}), ('Eur. Phys. J. C (2019) 79:697\\nhttps://doi.org/10.1140/epjc/s10052-019-7209-2\\nLetter\\nGeometrical contribution to neutrino mass matrix\\nSubhasish Chakrabarty a, Amitabha Lahiri b\\nS. N. Bose National Cent', np.float32(0.20019564), {'producer': 'PyPDF', 'creator': 'Springer', 'creationdate': '2019-08-19T20:20:07+05:30', 'crossmarkdomains[1]': 'springer.com', 'crossmarkdomains[2]': 'springerlink.com', 'crossmarkdomainexclusive': 'true', 'crossmarkmajorversiondate': '2010-04-23', 'moddate': '2019-09-10T15:11:02+05:30', 'doi': '10.1140/epjc/s10052-019-7209-2', 'robots': 'noindex', 'source': 'DST - s10052-019-7209-2', 'total_pages': 7, 'page': 0, 'page_label': '1', 'page_num': 0, 'start_index': 0}), ('Eur. Phys. J. C (2019) 79 :697 Page 5 of 7 697\\nprobability of conversion of one particular ﬂavor of neutrino\\ninto the other becomes\\nPconv = sin2 2θ sin2\\n( ρ2Δλ2\\n4E x\\n)\\n, (21)\\nwhere Δλ2 =| λ2\\nν2 − λ2\\nν', np.float32(0.22440876), {'producer': 'PyPDF', 'creator': 'Springer', 'creationdate': '2019-08-19T20:20:07+05:30', 'crossmarkdomains[1]': 'springer.com', 'crossmarkdomains[2]': 'springerlink.com', 'crossmarkdomainexclusive': 'true', 'crossmarkmajorversiondate': '2010-04-23', 'moddate': '2019-09-10T15:11:02+05:30', 'doi': '10.1140/epjc/s10052-019-7209-2', 'robots': 'noindex', 'source': 'DST - s10052-019-7209-2', 'total_pages': 7, 'page': 4, 'page_label': '5', 'page_num': 4, 'start_index': 0}), ('oscillation formula, but even more interestingly, this term\\nwill cause neutrino oscillations even if neutrinos are mass-\\nless. In that case, with two species of neutrinos we should\\nreplace |m\\n2\\n2 −m2\\n', np.float32(0.22511709), {'producer': 'PyPDF', 'creator': 'Springer', 'creationdate': '2019-08-19T20:20:07+05:30', 'crossmarkdomains[1]': 'springer.com', 'crossmarkdomains[2]': 'springerlink.com', 'crossmarkdomainexclusive': 'true', 'crossmarkmajorversiondate': '2010-04-23', 'moddate': '2019-09-10T15:11:02+05:30', 'doi': '10.1140/epjc/s10052-019-7209-2', 'robots': 'noindex', 'source': 'DST - s10052-019-7209-2', 'total_pages': 7, 'page': 3, 'page_label': '4', 'page_num': 3, 'start_index': -1})]\n"
     ]
    }
   ],
   "source": [
    "def semantic_search(query: str, k: int = 4):\n",
    "    docs_and_scores = vector_db.similarity_search_with_score(query, k=k)\n",
    "    return [(d.page_content[:200], score, d.metadata) for d, score in docs_and_scores]\n",
    "\n",
    "print(semantic_search(\"Explain in simple words what is the geometrical contribution to neutrino mass matrix\"))\n"
   ]
  }
 ],
 "metadata": {
  "kernelspec": {
   "display_name": ".venv",
   "language": "python",
   "name": "python3"
  },
  "language_info": {
   "codemirror_mode": {
    "name": "ipython",
    "version": 3
   },
   "file_extension": ".py",
   "mimetype": "text/x-python",
   "name": "python",
   "nbconvert_exporter": "python",
   "pygments_lexer": "ipython3",
   "version": "3.13.0"
  }
 },
 "nbformat": 4,
 "nbformat_minor": 5
}
