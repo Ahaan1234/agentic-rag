{
 "cells": [
  {
   "cell_type": "code",
   "execution_count": 3,
   "id": "00a456e1",
   "metadata": {},
   "outputs": [
    {
     "name": "stderr",
     "output_type": "stream",
     "text": [
      "Reading PDFs: 100%|██████████| 13/13 [00:11<00:00,  1.17it/s]\n"
     ]
    }
   ],
   "source": [
    "import pathlib\n",
    "\n",
    "PDF_DIR = pathlib.Path(\"data/raw\")\n",
    "pdf_paths = sorted(PDF_DIR.glob(\"*.pdf\"))\n",
    "assert pdf_paths, \"No PDFs found - check path\"\n",
    "\n",
    "from langchain_community.document_loaders import UnstructuredPDFLoader, PyPDFLoader\n",
    "from langchain.docstore.document import Document\n",
    "from tqdm import tqdm\n",
    "\n",
    "source_docs = []\n",
    "\n",
    "for path in tqdm(pdf_paths, desc=\"Reading PDFs\"):\n",
    "    try:\n",
    "        loader = PyPDFLoader(str(path))\n",
    "        pages = list(loader.lazy_load())\n",
    "    except Exception as e:\n",
    "        print(f\"Failed at {path.name}: {e}\")\n",
    "        continue\n",
    "    for p in pages:\n",
    "        # Unstructured returns one Document per page by default\n",
    "        p.metadata[\"source\"] = path.stem                 # short source name\n",
    "        p.metadata[\"page_num\"] = p.metadata.get(\"page\")  # keep original page index\n",
    "    source_docs.extend(pages)"
   ]
  },
  {
   "cell_type": "code",
   "execution_count": 4,
   "id": "6d335d8a",
   "metadata": {},
   "outputs": [],
   "source": [
    "import re\n",
    "\n",
    "for d in source_docs :\n",
    "    txt = d.page_content\n",
    "    txt = re.sub(r\"\\s+\\n\", \"\\n\", txt)\n",
    "    txt = re.sub(r\"\\n{3,}\", \"\\n\\n\", txt)\n",
    "    d.page_content = txt.strip()"
   ]
  },
  {
   "cell_type": "code",
   "execution_count": null,
   "id": "4b03ef5a",
   "metadata": {},
   "outputs": [
    {
     "name": "stdout",
     "output_type": "stream",
     "text": [
      "<class 'langchain_core.documents.base.Document'>\n",
      "{'producer': 'iLovePDF', 'creator': 'Acrobat PDFMaker 11 for Word', 'creationdate': '2023-12-06T15:01:50+05:30', 'author': 'Amol Dighe', 'company': '', 'sourcemodified': 'D:20231206092752', 'subject': 'A Roadmap prepared by the Indian Nuclear Physics Communitywith TIFR, Mumbai as the Nodal Scientific Institution', 'title': 'Mega Science Vision – 2035   Nuclear Physics', 'moddate': '2024-01-24T10:12:18+00:00', 'source': 'DST - MSV2035-NP-Final', 'total_pages': 140, 'page': 20, 'page_label': '21', 'page_num': 20}\n",
      "MEGA SCIENCE VISION – 2035   NUCLEAR PHYSICS\n",
      "9\n",
      "❖ RECOMMENDATIONS ON IN FRASTRUCTURE -\n",
      "BUILDING INITIATIVES\n",
      "For the success of the science goals listed above, several new initiatives need to be taken. Some of them are listed below:\n",
      "A. Detector and accelerator research and development : One of the key and crucial drivers for sustained\n",
      "advancement of the Indian Nuclear Physics community in MSPs is the capability to develop state -of-the-art\n",
      "detection facilities. Establishment of a few National Detector Development and Training Centres (ND DTC)\n",
      "having clear scientific goals is recommended, preferably at places which are hubs of activities in nuclear\n",
      "physics. These are essential for the long -term success of MSP activities and should be open to all the scientists\n",
      "and engineers involved in MSPs. In order to make India an attractive place for hosting MSPs, steps should be\n",
      "taken towards building a world -class multi-purpose underground laboratory facility, identify ing and opening\n",
      "research rea\n"
     ]
    }
   ],
   "source": [
    "from transformers import AutoTokenizer\n",
    "from langchain.text_splitter import RecursiveCharacterTextSplitter\n",
    "\n",
    "spliiter = RecursiveCharacterTextSplitter.from_huggingface_tokenizer(\n",
    "    AutoTokenizer.from_pretrained(\"thenlper/gte-small\")\n",
    ")"
   ]
  }
 ],
 "metadata": {
  "kernelspec": {
   "display_name": ".venv",
   "language": "python",
   "name": "python3"
  },
  "language_info": {
   "codemirror_mode": {
    "name": "ipython",
    "version": 3
   },
   "file_extension": ".py",
   "mimetype": "text/x-python",
   "name": "python",
   "nbconvert_exporter": "python",
   "pygments_lexer": "ipython3",
   "version": "3.13.0"
  }
 },
 "nbformat": 4,
 "nbformat_minor": 5
}
